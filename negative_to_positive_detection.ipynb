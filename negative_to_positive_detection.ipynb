{
 "cells": [
  {
   "cell_type": "code",
   "execution_count": 1,
   "metadata": {},
   "outputs": [],
   "source": [
    "import pandas as pd\n",
    "import numpy as np\n",
    "import random"
   ]
  },
  {
   "cell_type": "code",
   "execution_count": 2,
   "metadata": {},
   "outputs": [],
   "source": [
    "def top_percentuale(df, perc):\n",
    "    length = df.shape[0]\n",
    "    end = round(length * perc)\n",
    "    return df[:end]"
   ]
  },
  {
   "cell_type": "code",
   "execution_count": 3,
   "metadata": {
    "metadata": {}
   },
   "outputs": [],
   "source": [
    "path = \"./Df completi\""
   ]
  },
  {
   "cell_type": "code",
   "execution_count": 4,
   "metadata": {},
   "outputs": [],
   "source": [
    "infl_a = pd.read_csv(f\"{path}/influencers_asthma.csv\")\n",
    "infl_l = pd.read_csv(f\"{path}/influencers_lungs.csv\")"
   ]
  },
  {
   "cell_type": "code",
   "execution_count": 5,
   "metadata": {},
   "outputs": [],
   "source": [
    "top_infl_a = list(top_percentuale(infl_a, 0.01).Id)\n",
    "top_infl_l = list(top_percentuale(infl_l, 0.01).Id)"
   ]
  },
  {
   "cell_type": "code",
   "execution_count": 8,
   "metadata": {},
   "outputs": [
    {
     "name": "stdout",
     "output_type": "stream",
     "text": [
      "16\n",
      "32\n"
     ]
    }
   ],
   "source": [
    "print(len(top_infl_a))\n",
    "print(len(top_infl_l))"
   ]
  },
  {
   "cell_type": "code",
   "execution_count": 6,
   "metadata": {},
   "outputs": [
    {
     "data": {
      "text/plain": [
       "['Poobah',\n",
       " 'EmmaF91',\n",
       " 'twinkly29',\n",
       " 'Lysistrata',\n",
       " 'Wheezycat',\n",
       " 'ChrissieMons',\n",
       " 'elanaoali',\n",
       " 'Minushabens',\n",
       " 'MaggieHP',\n",
       " 'Chip_y2kuk',\n",
       " 'Troilus',\n",
       " 'Matman',\n",
       " 'hilary39',\n",
       " 'strongmouse',\n",
       " 'emmasue',\n",
       " 'risabel59']"
      ]
     },
     "execution_count": 6,
     "metadata": {},
     "output_type": "execute_result"
    }
   ],
   "source": [
    "top_infl_a"
   ]
  },
  {
   "cell_type": "code",
   "execution_count": 7,
   "metadata": {},
   "outputs": [
    {
     "data": {
      "text/plain": [
       "['sassy59',\n",
       " 'Ergendl',\n",
       " 'Caspiana',\n",
       " 'peege',\n",
       " 'Damon1864',\n",
       " '2greys',\n",
       " 'mrsmummy',\n",
       " 'O2Trees',\n",
       " 'Izb1',\n",
       " 'stone-UK',\n",
       " 'katieoxo60',\n",
       " 'Dedalus',\n",
       " 'Bkin',\n",
       " 'hypercat54',\n",
       " 'knitter',\n",
       " 'Alberta56',\n",
       " 'cofdrop-UK',\n",
       " 'skischool',\n",
       " 'Badbessie',\n",
       " 'CDPO16',\n",
       " 'Katinka46',\n",
       " 'Hacienda',\n",
       " 'Patk1',\n",
       " 'Littlepom',\n",
       " 'HungryHufflepuff',\n",
       " 'Spacecat1',\n",
       " 'watergazer',\n",
       " 'MoyB',\n",
       " 'Kristicats',\n",
       " 'Carnival567',\n",
       " 'Toci',\n",
       " 'Watfordgirl']"
      ]
     },
     "execution_count": 7,
     "metadata": {},
     "output_type": "execute_result"
    }
   ],
   "source": [
    "top_infl_l"
   ]
  },
  {
   "cell_type": "code",
   "execution_count": 4,
   "metadata": {
    "metadata": {}
   },
   "outputs": [],
   "source": [
    "infl_a = pd.read_csv(f\"{path}/influencers_asthma.csv\")\n",
    "# infl_a = pd.read_csv(f\"{path}/influencers_lungs.csv\")\n",
    "\n",
    "df_a = pd.read_csv(f\"{path}/df_asthma_biobert_semeval.csv\")\n",
    "post_a = pd.read_csv(f\"{path}/post_asthma_biobert_semeval_.csv\")\n",
    "\n",
    "# df_a = pd.read_csv(f\"{path}/df_lungs_semeval_completo.csv\")\n",
    "# post_a = pd.read_csv(f\"{path}/post_blf_biobert_semeval_.csv\")   "
   ]
  },
  {
   "cell_type": "code",
   "execution_count": 5,
   "metadata": {
    "metadata": {}
   },
   "outputs": [],
   "source": [
    "top_infl_a = list(top_percentuale(infl_a, 0.01).Id)"
   ]
  },
  {
   "cell_type": "code",
   "execution_count": 6,
   "metadata": {},
   "outputs": [
    {
     "data": {
      "text/plain": [
       "Index(['text', 'author', 'likes', 'time', 'id', 'parent_id', 'url', 'target',\n",
       "       'text_processed', 'text_lemmatised', 'sentiment'],\n",
       "      dtype='object')"
      ]
     },
     "execution_count": 6,
     "metadata": {},
     "output_type": "execute_result"
    }
   ],
   "source": [
    "df_a.columns"
   ]
  },
  {
   "cell_type": "code",
   "execution_count": 7,
   "metadata": {},
   "outputs": [],
   "source": [
    "post_a[\"parent_id\"] = np.nan\n",
    "post_a = post_a[['text', 'author', 'likes', 'time', 'id', 'parent_id', 'url', 'sentiment']]\n",
    "# df_a = df_a[['text', 'author', 'likes', 'time', 'id', 'parent_id', 'url', 'sentiment']]"
   ]
  },
  {
   "cell_type": "code",
   "execution_count": 101,
   "metadata": {},
   "outputs": [
    {
     "data": {
      "text/plain": [
       "Index(['text', 'author', 'likes', 'time', 'id', 'parent_id', 'url',\n",
       "       'sentiment'],\n",
       "      dtype='object')"
      ]
     },
     "execution_count": 101,
     "metadata": {},
     "output_type": "execute_result"
    }
   ],
   "source": [
    "post_a.columns"
   ]
  },
  {
   "cell_type": "code",
   "execution_count": 102,
   "metadata": {},
   "outputs": [],
   "source": [
    "current_post = \"\"\n",
    "previous_post = \"\"\n",
    "indexes = []\n",
    "for index, row in df_a.iterrows():\n",
    "    if row.id.startswith(\"tc\"):\n",
    "    # if row.id.startswith(\"tc\"):    \n",
    "        current_post = row.parent_id\n",
    "        # if current_post != previous_post:\n",
    "        indexes.append(index)\n",
    "            # previous_post = current_post"
   ]
  },
  {
   "cell_type": "code",
   "execution_count": null,
   "metadata": {},
   "outputs": [],
   "source": [
    "indexes[:5]"
   ]
  },
  {
   "cell_type": "code",
   "execution_count": null,
   "metadata": {},
   "outputs": [],
   "source": [
    "df_a[\"thread\"] = 0\n",
    "df_a[\"su_in_thread\"] = False"
   ]
  },
  {
   "cell_type": "code",
   "execution_count": 241,
   "metadata": {},
   "outputs": [],
   "source": [
    "df_tot = pd.DataFrame()"
   ]
  },
  {
   "cell_type": "markdown",
   "metadata": {},
   "source": [
    "### Asthma"
   ]
  },
  {
   "cell_type": "code",
   "execution_count": null,
   "metadata": {},
   "outputs": [],
   "source": [
    "counter = 0\n",
    "for index in indexes:\n",
    "    # id = post_a[post_a.id == df_a.iloc[index + counter].parent_id].id.item()\n",
    "    # df_a = pd.concat([df_a.loc[: index + counter], post_a[post_a.id == id], df_a.iloc[index + counter:]]).reset_index(drop=True)\n",
    "    if post_a[post_a.id == df_a.iloc[index + counter].parent_id].shape[0] == 0:\n",
    "        continue\n",
    "    id = post_a[post_a.id == df_a.iloc[index + counter].parent_id].id.item()\n",
    "    df_a = pd.concat([df_a.iloc[: index + counter], post_a[post_a.id == id], df_a.iloc[index + counter :]]).reset_index(drop=True)\n",
    "    counter += 1\n",
    "    print(counter, end = \"\\r\")\n"
   ]
  },
  {
   "cell_type": "code",
   "execution_count": 76,
   "metadata": {},
   "outputs": [
    {
     "data": {
      "text/html": [
       "<div>\n",
       "<style scoped>\n",
       "    .dataframe tbody tr th:only-of-type {\n",
       "        vertical-align: middle;\n",
       "    }\n",
       "\n",
       "    .dataframe tbody tr th {\n",
       "        vertical-align: top;\n",
       "    }\n",
       "\n",
       "    .dataframe thead th {\n",
       "        text-align: right;\n",
       "    }\n",
       "</style>\n",
       "<table border=\"1\" class=\"dataframe\">\n",
       "  <thead>\n",
       "    <tr style=\"text-align: right;\">\n",
       "      <th></th>\n",
       "      <th>text</th>\n",
       "      <th>author</th>\n",
       "      <th>likes</th>\n",
       "      <th>time</th>\n",
       "      <th>id</th>\n",
       "      <th>parent_id</th>\n",
       "      <th>url</th>\n",
       "      <th>target</th>\n",
       "      <th>text_processed</th>\n",
       "      <th>text_lemmatised</th>\n",
       "      <th>sentiment</th>\n",
       "      <th>thread</th>\n",
       "      <th>su_in_thread</th>\n",
       "    </tr>\n",
       "  </thead>\n",
       "  <tbody>\n",
       "    <tr>\n",
       "      <th>299984</th>\n",
       "      <td>Welcome Kylabreath😁, nice to meet you.</td>\n",
       "      <td>powderpuff</td>\n",
       "      <td>1</td>\n",
       "      <td>2019-05-29 16:54:00</td>\n",
       "      <td>tc_160692</td>\n",
       "      <td>p_19828</td>\n",
       "      <td>https://healthunlocked.com/asthmalunguk-lung/p...</td>\n",
       "      <td>Kylabreath</td>\n",
       "      <td>welcome kylabreath nice meet</td>\n",
       "      <td>['welcome', 'kylabreath', 'nice', 'meet']</td>\n",
       "      <td>0</td>\n",
       "      <td>0</td>\n",
       "      <td>False</td>\n",
       "    </tr>\n",
       "    <tr>\n",
       "      <th>299985</th>\n",
       "      <td>A warm welcome to this British Lung Foundation...</td>\n",
       "      <td>peege</td>\n",
       "      <td>1</td>\n",
       "      <td>2019-05-29 17:01:00</td>\n",
       "      <td>tc_160693</td>\n",
       "      <td>p_19828</td>\n",
       "      <td>https://healthunlocked.com/asthmalunguk-lung/p...</td>\n",
       "      <td>Kylabreath</td>\n",
       "      <td>warm welcome british lung foundation forum sup...</td>\n",
       "      <td>['warm', 'welcome', 'british', 'lung', 'founda...</td>\n",
       "      <td>0</td>\n",
       "      <td>0</td>\n",
       "      <td>False</td>\n",
       "    </tr>\n",
       "    <tr>\n",
       "      <th>299986</th>\n",
       "      <td>A very warm welcome to you Kylabreath 🙂.europe...</td>\n",
       "      <td>cofdrop-UK</td>\n",
       "      <td>1</td>\n",
       "      <td>2019-05-29 18:26:00</td>\n",
       "      <td>tc_160694</td>\n",
       "      <td>p_19828</td>\n",
       "      <td>https://healthunlocked.com/asthmalunguk-lung/p...</td>\n",
       "      <td>Kylabreath</td>\n",
       "      <td>warm welcome kylabreath europeanlunginfoorglam...</td>\n",
       "      <td>['warm', 'welcome', 'kylabreath', 'europeanlun...</td>\n",
       "      <td>0</td>\n",
       "      <td>0</td>\n",
       "      <td>False</td>\n",
       "    </tr>\n",
       "    <tr>\n",
       "      <th>299987</th>\n",
       "      <td>Hello Kyla. Welcome to the forum. I am also wa...</td>\n",
       "      <td>Caspiana</td>\n",
       "      <td>1</td>\n",
       "      <td>2019-05-29 22:08:00</td>\n",
       "      <td>tc_160695</td>\n",
       "      <td>p_19828</td>\n",
       "      <td>https://healthunlocked.com/asthmalunguk-lung/p...</td>\n",
       "      <td>Kylabreath</td>\n",
       "      <td>hello kyla welcome forum waiting transplant gl...</td>\n",
       "      <td>['hello', 'kyla', 'welcome', 'forum', 'wait', ...</td>\n",
       "      <td>0</td>\n",
       "      <td>0</td>\n",
       "      <td>False</td>\n",
       "    </tr>\n",
       "    <tr>\n",
       "      <th>299988</th>\n",
       "      <td>Hello and welcome 😊</td>\n",
       "      <td>HungryHufflepuff</td>\n",
       "      <td>1</td>\n",
       "      <td>2019-05-30 05:50:00</td>\n",
       "      <td>tc_160696</td>\n",
       "      <td>p_19828</td>\n",
       "      <td>https://healthunlocked.com/asthmalunguk-lung/p...</td>\n",
       "      <td>Kylabreath</td>\n",
       "      <td>hello welcome</td>\n",
       "      <td>['hello', 'welcome']</td>\n",
       "      <td>0</td>\n",
       "      <td>0</td>\n",
       "      <td>False</td>\n",
       "    </tr>\n",
       "    <tr>\n",
       "      <th>299989</th>\n",
       "      <td>Welcome Kylabreath.   I hope you find lots of ...</td>\n",
       "      <td>ledge</td>\n",
       "      <td>1</td>\n",
       "      <td>2019-05-30 06:03:00</td>\n",
       "      <td>tc_160697</td>\n",
       "      <td>p_19828</td>\n",
       "      <td>https://healthunlocked.com/asthmalunguk-lung/p...</td>\n",
       "      <td>Kylabreath</td>\n",
       "      <td>welcome kylabreath hope find lots love support...</td>\n",
       "      <td>['welcome', 'kylabreath', 'hope', 'find', 'lot...</td>\n",
       "      <td>0</td>\n",
       "      <td>0</td>\n",
       "      <td>False</td>\n",
       "    </tr>\n",
       "    <tr>\n",
       "      <th>299990</th>\n",
       "      <td>Hello Kylabreath, Welcome, it's nice to meet y...</td>\n",
       "      <td>Gingerapple</td>\n",
       "      <td>1</td>\n",
       "      <td>2019-05-30 06:54:00</td>\n",
       "      <td>tc_160698</td>\n",
       "      <td>p_19828</td>\n",
       "      <td>https://healthunlocked.com/asthmalunguk-lung/p...</td>\n",
       "      <td>Kylabreath</td>\n",
       "      <td>hello kylabreath welcome nice meet</td>\n",
       "      <td>['hello', 'kylabreath', 'welcome', 'nice', 'me...</td>\n",
       "      <td>0</td>\n",
       "      <td>0</td>\n",
       "      <td>False</td>\n",
       "    </tr>\n",
       "    <tr>\n",
       "      <th>299991</th>\n",
       "      <td>Hi Kylabreath and welcome to the site x</td>\n",
       "      <td>Izb1</td>\n",
       "      <td>1</td>\n",
       "      <td>2019-05-30 07:03:00</td>\n",
       "      <td>tc_160699</td>\n",
       "      <td>p_19828</td>\n",
       "      <td>https://healthunlocked.com/asthmalunguk-lung/p...</td>\n",
       "      <td>Kylabreath</td>\n",
       "      <td>kylabreath welcome site</td>\n",
       "      <td>['kylabreath', 'welcome', 'site']</td>\n",
       "      <td>0</td>\n",
       "      <td>0</td>\n",
       "      <td>False</td>\n",
       "    </tr>\n",
       "    <tr>\n",
       "      <th>299992</th>\n",
       "      <td>Welcome Kylabreath, Welcome to the group. I ho...</td>\n",
       "      <td>illawarra</td>\n",
       "      <td>1</td>\n",
       "      <td>2019-05-30 09:50:00</td>\n",
       "      <td>tc_160700</td>\n",
       "      <td>p_19828</td>\n",
       "      <td>https://healthunlocked.com/asthmalunguk-lung/p...</td>\n",
       "      <td>Kylabreath</td>\n",
       "      <td>welcome kylabreath welcome group hope transpla...</td>\n",
       "      <td>['welcome', 'kylabreath', 'welcome', 'group', ...</td>\n",
       "      <td>0</td>\n",
       "      <td>0</td>\n",
       "      <td>False</td>\n",
       "    </tr>\n",
       "    <tr>\n",
       "      <th>299993</th>\n",
       "      <td>Hi Kylabreath 😁</td>\n",
       "      <td>kimmi61</td>\n",
       "      <td>1</td>\n",
       "      <td>2019-05-30 10:41:00</td>\n",
       "      <td>tc_160701</td>\n",
       "      <td>p_19828</td>\n",
       "      <td>https://healthunlocked.com/asthmalunguk-lung/p...</td>\n",
       "      <td>Kylabreath</td>\n",
       "      <td>kylabreath</td>\n",
       "      <td>['kylabreath']</td>\n",
       "      <td>1</td>\n",
       "      <td>0</td>\n",
       "      <td>False</td>\n",
       "    </tr>\n",
       "    <tr>\n",
       "      <th>299994</th>\n",
       "      <td>Welcome to you xx</td>\n",
       "      <td>Comino2</td>\n",
       "      <td>1</td>\n",
       "      <td>2019-05-30 10:55:00</td>\n",
       "      <td>tc_160702</td>\n",
       "      <td>p_19828</td>\n",
       "      <td>https://healthunlocked.com/asthmalunguk-lung/p...</td>\n",
       "      <td>Kylabreath</td>\n",
       "      <td>welcome xx</td>\n",
       "      <td>['welcome', 'xx']</td>\n",
       "      <td>0</td>\n",
       "      <td>0</td>\n",
       "      <td>False</td>\n",
       "    </tr>\n",
       "    <tr>\n",
       "      <th>299995</th>\n",
       "      <td>Welcome Ken good to have you on board I to to ...</td>\n",
       "      <td>jimmyg23</td>\n",
       "      <td>0</td>\n",
       "      <td>2019-05-29 13:22:00</td>\n",
       "      <td>tc_160703</td>\n",
       "      <td>p_19829</td>\n",
       "      <td>https://healthunlocked.com/asthmalunguk-lung/p...</td>\n",
       "      <td>Ken1234</td>\n",
       "      <td>welcome ken good board stage4</td>\n",
       "      <td>['welcome', 'ken', 'good', 'board', 'stage4']</td>\n",
       "      <td>0</td>\n",
       "      <td>0</td>\n",
       "      <td>False</td>\n",
       "    </tr>\n",
       "    <tr>\n",
       "      <th>299996</th>\n",
       "      <td>Ian also stage 4.</td>\n",
       "      <td>October1961</td>\n",
       "      <td>0</td>\n",
       "      <td>2019-05-30 05:42:00</td>\n",
       "      <td>s_105287</td>\n",
       "      <td>tc_160703</td>\n",
       "      <td>https://healthunlocked.com/asthmalunguk-lung/p...</td>\n",
       "      <td>jimmyg23</td>\n",
       "      <td>ian stage 4</td>\n",
       "      <td>['ian', 'stage', '4']</td>\n",
       "      <td>1</td>\n",
       "      <td>0</td>\n",
       "      <td>False</td>\n",
       "    </tr>\n",
       "    <tr>\n",
       "      <th>299997</th>\n",
       "      <td>I mean am!😀</td>\n",
       "      <td>October1961</td>\n",
       "      <td>0</td>\n",
       "      <td>2019-05-30 05:43:00</td>\n",
       "      <td>s_105288</td>\n",
       "      <td>s_105288</td>\n",
       "      <td>https://healthunlocked.com/asthmalunguk-lung/p...</td>\n",
       "      <td>October1961</td>\n",
       "      <td>mean</td>\n",
       "      <td>['mean']</td>\n",
       "      <td>0</td>\n",
       "      <td>0</td>\n",
       "      <td>False</td>\n",
       "    </tr>\n",
       "    <tr>\n",
       "      <th>299998</th>\n",
       "      <td>Hi Ken lovely to have you in the group. Have a...</td>\n",
       "      <td>Damon1864</td>\n",
       "      <td>0</td>\n",
       "      <td>2019-05-29 13:56:00</td>\n",
       "      <td>tc_160704</td>\n",
       "      <td>p_19829</td>\n",
       "      <td>https://healthunlocked.com/asthmalunguk-lung/p...</td>\n",
       "      <td>Ken1234</td>\n",
       "      <td>ken lovely group great day care bernadette xx</td>\n",
       "      <td>['ken', 'lovely', 'group', 'great', 'day', 'ca...</td>\n",
       "      <td>0</td>\n",
       "      <td>0</td>\n",
       "      <td>False</td>\n",
       "    </tr>\n",
       "  </tbody>\n",
       "</table>\n",
       "</div>"
      ],
      "text/plain": [
       "                                                     text            author  \\\n",
       "299984             Welcome Kylabreath😁, nice to meet you.        powderpuff   \n",
       "299985  A warm welcome to this British Lung Foundation...             peege   \n",
       "299986  A very warm welcome to you Kylabreath 🙂.europe...        cofdrop-UK   \n",
       "299987  Hello Kyla. Welcome to the forum. I am also wa...          Caspiana   \n",
       "299988                                Hello and welcome 😊  HungryHufflepuff   \n",
       "299989  Welcome Kylabreath.   I hope you find lots of ...             ledge   \n",
       "299990  Hello Kylabreath, Welcome, it's nice to meet y...       Gingerapple   \n",
       "299991            Hi Kylabreath and welcome to the site x              Izb1   \n",
       "299992  Welcome Kylabreath, Welcome to the group. I ho...         illawarra   \n",
       "299993                                    Hi Kylabreath 😁           kimmi61   \n",
       "299994                                  Welcome to you xx           Comino2   \n",
       "299995  Welcome Ken good to have you on board I to to ...          jimmyg23   \n",
       "299996                                  Ian also stage 4.       October1961   \n",
       "299997                                        I mean am!😀       October1961   \n",
       "299998  Hi Ken lovely to have you in the group. Have a...         Damon1864   \n",
       "\n",
       "        likes                 time         id  parent_id  \\\n",
       "299984      1  2019-05-29 16:54:00  tc_160692    p_19828   \n",
       "299985      1  2019-05-29 17:01:00  tc_160693    p_19828   \n",
       "299986      1  2019-05-29 18:26:00  tc_160694    p_19828   \n",
       "299987      1  2019-05-29 22:08:00  tc_160695    p_19828   \n",
       "299988      1  2019-05-30 05:50:00  tc_160696    p_19828   \n",
       "299989      1  2019-05-30 06:03:00  tc_160697    p_19828   \n",
       "299990      1  2019-05-30 06:54:00  tc_160698    p_19828   \n",
       "299991      1  2019-05-30 07:03:00  tc_160699    p_19828   \n",
       "299992      1  2019-05-30 09:50:00  tc_160700    p_19828   \n",
       "299993      1  2019-05-30 10:41:00  tc_160701    p_19828   \n",
       "299994      1  2019-05-30 10:55:00  tc_160702    p_19828   \n",
       "299995      0  2019-05-29 13:22:00  tc_160703    p_19829   \n",
       "299996      0  2019-05-30 05:42:00   s_105287  tc_160703   \n",
       "299997      0  2019-05-30 05:43:00   s_105288   s_105288   \n",
       "299998      0  2019-05-29 13:56:00  tc_160704    p_19829   \n",
       "\n",
       "                                                      url       target  \\\n",
       "299984  https://healthunlocked.com/asthmalunguk-lung/p...   Kylabreath   \n",
       "299985  https://healthunlocked.com/asthmalunguk-lung/p...   Kylabreath   \n",
       "299986  https://healthunlocked.com/asthmalunguk-lung/p...   Kylabreath   \n",
       "299987  https://healthunlocked.com/asthmalunguk-lung/p...   Kylabreath   \n",
       "299988  https://healthunlocked.com/asthmalunguk-lung/p...   Kylabreath   \n",
       "299989  https://healthunlocked.com/asthmalunguk-lung/p...   Kylabreath   \n",
       "299990  https://healthunlocked.com/asthmalunguk-lung/p...   Kylabreath   \n",
       "299991  https://healthunlocked.com/asthmalunguk-lung/p...   Kylabreath   \n",
       "299992  https://healthunlocked.com/asthmalunguk-lung/p...   Kylabreath   \n",
       "299993  https://healthunlocked.com/asthmalunguk-lung/p...   Kylabreath   \n",
       "299994  https://healthunlocked.com/asthmalunguk-lung/p...   Kylabreath   \n",
       "299995  https://healthunlocked.com/asthmalunguk-lung/p...      Ken1234   \n",
       "299996  https://healthunlocked.com/asthmalunguk-lung/p...     jimmyg23   \n",
       "299997  https://healthunlocked.com/asthmalunguk-lung/p...  October1961   \n",
       "299998  https://healthunlocked.com/asthmalunguk-lung/p...      Ken1234   \n",
       "\n",
       "                                           text_processed  \\\n",
       "299984                       welcome kylabreath nice meet   \n",
       "299985  warm welcome british lung foundation forum sup...   \n",
       "299986  warm welcome kylabreath europeanlunginfoorglam...   \n",
       "299987  hello kyla welcome forum waiting transplant gl...   \n",
       "299988                                      hello welcome   \n",
       "299989  welcome kylabreath hope find lots love support...   \n",
       "299990                 hello kylabreath welcome nice meet   \n",
       "299991                            kylabreath welcome site   \n",
       "299992  welcome kylabreath welcome group hope transpla...   \n",
       "299993                                         kylabreath   \n",
       "299994                                         welcome xx   \n",
       "299995                      welcome ken good board stage4   \n",
       "299996                                        ian stage 4   \n",
       "299997                                               mean   \n",
       "299998      ken lovely group great day care bernadette xx   \n",
       "\n",
       "                                          text_lemmatised  sentiment  thread  \\\n",
       "299984          ['welcome', 'kylabreath', 'nice', 'meet']          0       0   \n",
       "299985  ['warm', 'welcome', 'british', 'lung', 'founda...          0       0   \n",
       "299986  ['warm', 'welcome', 'kylabreath', 'europeanlun...          0       0   \n",
       "299987  ['hello', 'kyla', 'welcome', 'forum', 'wait', ...          0       0   \n",
       "299988                               ['hello', 'welcome']          0       0   \n",
       "299989  ['welcome', 'kylabreath', 'hope', 'find', 'lot...          0       0   \n",
       "299990  ['hello', 'kylabreath', 'welcome', 'nice', 'me...          0       0   \n",
       "299991                  ['kylabreath', 'welcome', 'site']          0       0   \n",
       "299992  ['welcome', 'kylabreath', 'welcome', 'group', ...          0       0   \n",
       "299993                                     ['kylabreath']          1       0   \n",
       "299994                                  ['welcome', 'xx']          0       0   \n",
       "299995      ['welcome', 'ken', 'good', 'board', 'stage4']          0       0   \n",
       "299996                              ['ian', 'stage', '4']          1       0   \n",
       "299997                                           ['mean']          0       0   \n",
       "299998  ['ken', 'lovely', 'group', 'great', 'day', 'ca...          0       0   \n",
       "\n",
       "        su_in_thread  \n",
       "299984         False  \n",
       "299985         False  \n",
       "299986         False  \n",
       "299987         False  \n",
       "299988         False  \n",
       "299989         False  \n",
       "299990         False  \n",
       "299991         False  \n",
       "299992         False  \n",
       "299993         False  \n",
       "299994         False  \n",
       "299995         False  \n",
       "299996         False  \n",
       "299997         False  \n",
       "299998         False  "
      ]
     },
     "execution_count": 76,
     "metadata": {},
     "output_type": "execute_result"
    }
   ],
   "source": [
    "df_a.tail(15)"
   ]
  },
  {
   "cell_type": "code",
   "execution_count": 296,
   "metadata": {},
   "outputs": [],
   "source": [
    "counter = 0\n",
    "post = False\n",
    "old_post = \"\"\n",
    "for index, row in df_a.iterrows():\n",
    "    if row.id.startswith(\"p\"):\n",
    "        counter += 1\n",
    "        df_a.loc[index, \"thread\"] = counter\n",
    "    else:\n",
    "        df_a.loc[index, \"thread\"] = counter"
   ]
  },
  {
   "cell_type": "code",
   "execution_count": 299,
   "metadata": {},
   "outputs": [
    {
     "name": "stdout",
     "output_type": "stream",
     "text": [
      "45240.0\r"
     ]
    }
   ],
   "source": [
    "for index in df_a[\"thread\"].unique():\n",
    "    authors = df_a[df_a[\"thread\"] == index][\"author\"].unique()\n",
    "    for author in authors:\n",
    "        indexes = df_a[df_a[\"thread\"] == index].index\n",
    "        if author in top_infl_a:\n",
    "            # print(author, index)\n",
    "            df_a.loc[indexes, \"su_in_thread\"] = True\n",
    "            break\n",
    "    print(index, end = \"\\r\")"
   ]
  },
  {
   "cell_type": "code",
   "execution_count": 18,
   "metadata": {},
   "outputs": [],
   "source": [
    "df_a = df_a[(df_a[\"su_in_thread\"] == True)]"
   ]
  },
  {
   "cell_type": "code",
   "execution_count": 33,
   "metadata": {},
   "outputs": [],
   "source": [
    "# df_a.to_csv(\"df_l_draft.csv\", index = False)"
   ]
  },
  {
   "cell_type": "code",
   "execution_count": 17,
   "metadata": {},
   "outputs": [],
   "source": [
    "df_a[\"is_su\"] = df_a.author.apply(lambda x: True if x in top_infl_a else False)"
   ]
  },
  {
   "cell_type": "code",
   "execution_count": 18,
   "metadata": {},
   "outputs": [
    {
     "name": "stdout",
     "output_type": "stream",
     "text": [
      "sono al thread n. 45222.0\r"
     ]
    }
   ],
   "source": [
    "df_su_a[\"change_sentiment\"] = False\n",
    "df_su_a[\"n_interactions\"] = 0\n",
    "for thread in df_su_a.thread.unique():   #scorro i vari thread e seleziono solo gli autori con > 1 commento (in modo da vedere se c'è cambio sentiment)\n",
    "    # if df_su_a.iloc[0].id.startswith(\"p\"):\n",
    "    #     post_author = df_su_a.iloc[0].author\n",
    "    # else:\n",
    "    authors = df_su_a[df_su_a.thread == thread].author.value_counts().reset_index() \n",
    "    list_authors = authors[(authors[\"count\"] > 1) & ( ~ authors.author.isin(top_infl_a))].author.unique()\n",
    "    if list_authors.shape == (0,):   #se non c'è nessun autore con risposte > 1 si passsa ad altro thread\n",
    "        continue\n",
    "    for author in list_authors:   # controllo se tra il primo e ultimo commento dell'user c'è commento di un SUPERUSER\n",
    "        indexes_comments = df_su_a[(df_su_a.thread == thread) & (df_su_a.author == author)].index\n",
    "        min_index = min(indexes_comments)\n",
    "        max_index = max(indexes_comments)\n",
    "        mid_indexes = list(range(min_index + 1, max_index))\n",
    "        mid_authors = df_su_a.loc[mid_indexes].author.unique()\n",
    "        presence_su = False\n",
    "        for mid_author in mid_authors:\n",
    "            if mid_author == \"Hidden\":\n",
    "                continue\n",
    "            if mid_author in top_infl_a: \n",
    "                presence_su = True\n",
    "        if not presence_su:\n",
    "            continue\n",
    "        elif presence_su:   # se è presente un super user -> \n",
    "            n_interactions = 0    \n",
    "            first = True\n",
    "            negative = False\n",
    "            interaction = False\n",
    "            count_interaction = False\n",
    "            change_sentiment = False\n",
    "            mid_indexes.insert(0,indexes_comments[0])\n",
    "            mid_indexes.append(indexes_comments[-1])\n",
    "            for index in mid_indexes:          # scorro tra i commenti dell'autore in questione\n",
    "                if (df_su_a.loc[index].sentiment == 2) and (df_su_a.loc[index].author == author):  # se trovo commento negativo creo un flag\n",
    "                    negative = True\n",
    "                    count_interaction = True\n",
    "                if first:\n",
    "                    first = False\n",
    "                    continue\n",
    "                if df_su_a.loc[index].is_su == True:\n",
    "                    interaction = True\n",
    "                    if count_interaction:\n",
    "                        n_interactions += 1\n",
    "                        count_interaction = False\n",
    "                elif (negative) and (df_su_a.loc[index].sentiment == 0) and (df_su_a.loc[index].author == author) and interaction: #se c'è cambio di sentiment metto \"true\" in colonna tecnica\n",
    "                    change_sentiment = True \n",
    "                    ch_sentimant_idx = mid_indexes[: mid_indexes.index(index) + 1]\n",
    "                    df_su_a.loc[ch_sentimant_idx, \"change_sentiment\"] = True\n",
    "                    df_su_a.loc[ch_sentimant_idx, \"n_interactions\"] = n_interactions\n",
    "                    break\n",
    "                if  (count_interaction == False) and (df_su_a.loc[index].author == author):\n",
    "                    count_interaction = True \n",
    "                print(f\"sono al thread n. {thread}\", end = \"\\r\")"
   ]
  },
  {
   "cell_type": "code",
   "execution_count": 20,
   "metadata": {},
   "outputs": [],
   "source": [
    "# df_su_a.to_csv(\"/home/deduce-ubuntu/Tesi/Tesi/Df completi/fix/df_asthma_fix.csv\", index = False) "
   ]
  },
  {
   "cell_type": "code",
   "execution_count": 24,
   "metadata": {},
   "outputs": [],
   "source": [
    "# df_su_a.to_csv(\"./Df completi/df_asthma_completo.csv\", index = False)   \n",
    "# df_su_a.to_csv(\"./Df completi/df_lungs_completo_sentiment_change.csv\", index = False)"
   ]
  },
  {
   "cell_type": "markdown",
   "metadata": {},
   "source": [
    "## CHECKPOINT"
   ]
  },
  {
   "cell_type": "code",
   "execution_count": 6,
   "metadata": {
    "metadata": {}
   },
   "outputs": [],
   "source": [
    "df_a = pd.read_csv(\"/home/deduce-ubuntu/Tesi/Tesi/Df completi/fix/df_asthma_fix.csv\") \n",
    "df_a = df_a[(df_a[\"su_in_thread\"] == True)]"
   ]
  },
  {
   "cell_type": "code",
   "execution_count": 7,
   "metadata": {
    "metadata": {}
   },
   "outputs": [],
   "source": [
    "df_a[\"only_positive\"] = True\n",
    "for thread in df_a[\"thread\"].unique():\n",
    "    if 2 in df_a[df_a[\"thread\"] == thread].sentiment.unique():\n",
    "        indexes = df_a[df_a[\"thread\"] == thread].index\n",
    "        df_a.loc[indexes, \"only_positive\"] = False"
   ]
  },
  {
   "cell_type": "code",
   "execution_count": 7,
   "metadata": {},
   "outputs": [
    {
     "data": {
      "text/html": [
       "<div>\n",
       "<style scoped>\n",
       "    .dataframe tbody tr th:only-of-type {\n",
       "        vertical-align: middle;\n",
       "    }\n",
       "\n",
       "    .dataframe tbody tr th {\n",
       "        vertical-align: top;\n",
       "    }\n",
       "\n",
       "    .dataframe thead th {\n",
       "        text-align: right;\n",
       "    }\n",
       "</style>\n",
       "<table border=\"1\" class=\"dataframe\">\n",
       "  <thead>\n",
       "    <tr style=\"text-align: right;\">\n",
       "      <th></th>\n",
       "      <th>text</th>\n",
       "      <th>author</th>\n",
       "      <th>likes</th>\n",
       "      <th>time</th>\n",
       "      <th>id</th>\n",
       "      <th>parent_id</th>\n",
       "      <th>url</th>\n",
       "      <th>target</th>\n",
       "      <th>text_processed</th>\n",
       "      <th>text_lemmatised</th>\n",
       "      <th>sentiment</th>\n",
       "    </tr>\n",
       "  </thead>\n",
       "  <tbody>\n",
       "    <tr>\n",
       "      <th>0</th>\n",
       "      <td>I had rituximab about three years ago for rhue...</td>\n",
       "      <td>ChaOliver</td>\n",
       "      <td>1</td>\n",
       "      <td>2017-12-16 05:50:00</td>\n",
       "      <td>tc_0</td>\n",
       "      <td>p_0</td>\n",
       "      <td>https://healthunlocked.com/asthmalunguk-lung/p...</td>\n",
       "      <td>Barnesy77</td>\n",
       "      <td>rituximab three years ago rhuematoid art ra pa...</td>\n",
       "      <td>['rituximab', 'year', 'ago', 'rhuematoid', 'ar...</td>\n",
       "      <td>1</td>\n",
       "    </tr>\n",
       "    <tr>\n",
       "      <th>1</th>\n",
       "      <td>Thanks ChaOliver, glad to hear that there were...</td>\n",
       "      <td>Barnesy77</td>\n",
       "      <td>0</td>\n",
       "      <td>2017-12-17 10:40:00</td>\n",
       "      <td>s_0</td>\n",
       "      <td>tc_0</td>\n",
       "      <td>https://healthunlocked.com/asthmalunguk-lung/p...</td>\n",
       "      <td>ChaOliver</td>\n",
       "      <td>thanks chaoliver glad hear side effects</td>\n",
       "      <td>['thank', 'chaoliver', 'glad', 'hear', 'effect']</td>\n",
       "      <td>0</td>\n",
       "    </tr>\n",
       "    <tr>\n",
       "      <th>2</th>\n",
       "      <td>I have had both. I started on cyclophosphamide...</td>\n",
       "      <td>AngieB72</td>\n",
       "      <td>2</td>\n",
       "      <td>2017-12-16 07:30:00</td>\n",
       "      <td>tc_1</td>\n",
       "      <td>p_0</td>\n",
       "      <td>https://healthunlocked.com/asthmalunguk-lung/p...</td>\n",
       "      <td>Barnesy77</td>\n",
       "      <td>started cyclophosphamide 3 treatments realised...</td>\n",
       "      <td>['start', 'cyclophosphamide', '3', 'treatment'...</td>\n",
       "      <td>2</td>\n",
       "    </tr>\n",
       "    <tr>\n",
       "      <th>3</th>\n",
       "      <td>Hi AngieB72. I'm sorry that your gas transfer ...</td>\n",
       "      <td>Barnesy77</td>\n",
       "      <td>0</td>\n",
       "      <td>2017-12-17 10:43:00</td>\n",
       "      <td>s_1</td>\n",
       "      <td>tc_1</td>\n",
       "      <td>https://healthunlocked.com/asthmalunguk-lung/p...</td>\n",
       "      <td>AngieB72</td>\n",
       "      <td>angieb72 sorry gas transfer low feel lucky min...</td>\n",
       "      <td>['angieb72', 'sorry', 'gas', 'transfer', 'low'...</td>\n",
       "      <td>2</td>\n",
       "    </tr>\n",
       "    <tr>\n",
       "      <th>4</th>\n",
       "      <td>Hi, I also have the same diagnosis as you sinc...</td>\n",
       "      <td>Maureenpearl</td>\n",
       "      <td>0</td>\n",
       "      <td>2017-12-16 23:31:00</td>\n",
       "      <td>tc_2</td>\n",
       "      <td>p_0</td>\n",
       "      <td>https://healthunlocked.com/asthmalunguk-lung/p...</td>\n",
       "      <td>Barnesy77</td>\n",
       "      <td>diagnosis since 2006 several treatments includ...</td>\n",
       "      <td>['diagnosis', '2006', 'treatment', 'include', ...</td>\n",
       "      <td>1</td>\n",
       "    </tr>\n",
       "  </tbody>\n",
       "</table>\n",
       "</div>"
      ],
      "text/plain": [
       "                                                text        author  likes  \\\n",
       "0  I had rituximab about three years ago for rhue...     ChaOliver      1   \n",
       "1  Thanks ChaOliver, glad to hear that there were...     Barnesy77      0   \n",
       "2  I have had both. I started on cyclophosphamide...      AngieB72      2   \n",
       "3  Hi AngieB72. I'm sorry that your gas transfer ...     Barnesy77      0   \n",
       "4  Hi, I also have the same diagnosis as you sinc...  Maureenpearl      0   \n",
       "\n",
       "                  time    id parent_id  \\\n",
       "0  2017-12-16 05:50:00  tc_0       p_0   \n",
       "1  2017-12-17 10:40:00   s_0      tc_0   \n",
       "2  2017-12-16 07:30:00  tc_1       p_0   \n",
       "3  2017-12-17 10:43:00   s_1      tc_1   \n",
       "4  2017-12-16 23:31:00  tc_2       p_0   \n",
       "\n",
       "                                                 url     target  \\\n",
       "0  https://healthunlocked.com/asthmalunguk-lung/p...  Barnesy77   \n",
       "1  https://healthunlocked.com/asthmalunguk-lung/p...  ChaOliver   \n",
       "2  https://healthunlocked.com/asthmalunguk-lung/p...  Barnesy77   \n",
       "3  https://healthunlocked.com/asthmalunguk-lung/p...   AngieB72   \n",
       "4  https://healthunlocked.com/asthmalunguk-lung/p...  Barnesy77   \n",
       "\n",
       "                                      text_processed  \\\n",
       "0  rituximab three years ago rhuematoid art ra pa...   \n",
       "1            thanks chaoliver glad hear side effects   \n",
       "2  started cyclophosphamide 3 treatments realised...   \n",
       "3  angieb72 sorry gas transfer low feel lucky min...   \n",
       "4  diagnosis since 2006 several treatments includ...   \n",
       "\n",
       "                                     text_lemmatised  sentiment  \n",
       "0  ['rituximab', 'year', 'ago', 'rhuematoid', 'ar...          1  \n",
       "1   ['thank', 'chaoliver', 'glad', 'hear', 'effect']          0  \n",
       "2  ['start', 'cyclophosphamide', '3', 'treatment'...          2  \n",
       "3  ['angieb72', 'sorry', 'gas', 'transfer', 'low'...          2  \n",
       "4  ['diagnosis', '2006', 'treatment', 'include', ...          1  "
      ]
     },
     "execution_count": 7,
     "metadata": {},
     "output_type": "execute_result"
    }
   ],
   "source": [
    "# df_su_a = pd.read_csv(f\"{path}/df_lungs_semeval_completo.csv\")\n",
    "# post_a = pd.read_csv(f\"{path}/post_blf_biobert_semeval_.csv\")   #da cambiare nome con \"l\"\n",
    "# df_su_a.head(5)"
   ]
  },
  {
   "cell_type": "markdown",
   "metadata": {},
   "source": [
    "#### vedere dopo quante interazioni si ha cambio sentiment"
   ]
  },
  {
   "cell_type": "code",
   "execution_count": 8,
   "metadata": {
    "metadata": {}
   },
   "outputs": [],
   "source": [
    "total_threads = set(df_a.thread.unique())\n",
    "change_sentiment = set(df_a[(df_a[\"change_sentiment\"] == True)].thread.unique())\n",
    "only_positive = set(df_a[(df_a[\"only_positive\"] == True)].thread.unique())\n",
    "list_threads = list((total_threads - change_sentiment) - only_positive)"
   ]
  },
  {
   "cell_type": "code",
   "execution_count": 9,
   "metadata": {
    "metadata": {}
   },
   "outputs": [
    {
     "name": "stdout",
     "output_type": "stream",
     "text": [
      "thread n. 32762.0\r"
     ]
    }
   ],
   "source": [
    "df_a[\"type_interaction\"] = \"\"     #manca thread solo positivo come caso\n",
    "for thread in list_threads:  #list_threads: #list_threads:        #list_threads[:100]:  [27]:             #list_threads:\n",
    "    print(f\"thread n. {thread}\", end = \"\\r\")\n",
    "    cases = {}\n",
    "\n",
    "    authors = df_a[df_a.thread == thread].author.value_counts().reset_index() \n",
    "    list_authors = authors[(~ authors.author.isin(top_infl_a))].author.unique()   #(authors[\"count\"] > 1) & \n",
    "    \n",
    "    if list_authors.shape == (0,):   #se non c'è nessun autore con risposte > 1 si passsa ad altro thread\n",
    "        if authors.shape[0] != 0:\n",
    "            thread_index = df_a[df_a.thread == thread].index\n",
    "            df_a.loc[thread_index, \"type_interaction\"] = \"only_su\"\n",
    "            continue\n",
    "    n_only_positive = 0\n",
    "    for author in list_authors:\n",
    "        if df_a[(df_a.author == author) & (df_a.sentiment == 2) & (df_a.thread == thread)].shape[0] == 0:\n",
    "            n_only_positive += 1\n",
    "            continue\n",
    "        indexes_comments = df_a[(df_a.thread == thread)].index\n",
    "        min_index = df_a[(df_a.author == author) & (df_a.sentiment == 2) & (df_a.thread == thread)].iloc[0].name\n",
    "        max_index = max(indexes_comments)\n",
    "        if min_index == max_index:  #the first negative comment is also the last in the thread\n",
    "            cases[\"no_interaction\"] = True\n",
    "            continue\n",
    "        mid_indexes = list(range(min_index + 1, max_index))\n",
    "        mid_authors = df_a.loc[mid_indexes].author.unique()\n",
    "        mid_indexes.append(indexes_comments[-1])\n",
    "        interaction = False\n",
    "        change_sentiment = False\n",
    "        reply_to_su = False\n",
    "        for index in mid_indexes:\n",
    "            if df_a.loc[index].author in top_infl_a:\n",
    "                interaction = True\n",
    "            # elif interaction and df_a.loc[index].sentiment == 0 and df_a.loc[index].author == author:\n",
    "            #     change_sentiment = True\n",
    "            #     ch_sentimant_idx = mid_indexes[: mid_indexes.index(index) + 1]\n",
    "            #     df_a.loc[ch_sentimant_idx, \"type_interaction\"] = \"change_sentiment\"\n",
    "            elif interaction and df_a.loc[index].author == author:\n",
    "                reply_to_su = True\n",
    "        if not interaction:\n",
    "            cases[\"no_interaction\"] = True\n",
    "        elif reply_to_su:\n",
    "            cases[\"no_change\"] = True\n",
    "        elif not reply_to_su:\n",
    "            cases[\"no_reply_to_su\"] = True\n",
    "        if \"no_change\" in cases.keys():\n",
    "            thread_index = df_a[df_a.thread == thread].index\n",
    "            df_a.loc[thread_index, \"type_interaction\"] = \"no_change\"\n",
    "    if \"no_change\" in cases.keys():\n",
    "        thread_index = df_a[df_a.thread == thread].index\n",
    "        df_a.loc[thread_index, \"type_interaction\"] = \"no_change\"\n",
    "        continue\n",
    "    if \"no_reply_to_su\" in cases.keys():\n",
    "        thread_index = df_a[df_a.thread == thread].index\n",
    "        df_a.loc[thread_index, \"type_interaction\"] = \"no_reply_to_su\"\n",
    "        continue\n",
    "    if \"no_interaction\" in cases.keys():\n",
    "        thread_index = df_a[df_a.thread == thread].index\n",
    "        df_a.loc[thread_index, \"type_interaction\"] = \"no_interaction\"\n",
    "        continue\n",
    "    if n_only_positive == len(list_authors): #non tengo in conto dei superusers\n",
    "        thread_index = df_a[df_a.thread == thread].index\n",
    "        df_a.loc[thread_index, \"type_interaction\"] = \"only_positive\"\n",
    "        continue\n",
    "    thread_index = df_a[df_a.thread == thread].index\n",
    "    df_a.loc[thread_index, \"type_interaction\"] = \"caso_estremo\"\n",
    "\n",
    "        \n",
    "\n",
    "        # if not interaction:\n",
    "        #     ch_sentimant_idx = mid_indexes[: mid_indexes.index(index) + 1]\n",
    "        #     df_a.loc[ch_sentimant_idx, \"type_interaction\"] = \"no_interaction\"\n",
    "        # if reply_to_su:\n",
    "        #     ch_sentimant_idx = mid_indexes[: mid_indexes.index(index) + 1]\n",
    "        #     df_a.loc[ch_sentimant_idx, \"type_interaction\"] = \"no_change\"\n",
    "        # elif not reply_to_su:\n",
    "        #     ch_sentimant_idx = mid_indexes[: mid_indexes.index(index) + 1]\n",
    "        #     df_a.loc[ch_sentimant_idx, \"type_interaction\"] = \"no_reply_to_su\"\n",
    "    "
   ]
  },
  {
   "cell_type": "code",
   "execution_count": 10,
   "metadata": {
    "metadata": {}
   },
   "outputs": [],
   "source": [
    "change_sentiment_index = df_a[df_a.thread.isin(df_a[df_a.change_sentiment == True].thread.unique())].index\n",
    "only_positive_index = df_a[df_a.thread.isin(df_a[df_a.only_positive == True].thread.unique())].index\n",
    "\n",
    "df_a.loc[change_sentiment_index, \"type_interaction\"] = \"change_sentiment\"\n",
    "df_a.loc[only_positive_index, \"type_interaction\"] = \"only_positive\""
   ]
  },
  {
   "cell_type": "code",
   "execution_count": 11,
   "metadata": {
    "metadata": {}
   },
   "outputs": [],
   "source": [
    "df_a[\"category_interaction\"] = \"\""
   ]
  },
  {
   "cell_type": "code",
   "execution_count": 12,
   "metadata": {
    "metadata": {}
   },
   "outputs": [
    {
     "name": "stdout",
     "output_type": "stream",
     "text": [
      "thread n. 45203.0\r"
     ]
    }
   ],
   "source": [
    "for thread in df_a[df_a.change_sentiment == True].thread.unique():\n",
    "    df = df_a[(df_a.thread == thread) & (df_a.change_sentiment == True)]\n",
    "    authors_and_type = df[[\"author\", \"is_su\"]]\n",
    "    author_changed_sentiment = df.iloc[0].author\n",
    "    if authors_and_type[authors_and_type.author != author_changed_sentiment][\"is_su\"].unique().shape[0] == 1:  #se c'è solo su = True\n",
    "        indexes = df_a[df_a.thread == thread].index\n",
    "        df_a.loc[indexes, \"category_interaction\"] = \"only_su\"\n",
    "    else:  # se c'è sia is_su = true e is_su = false\n",
    "        indexes = df_a[df_a.thread == thread].index\n",
    "        df_a.loc[indexes, \"category_interaction\"] = \"su_&_user\"\n",
    "    print(f\"thread n. {thread}\", end = \"\\r\")"
   ]
  },
  {
   "cell_type": "code",
   "execution_count": 22,
   "metadata": {},
   "outputs": [
    {
     "data": {
      "text/plain": [
       "category_interaction\n",
       "only_su      1295\n",
       "su_&_user     329\n",
       "Name: count, dtype: int64"
      ]
     },
     "execution_count": 22,
     "metadata": {},
     "output_type": "execute_result"
    }
   ],
   "source": [
    "df_category_type = df_a[df_a.change_sentiment == True].groupby(\"thread\")[\"category_interaction\"].unique().reset_index()\n",
    "df_category_type[\"category_interaction\"] = df_category_type[\"category_interaction\"].apply(lambda x: x[0]) \n",
    "df_category_type.value_counts(\"category_interaction\")"
   ]
  },
  {
   "cell_type": "code",
   "execution_count": 13,
   "metadata": {},
   "outputs": [],
   "source": [
    "# df_a.to_csv(\"/home/deduce-ubuntu/Tesi/Tesi/bozze_df_analysis_sentiment/df_a_type_interaction_su_u.csv\", index = False)"
   ]
  },
  {
   "cell_type": "markdown",
   "metadata": {},
   "source": [
    "#### USER-USER change sentiment"
   ]
  },
  {
   "cell_type": "code",
   "execution_count": 15,
   "metadata": {
    "metadata": {}
   },
   "outputs": [],
   "source": [
    "df_a = pd.read_csv(\"/home/deduce-ubuntu/Tesi/Tesi/Df completi/fix/df_asthma_fix.csv\") \n",
    "df_a = df_a[(df_a[\"su_in_thread\"] == False)]"
   ]
  },
  {
   "cell_type": "code",
   "execution_count": 16,
   "metadata": {},
   "outputs": [],
   "source": [
    "df_a[\"only_positive\"] = True\n",
    "for thread in df_a[\"thread\"].unique():\n",
    "    if 2 in df_a[df_a[\"thread\"] == thread].sentiment.unique():\n",
    "        indexes = df_a[df_a[\"thread\"] == thread].index\n",
    "        df_a.loc[indexes, \"only_positive\"] = False"
   ]
  },
  {
   "cell_type": "code",
   "execution_count": 17,
   "metadata": {
    "metadata": {}
   },
   "outputs": [
    {
     "name": "stdout",
     "output_type": "stream",
     "text": [
      "sono al thread n. 45205.0\r"
     ]
    }
   ],
   "source": [
    "df_a[\"change_sentiment\"] = False\n",
    "df_a[\"n_interactions\"] = 0\n",
    "for thread in df_a.thread.unique():   #scorro i vari thread e seleziono solo gli autori con > 1 commento (in modo da vedere se c'è cambio sentiment)\n",
    "    # if df_a.iloc[0].id.startswith(\"p\"):\n",
    "    #     post_author = df_a.iloc[0].author\n",
    "    # else:\n",
    "    authors = df_a[df_a.thread == thread].author.value_counts().reset_index() \n",
    "    list_authors = authors[(authors[\"count\"] > 1)].author.unique()\n",
    "\n",
    "    if list_authors.shape == (0,):   #se non c'è nessun autore con risposte > 1 si passsa ad altro thread\n",
    "        continue\n",
    "    \n",
    "    for author in list_authors:   # controllo se tra il primo e ultimo commento dell'user c'è commento di un SUPERUSER\n",
    "        if df_a[(df_a.author == author) & (df_a.sentiment == 2) & (df_a.thread == thread)].shape[0] == 0:\n",
    "            # n_only_positive += 1\n",
    "            continue\n",
    "        indexes_comments = df_a[(df_a.thread == thread) & (df_a.author == author)].index\n",
    "        min_index = df_a[(df_a.author == author) & (df_a.sentiment == 2) & (df_a.thread == thread)].iloc[0].name\n",
    "        max_index = max(indexes_comments)\n",
    "        mid_indexes = list(range(min_index + 1, max_index))\n",
    "        mid_authors = df_a.loc[mid_indexes].author.unique()\n",
    "        presence_author = False\n",
    "        for mid_author in mid_authors:\n",
    "            if mid_author == \"Hidden\":\n",
    "                continue\n",
    "            if mid_author != author: \n",
    "                presence_author = True\n",
    "        if not presence_author:\n",
    "            continue\n",
    "        elif presence_author:   # se è presente un super user -> \n",
    "            n_interactions = 0    \n",
    "            first = True\n",
    "            negative = False\n",
    "            interaction = False\n",
    "            count_interaction = False\n",
    "            change_sentiment = False\n",
    "            mid_indexes.insert(0,indexes_comments[0])\n",
    "            mid_indexes.append(indexes_comments[-1])\n",
    "            for index in mid_indexes:          # scorro tra i commenti dell'autore in questione\n",
    "                if (df_a.loc[index].sentiment == 2) and (df_a.loc[index].author == author):  # se trovo commento negativo creo un flag\n",
    "                    negative = True\n",
    "                    count_interaction = True\n",
    "                if first:\n",
    "                    first = False\n",
    "                    continue\n",
    "                if df_a.loc[index].author != author:\n",
    "                    interaction = True\n",
    "                    if count_interaction:\n",
    "                        n_interactions += 1\n",
    "                        count_interaction = False\n",
    "                elif (negative) and (df_a.loc[index].sentiment == 0) and (df_a.loc[index].author == author) and interaction: #se c'è cambio di sentiment metto \"true\" in colonna tecnica\n",
    "                    change_sentiment = True \n",
    "                    ch_sentimant_idx = mid_indexes[: mid_indexes.index(index) + 1]\n",
    "                    df_a.loc[ch_sentimant_idx, \"change_sentiment\"] = True\n",
    "                    df_a.loc[ch_sentimant_idx, \"n_interactions\"] = n_interactions\n",
    "                    break\n",
    "                if  (count_interaction == False) and (df_a.loc[index].author == author):\n",
    "                    count_interaction = True \n",
    "                print(f\"sono al thread n. {thread}\", end = \"\\r\")"
   ]
  },
  {
   "cell_type": "markdown",
   "metadata": {},
   "source": [
    "#### type_interaction"
   ]
  },
  {
   "cell_type": "code",
   "execution_count": 18,
   "metadata": {},
   "outputs": [],
   "source": [
    "total_threads = set(df_a.thread.unique())\n",
    "change_sentiment = set(df_a[(df_a[\"change_sentiment\"] == True)].thread.unique())\n",
    "only_positive = set(df_a[(df_a[\"only_positive\"] == True)].thread.unique())\n",
    "list_threads = list((total_threads - change_sentiment) - only_positive)"
   ]
  },
  {
   "cell_type": "code",
   "execution_count": 19,
   "metadata": {},
   "outputs": [
    {
     "name": "stdout",
     "output_type": "stream",
     "text": [
      "thread n. 32767.0\r"
     ]
    }
   ],
   "source": [
    "df_a[\"type_interaction\"] = \"\"     #manca thread solo positivo come caso\n",
    "for thread in list_threads:  #list_threads: #list_threads:        #list_threads[:100]:  [27]:             #list_threads:\n",
    "    print(f\"thread n. {thread}\", end = \"\\r\")\n",
    "    cases = {}\n",
    "\n",
    "    authors = df_a[df_a.thread == thread].author.value_counts().reset_index() \n",
    "    list_authors = authors.author.unique()   #(authors[\"count\"] > 1) & \n",
    "    \n",
    "    # if list_authors.shape == (0,):   #se non c'è nessun autore con risposte > 1 si passsa ad altro thread\n",
    "    #     if authors.shape[0] != 0:\n",
    "    #         thread_index = df_a[df_a.thread == thread].index\n",
    "    #         df_a.loc[thread_index, \"type_interaction\"] = \"only_su\"\n",
    "    #         continue\n",
    "\n",
    "    for author in list_authors:\n",
    "\n",
    "        if df_a[(df_a.author == author) & (df_a.sentiment == 2) & (df_a.thread == thread)].shape[0] == 0:\n",
    "            continue   #saranno corretti dopo col \"only_positive\"\n",
    "\n",
    "        indexes_comments = df_a[(df_a.thread == thread)].index\n",
    "        min_index = df_a[(df_a.author == author) & (df_a.sentiment == 2) & (df_a.thread == thread)].iloc[0].name\n",
    "        max_index = max(indexes_comments)\n",
    "        if min_index == max_index:  #the first negative comment is also the last in the thread\n",
    "            cases[\"no_interaction\"] = True\n",
    "            continue\n",
    "        mid_indexes = list(range(min_index + 1, max_index))\n",
    "        mid_authors = df_a.loc[mid_indexes].author.unique()\n",
    "        mid_indexes.append(indexes_comments[-1])\n",
    "        interaction = False\n",
    "        change_sentiment = False\n",
    "        reply_to_su = False\n",
    "        for index in mid_indexes:\n",
    "            if df_a.loc[index].author != author:\n",
    "                interaction = True\n",
    "            # elif interaction and df_a.loc[index].sentiment == 0 and df_a.loc[index].author == author:\n",
    "            #     change_sentiment = True\n",
    "            #     ch_sentimant_idx = mid_indexes[: mid_indexes.index(index) + 1]\n",
    "            #     df_a.loc[ch_sentimant_idx, \"type_interaction\"] = \"change_sentiment\"\n",
    "            elif interaction and df_a.loc[index].author == author:\n",
    "                reply_to_su = True\n",
    "        if not interaction:\n",
    "            cases[\"no_interaction\"] = True\n",
    "        elif reply_to_su:\n",
    "            cases[\"no_change\"] = True\n",
    "        elif not reply_to_su:\n",
    "            cases[\"no_reply_to_su\"] = True\n",
    "        if \"no_change\" in cases.keys():\n",
    "            thread_index = df_a[df_a.thread == thread].index\n",
    "            df_a.loc[thread_index, \"type_interaction\"] = \"no_change\"\n",
    "    if \"no_change\" in cases.keys():\n",
    "        thread_index = df_a[df_a.thread == thread].index\n",
    "        df_a.loc[thread_index, \"type_interaction\"] = \"no_change\"\n",
    "        continue\n",
    "    if \"no_reply_to_su\" in cases.keys():\n",
    "        thread_index = df_a[df_a.thread == thread].index\n",
    "        df_a.loc[thread_index, \"type_interaction\"] = \"no_reply_to_other_user\"\n",
    "        continue\n",
    "    if \"no_interaction\" in cases.keys():\n",
    "        thread_index = df_a[df_a.thread == thread].index\n",
    "        df_a.loc[thread_index, \"type_interaction\"] = \"no_interaction\"\n",
    "        continue\n",
    "\n",
    "    # if n_only_positive == len(list_authors): #non tengo in conto dei superusers\n",
    "    #     thread_index = df_a[df_a.thread == thread].index\n",
    "    #     df_a.loc[thread_index, \"type_interaction\"] = \"only_positive\"\n",
    "    #     continue\n",
    "\n",
    "    thread_index = df_a[df_a.thread == thread].index\n",
    "    df_a.loc[thread_index, \"type_interaction\"] = \"caso_estremo\""
   ]
  },
  {
   "cell_type": "code",
   "execution_count": 20,
   "metadata": {},
   "outputs": [],
   "source": [
    "change_sentiment_index = df_a[df_a.thread.isin(df_a[df_a.change_sentiment == True].thread.unique())].index\n",
    "only_positive_index = df_a[df_a.thread.isin(df_a[df_a.only_positive == True].thread.unique())].index\n",
    "\n",
    "df_a.loc[change_sentiment_index, \"type_interaction\"] = \"change_sentiment\"\n",
    "df_a.loc[only_positive_index, \"type_interaction\"] = \"only_positive\""
   ]
  },
  {
   "cell_type": "code",
   "execution_count": 21,
   "metadata": {},
   "outputs": [],
   "source": [
    "# df_a.to_csv(\"/home/deduce-ubuntu/Tesi/Tesi/bozze_df_analysis_sentiment/df_a_type_interaction_user_user.csv\", index = False)"
   ]
  },
  {
   "cell_type": "markdown",
   "metadata": {},
   "source": [
    "### statistiche"
   ]
  },
  {
   "cell_type": "code",
   "execution_count": 34,
   "metadata": {
    "metadata": {}
   },
   "outputs": [],
   "source": [
    "def stats_sentiment(df):\n",
    "    # n_thread_change = df[(df[\"change_sentiment\"] == True) & (df[\"author\"] == \"Hidden\")][\"thread\"].unique().shape[0]\n",
    "    n_thread_change = df[df[\"change_sentiment\"] == True][\"thread\"].unique().shape[0]\n",
    "    tot_threads = df[\"thread\"].unique().shape[0]\n",
    "    df_only_sentiment = df[df[\"change_sentiment\"] == True]\n",
    "    mean = round(df_only_sentiment[\"n_interactions\"].mean(), 2)\n",
    "    std = round(df_only_sentiment[\"n_interactions\"].std() , 2)\n",
    "    n_no_change = df[df[\"type_interaction\"] == \"no_change\"][\"thread\"].unique().shape[0]\n",
    "    n_no_interaction = df[df[\"type_interaction\"] == \"no_interaction\"][\"thread\"].unique().shape[0]\n",
    "    # n_no_reply_to_su = df[df[\"type_interaction\"] == \"no_reply_to_su\"][\"thread\"].unique().shape[0]\n",
    "    n_no_reply_to_su = df[df[\"type_interaction\"] == \"no_reply_to_other_user\"][\"thread\"].unique().shape[0]\n",
    "    n_only_su = df[df[\"type_interaction\"] == \"only_su\"][\"thread\"].unique().shape[0]\n",
    "    n_positive = df.groupby(\"thread\")[\"only_positive\"].value_counts().reset_index()[\"only_positive\"].value_counts()[True]\n",
    "    n_negative = df.groupby(\"thread\")[\"only_positive\"].value_counts().reset_index()[\"only_positive\"].value_counts()[False]\n",
    "    print(f\"out of {tot_threads} threads there are: \\n   {n_positive} threads in which there is only positive sentiment   {round(n_positive/tot_threads * 100, 2)}%\")  #\\n   {n_negative} that contains also negative posts\")\n",
    "    print(f\"   {n_no_change} in which there's no sentiment change    {round(n_no_change/tot_threads * 100, 2)}%\")\n",
    "    print(f\"   {n_no_interaction} in which there's no interaction with super-user    {round(n_no_interaction/tot_threads * 100, 2)}%\")\n",
    "    print(f\"   {n_no_reply_to_su} in which there's no reply to the super-user answer    {round(n_no_reply_to_su/tot_threads * 100, 2)}%\")\n",
    "    print(f\"   {n_only_su} in which there's only super-users    {round(n_only_su/tot_threads * 100, 2)}%\")\n",
    "    print(f\"   {n_thread_change} in which there's a sentiment change    {round(n_thread_change/tot_threads * 100, 2)}%\")\n",
    "\n",
    "    print(f\"the mean number of interactions for a sentiment change are {mean} with a std of  {std}\")\n",
    "    return"
   ]
  },
  {
   "cell_type": "code",
   "execution_count": 35,
   "metadata": {},
   "outputs": [
    {
     "name": "stdout",
     "output_type": "stream",
     "text": [
      "out of 31184 threads there are: \n",
      "   17288 threads in which there is only positive sentiment   55.44%\n",
      "   1208 in which there's no sentiment change    3.87%\n",
      "   8553 in which there's no interaction with super-user    27.43%\n",
      "   3363 in which there's no reply to the super-user answer    10.78%\n",
      "   0 in which there's only super-users    0.0%\n",
      "   772 in which there's a sentiment change    2.48%\n",
      "the mean number of interactions for a sentiment change are 1.57 with a std of  1.1\n"
     ]
    }
   ],
   "source": [
    "stats_sentiment(df_a) #user-user"
   ]
  },
  {
   "cell_type": "markdown",
   "metadata": {},
   "source": [
    "#### Manual check thread"
   ]
  },
  {
   "cell_type": "code",
   "execution_count": 6,
   "metadata": {
    "metadata": {}
   },
   "outputs": [],
   "source": [
    "df_a = pd.read_csv(\"./Df completi/df_asthma_completo.csv\")\n",
    "df_l = pd.read_csv(\"./Df completi/df_lungs_completo_sentiment_change.csv\")"
   ]
  },
  {
   "cell_type": "code",
   "execution_count": 3,
   "metadata": {},
   "outputs": [],
   "source": [
    "df_a = df_a[df_a.author != \"Hidden\"]\n",
    "df_l = df_l[df_l.author != \"Hidden\"]"
   ]
  },
  {
   "cell_type": "code",
   "execution_count": 4,
   "metadata": {},
   "outputs": [],
   "source": [
    "list_threads = [36373, 7415, 4278, 1486, 1875, 7531, 9035, 9838, 16315, 44365, 21345,22006]"
   ]
  },
  {
   "cell_type": "code",
   "execution_count": 69,
   "metadata": {},
   "outputs": [],
   "source": [
    "list_threads = df_a[(df_a[\"n_interactions\"] == 3) & (df_a[\"change_sentiment\"] == True)].thread.unique()"
   ]
  },
  {
   "cell_type": "code",
   "execution_count": 5,
   "metadata": {},
   "outputs": [],
   "source": [
    "df_a[(df_a.thread.isin(list_threads)) & (df_a[\"change_sentiment\"] == True)][[\"text\", \"author\", \"sentiment\", \"is_su\", \"n_interactions\", \"thread\", \"url\"]].to_excel(\"prof_2.xlsx\", index = False)"
   ]
  },
  {
   "cell_type": "markdown",
   "metadata": {},
   "source": [
    "#### Check manuale change sentiment"
   ]
  },
  {
   "cell_type": "code",
   "execution_count": 26,
   "metadata": {},
   "outputs": [],
   "source": [
    "df_su_a = df_su_a[df_su_a.author != \"Hidden\"]"
   ]
  },
  {
   "cell_type": "code",
   "execution_count": 27,
   "metadata": {},
   "outputs": [],
   "source": [
    "random.seed(30)\n",
    "choices = random.choices(df_su_a[df_su_a.change_sentiment == True].thread.unique(), k = 25)"
   ]
  },
  {
   "cell_type": "code",
   "execution_count": 29,
   "metadata": {},
   "outputs": [],
   "source": [
    "df_su_a.loc[(df_su_a.thread.isin(choices)) & (df_su_a[\"change_sentiment\"] == True)][[\"text\", \"author\", \"sentiment\", \"is_su\", \"n_interactions\", \"thread\"]].to_excel(\"analisi_lungs.xlsx\", index = False)"
   ]
  },
  {
   "cell_type": "code",
   "execution_count": 71,
   "metadata": {},
   "outputs": [],
   "source": [
    "threads = df_su_a[df_su_a.change_sentiment == True].thread.unique()"
   ]
  },
  {
   "cell_type": "markdown",
   "metadata": {},
   "source": [
    "### LDA"
   ]
  },
  {
   "cell_type": "code",
   "execution_count": 16,
   "metadata": {},
   "outputs": [],
   "source": [
    "from gensim import corpora\n",
    "from gensim.models import LdaModel\n",
    "import ast"
   ]
  },
  {
   "cell_type": "code",
   "execution_count": 62,
   "metadata": {},
   "outputs": [],
   "source": [
    "df_a = df_a[~ df_a[\"text_lemmatised\"].isna()]"
   ]
  },
  {
   "cell_type": "code",
   "execution_count": 63,
   "metadata": {},
   "outputs": [],
   "source": [
    "df_a[\"text_lemmatised\"] = df_a[\"text_lemmatised\"].apply(lambda x: ast.literal_eval(x))"
   ]
  },
  {
   "cell_type": "code",
   "execution_count": 90,
   "metadata": {},
   "outputs": [
    {
     "data": {
      "text/html": [
       "<div>\n",
       "<style scoped>\n",
       "    .dataframe tbody tr th:only-of-type {\n",
       "        vertical-align: middle;\n",
       "    }\n",
       "\n",
       "    .dataframe tbody tr th {\n",
       "        vertical-align: top;\n",
       "    }\n",
       "\n",
       "    .dataframe thead th {\n",
       "        text-align: right;\n",
       "    }\n",
       "</style>\n",
       "<table border=\"1\" class=\"dataframe\">\n",
       "  <thead>\n",
       "    <tr style=\"text-align: right;\">\n",
       "      <th></th>\n",
       "      <th>text</th>\n",
       "      <th>author</th>\n",
       "      <th>likes</th>\n",
       "      <th>time</th>\n",
       "      <th>id</th>\n",
       "      <th>parent_id</th>\n",
       "      <th>url</th>\n",
       "      <th>target</th>\n",
       "      <th>text_processed</th>\n",
       "      <th>text_lemmatised</th>\n",
       "      <th>sentiment</th>\n",
       "      <th>thread</th>\n",
       "      <th>su_in_thread</th>\n",
       "    </tr>\n",
       "  </thead>\n",
       "  <tbody>\n",
       "    <tr>\n",
       "      <th>0</th>\n",
       "      <td>It has been diagnosed that my breathlessness i...</td>\n",
       "      <td>Homely2</td>\n",
       "      <td>1</td>\n",
       "      <td>2023-07-21 12:02:00</td>\n",
       "      <td>tc_0</td>\n",
       "      <td>p_0</td>\n",
       "      <td>https://healthunlocked.com/asthmalunguk-asthma...</td>\n",
       "      <td>My_fairy</td>\n",
       "      <td>diagnosed breathlessness asthma related four t...</td>\n",
       "      <td>['diagnose', 'breathlessness', 'asthma', 'rela...</td>\n",
       "      <td>1</td>\n",
       "      <td>1.0</td>\n",
       "      <td>False</td>\n",
       "    </tr>\n",
       "    <tr>\n",
       "      <th>1</th>\n",
       "      <td>Thanks for detailed reply</td>\n",
       "      <td>My_fairy</td>\n",
       "      <td>0</td>\n",
       "      <td>2023-07-22 08:46:00</td>\n",
       "      <td>s_0</td>\n",
       "      <td>tc_0</td>\n",
       "      <td>https://healthunlocked.com/asthmalunguk-asthma...</td>\n",
       "      <td>Homely2</td>\n",
       "      <td>thanks detailed reply</td>\n",
       "      <td>['thank', 'detailed', 'reply']</td>\n",
       "      <td>0</td>\n",
       "      <td>1.0</td>\n",
       "      <td>False</td>\n",
       "    </tr>\n",
       "  </tbody>\n",
       "</table>\n",
       "</div>"
      ],
      "text/plain": [
       "                                                text    author  likes  \\\n",
       "0  It has been diagnosed that my breathlessness i...   Homely2      1   \n",
       "1                         Thanks for detailed reply   My_fairy      0   \n",
       "\n",
       "                  time    id parent_id  \\\n",
       "0  2023-07-21 12:02:00  tc_0       p_0   \n",
       "1  2023-07-22 08:46:00   s_0      tc_0   \n",
       "\n",
       "                                                 url    target  \\\n",
       "0  https://healthunlocked.com/asthmalunguk-asthma...  My_fairy   \n",
       "1  https://healthunlocked.com/asthmalunguk-asthma...   Homely2   \n",
       "\n",
       "                                      text_processed  \\\n",
       "0  diagnosed breathlessness asthma related four t...   \n",
       "1                              thanks detailed reply   \n",
       "\n",
       "                                     text_lemmatised  sentiment  thread  \\\n",
       "0  ['diagnose', 'breathlessness', 'asthma', 'rela...          1     1.0   \n",
       "1                     ['thank', 'detailed', 'reply']          0     1.0   \n",
       "\n",
       "  su_in_thread  \n",
       "0        False  \n",
       "1        False  "
      ]
     },
     "execution_count": 90,
     "metadata": {},
     "output_type": "execute_result"
    }
   ],
   "source": [
    "df_a.head(2)"
   ]
  },
  {
   "cell_type": "code",
   "execution_count": 19,
   "metadata": {},
   "outputs": [],
   "source": [
    "def lda(df, n_topics):\n",
    "    \n",
    "    # df = df[~ df[\"text_lemmatised\"].isna()]\n",
    "    # df[\"text_lemmatised\"] = df[\"text_lemmatised\"].apply(lambda x: ast.literal_eval(x))\n",
    "\n",
    "    dictionary = corpora.Dictionary(df['text_lemmatised'])\n",
    "\n",
    "    # Filter out words that occur less than 5 documents, or more than 50% of the documents.\n",
    "    dictionary.filter_extremes(no_below=5, no_above=0.5)\n",
    "\n",
    "    # Create a bag-of-words representation of the documents.\n",
    "    corpus = [dictionary.doc2bow(text) for text in df['text_lemmatised']]\n",
    "\n",
    "    # Train the LDA model\n",
    "    lda_model = LdaModel(corpus=corpus,\n",
    "                        id2word=dictionary,\n",
    "                        num_topics= n_topics,      #10 è buono già\n",
    "                        passes=10,\n",
    "                        random_state=42)\n",
    "\n",
    "    # Print the topics\n",
    "    for idx, topic in lda_model.print_topics(-1):\n",
    "        print(f'Topic: {idx} \\nWords: {topic}\\n')\n",
    "    return lda_model"
   ]
  },
  {
   "cell_type": "markdown",
   "metadata": {},
   "source": [
    "### Asthma, trovare covid"
   ]
  },
  {
   "cell_type": "code",
   "execution_count": 2,
   "metadata": {},
   "outputs": [],
   "source": [
    "df_a_su_u = pd.read_csv(\"/home/deduce-ubuntu/Tesi/Tesi/bozze_df_analysis_sentiment/df_a_type_interaction_su_u.csv\", parse_dates = [\"time\"])\n",
    "df_a_u_u = pd.read_csv(\"/home/deduce-ubuntu/Tesi/Tesi/bozze_df_analysis_sentiment/df_a_type_interaction_user_user.csv\",  parse_dates = [\"time\"])"
   ]
  },
  {
   "cell_type": "code",
   "execution_count": 3,
   "metadata": {},
   "outputs": [],
   "source": [
    "df_a = pd.concat([df_a_su_u, df_a_u_u])\n",
    "df_a = df_a.drop_duplicates([\"id\", \"text\"])"
   ]
  },
  {
   "cell_type": "code",
   "execution_count": 4,
   "metadata": {},
   "outputs": [
    {
     "data": {
      "text/plain": [
       "(2883, 19)"
      ]
     },
     "execution_count": 4,
     "metadata": {},
     "output_type": "execute_result"
    }
   ],
   "source": [
    "df_a[df_a[\"text\"].str.lower().str.contains(\"covid\")].shape"
   ]
  },
  {
   "cell_type": "code",
   "execution_count": 7,
   "metadata": {},
   "outputs": [
    {
     "data": {
      "text/plain": [
       "(426, 19)"
      ]
     },
     "execution_count": 7,
     "metadata": {},
     "output_type": "execute_result"
    }
   ],
   "source": [
    "df_a[(df_a[\"text\"].str.lower().str.contains(\"covid\")) & \\\n",
    "      (df_a[\"id\"].str.startswith(\"p\"))].shape"
   ]
  },
  {
   "cell_type": "code",
   "execution_count": 27,
   "metadata": {},
   "outputs": [
    {
     "data": {
      "text/plain": [
       "(93468, 19)"
      ]
     },
     "execution_count": 27,
     "metadata": {},
     "output_type": "execute_result"
    }
   ],
   "source": [
    "df_a.shape"
   ]
  },
  {
   "attachments": {
    "image.png": {
     "image/png": "[encoded data removed]"
    }
   },
   "cell_type": "markdown",
   "metadata": {},
   "source": [
    "![image.png](attachment:image.png)"
   ]
  },
  {
   "cell_type": "markdown",
   "metadata": {},
   "source": [
    "### Lungs, trovare covid"
   ]
  },
  {
   "cell_type": "code",
   "execution_count": 8,
   "metadata": {},
   "outputs": [],
   "source": [
    "df_l_su_u = pd.read_csv(\"/home/deduce-ubuntu/Tesi/Tesi/bozze_df_analysis_sentiment/df_lungs_type_interaction.csv\", parse_dates = [\"time\"])\n",
    "df_l_u_u = pd.read_csv(\"/home/deduce-ubuntu/Tesi/Tesi/bozze_df_analysis_sentiment/df_lungs_type_interaction_user_user_total.csv\",  parse_dates = [\"time\"])"
   ]
  },
  {
   "cell_type": "code",
   "execution_count": 9,
   "metadata": {},
   "outputs": [],
   "source": [
    "df_l = pd.concat([df_l_su_u, df_l_u_u])"
   ]
  },
  {
   "cell_type": "code",
   "execution_count": 10,
   "metadata": {},
   "outputs": [],
   "source": [
    "df_l = df_l.drop_duplicates([\"id\", \"text\"])"
   ]
  },
  {
   "cell_type": "code",
   "execution_count": 13,
   "metadata": {},
   "outputs": [
    {
     "data": {
      "text/plain": [
       "(410179, 19)"
      ]
     },
     "execution_count": 13,
     "metadata": {},
     "output_type": "execute_result"
    }
   ],
   "source": [
    "df_l.shape"
   ]
  },
  {
   "cell_type": "code",
   "execution_count": 21,
   "metadata": {},
   "outputs": [
    {
     "data": {
      "text/plain": [
       "(6010, 19)"
      ]
     },
     "execution_count": 21,
     "metadata": {},
     "output_type": "execute_result"
    }
   ],
   "source": [
    "df_l[df_l[\"text\"].str.lower().str.contains(\"covid\")].shape"
   ]
  },
  {
   "cell_type": "code",
   "execution_count": 11,
   "metadata": {},
   "outputs": [
    {
     "data": {
      "text/plain": [
       "(1222, 19)"
      ]
     },
     "execution_count": 11,
     "metadata": {},
     "output_type": "execute_result"
    }
   ],
   "source": [
    "df_l[(df_l[\"text\"].str.lower().str.contains(\"covid\")) & \\\n",
    "      (df_l[\"id\"].str.startswith(\"p\"))].shape"
   ]
  },
  {
   "cell_type": "code",
   "execution_count": 17,
   "metadata": {},
   "outputs": [],
   "source": [
    "df_l = df_l[~ df_l[\"text_lemmatised\"].isna()]\n",
    "df_l[\"text_lemmatised\"] = df_l[\"text_lemmatised\"].apply(lambda x: ast.literal_eval(x))\n",
    "df_l.shape"
   ]
  },
  {
   "cell_type": "code",
   "execution_count": 27,
   "metadata": {},
   "outputs": [
    {
     "data": {
      "text/plain": [
       "text\n",
       "False    407352\n",
       "True       2827\n",
       "Name: count, dtype: int64"
      ]
     },
     "execution_count": 27,
     "metadata": {},
     "output_type": "execute_result"
    }
   ],
   "source": [
    "df_l.text.str.contains(\"covid\").value_counts()"
   ]
  },
  {
   "cell_type": "code",
   "execution_count": 22,
   "metadata": {},
   "outputs": [
    {
     "name": "stdout",
     "output_type": "stream",
     "text": [
      "Topic: 0 \n",
      "Words: 0.097*\"day\" + 0.067*\"week\" + 0.058*\"take\" + 0.053*\"2\" + 0.053*\"month\" + 0.045*\"3\" + 0.044*\"year\" + 0.029*\"4\" + 0.029*\"time\" + 0.022*\"6\"\n",
      "\n",
      "Topic: 1 \n",
      "Words: 0.192*\"great\" + 0.090*\"news\" + 0.051*\"free\" + 0.050*\"£\" + 0.043*\"sad\" + 0.042*\"cost\" + 0.037*\"cat\" + 0.033*\"laugh\" + 0.030*\"forget\" + 0.023*\"device\"\n",
      "\n",
      "Topic: 2 \n",
      "Words: 0.061*\"make\" + 0.057*\"photo\" + 0.048*\"line\" + 0.039*\"google\" + 0.037*\"sense\" + 0.035*\"useful\" + 0.027*\"allergy\" + 0.026*\"clean\" + 0.022*\"cool\" + 0.021*\"personal\"\n",
      "\n",
      "Topic: 3 \n",
      "Words: 0.111*\"problem\" + 0.062*\"check\" + 0.059*\"doctor\" + 0.048*\"effect\" + 0.041*\"worth\" + 0.037*\"cause\" + 0.034*\"med\" + 0.031*\"drug\" + 0.030*\"prescribe\" + 0.030*\"take\"\n",
      "\n",
      "Topic: 4 \n",
      "Words: 0.058*\"sleep\" + 0.052*\"night\" + 0.046*\"morning\" + 0.042*\"say\" + 0.039*\"go\" + 0.039*\"tell\" + 0.034*\"bed\" + 0.032*\"day\" + 0.020*\"hour\" + 0.015*\"wake\"\n",
      "\n",
      "Topic: 5 \n",
      "Words: 0.230*\"love\" + 0.107*\"christmas\" + 0.099*\"lol\" + 0.080*\"beautiful\" + 0.055*\"xx\" + 0.046*\"picture\" + 0.032*\"please\" + 0.025*\"fantastic\" + 0.021*\"hubby\" + 0.019*\"s\"\n",
      "\n",
      "Topic: 6 \n",
      "Words: 0.047*\"help\" + 0.046*\"try\" + 0.042*\"breathing\" + 0.040*\"breathe\" + 0.034*\"exercise\" + 0.031*\"breath\" + 0.029*\"feel\" + 0.028*\"easy\" + 0.024*\"get\" + 0.024*\"bad\"\n",
      "\n",
      "Topic: 7 \n",
      "Words: 0.070*\"right\" + 0.042*\"deal\" + 0.041*\"understand\" + 0.037*\"benefit\" + 0.032*\"uk\" + 0.030*\"form\" + 0.028*\"exactly\" + 0.027*\"team\" + 0.025*\"link\" + 0.022*\"son\"\n",
      "\n",
      "Topic: 8 \n",
      "Words: 0.047*\"ask\" + 0.046*\"gp\" + 0.037*\"consultant\" + 0.035*\"hospital\" + 0.030*\"nurse\" + 0.023*\"say\" + 0.021*\"respiratory\" + 0.021*\"tell\" + 0.021*\"appointment\" + 0.021*\"need\"\n",
      "\n",
      "Topic: 9 \n",
      "Words: 0.283*\"know\" + 0.138*\"let\" + 0.061*\"rest\" + 0.041*\"touch\" + 0.034*\"leg\" + 0.031*\"true\" + 0.028*\"smile\" + 0.021*\"plenty\" + 0.016*\"peace\" + 0.015*\"bottle\"\n",
      "\n",
      "Topic: 10 \n",
      "Words: 0.149*\"new\" + 0.105*\"happy\" + 0.054*\"year\" + 0.054*\"dog\" + 0.045*\"wonderful\" + 0.030*\"spend\" + 0.028*\"daughter\" + 0.027*\"pack\" + 0.026*\"recovery\" + 0.025*\"poor\"\n",
      "\n",
      "Topic: 11 \n",
      "Words: 0.183*\"help\" + 0.079*\"advice\" + 0.057*\"welcome\" + 0.056*\"hello\" + 0.053*\"find\" + 0.052*\"support\" + 0.048*\"people\" + 0.044*\"helpful\" + 0.036*\"lot\" + 0.035*\"group\"\n",
      "\n",
      "Topic: 12 \n",
      "Words: 0.473*\"thank\" + 0.139*\"xx\" + 0.077*\"reply\" + 0.056*\"fran\" + 0.050*\"lovely\" + 0.034*\"kind\" + 0.021*\"l\" + 0.020*\"share\" + 0.016*\"ha\" + 0.013*\"care\"\n",
      "\n",
      "Topic: 13 \n",
      "Words: 0.096*\"today\" + 0.057*\"lucky\" + 0.055*\"holiday\" + 0.035*\"world\" + 0.033*\"fight\" + 0.032*\"weekend\" + 0.030*\"relief\" + 0.026*\"horrible\" + 0.026*\"country\" + 0.025*\"imagine\"\n",
      "\n",
      "Topic: 14 \n",
      "Words: 0.040*\"know\" + 0.038*\"thing\" + 0.035*\"not\" + 0.027*\"think\" + 0.022*\"feel\" + 0.022*\"worry\" + 0.019*\"people\" + 0.018*\"talk\" + 0.017*\"need\" + 0.017*\"help\"\n",
      "\n",
      "Topic: 15 \n",
      "Words: 0.058*\"definitely\" + 0.051*\"bronchiectasis\" + 0.026*\"bronch\" + 0.025*\"usually\" + 0.024*\"insist\" + 0.023*\"energy\" + 0.021*\"suit\" + 0.020*\"important\" + 0.020*\"exacerbation\" + 0.016*\"pseudomonas\"\n",
      "\n",
      "Topic: 16 \n",
      "Words: 0.047*\"health\" + 0.045*\"nhs\" + 0.038*\"face\" + 0.037*\"company\" + 0.037*\"contact\" + 0.033*\"travel\" + 0.030*\"amazing\" + 0.027*\"medical\" + 0.026*\"pip\" + 0.023*\"point\"\n",
      "\n",
      "Topic: 17 \n",
      "Words: 0.172*\"copd\" + 0.095*\"asthma\" + 0.092*\"inhaler\" + 0.043*\"emphysema\" + 0.036*\"diagnose\" + 0.036*\"stage\" + 0.034*\"severe\" + 0.026*\"medication\" + 0.023*\"ventolin\" + 0.022*\"mild\"\n",
      "\n",
      "Topic: 18 \n",
      "Words: 0.103*\"stay\" + 0.058*\"dad\" + 0.055*\"care\" + 0.046*\"mum\" + 0.038*\"home\" + 0.037*\"young\" + 0.033*\"safe\" + 0.031*\"blf\" + 0.030*\"bless\" + 0.030*\"god\"\n",
      "\n",
      "Topic: 19 \n",
      "Words: 0.163*\"sorry\" + 0.139*\"hear\" + 0.073*\"oh\" + 0.039*\"xx\" + 0.036*\"send\" + 0.030*\"dear\" + 0.029*\"thought\" + 0.026*\"loss\" + 0.024*\"love\" + 0.024*\"awful\"\n",
      "\n",
      "Topic: 20 \n",
      "Words: 0.254*\"not\" + 0.106*\"think\" + 0.059*\"know\" + 0.053*\"s\" + 0.034*\"maybe\" + 0.028*\"ill\" + 0.022*\"want\" + 0.020*\"like\" + 0.018*\"d\" + 0.017*\"go\"\n",
      "\n",
      "Topic: 21 \n",
      "Words: 0.051*\"enjoy\" + 0.036*\"day\" + 0.030*\"friend\" + 0.030*\"cold\" + 0.029*\"think\" + 0.026*\"remember\" + 0.026*\"weather\" + 0.026*\"mind\" + 0.023*\"warm\" + 0.022*\"watch\"\n",
      "\n",
      "Topic: 22 \n",
      "Words: 0.062*\"run\" + 0.059*\"head\" + 0.043*\"round\" + 0.040*\"foot\" + 0.034*\"number\" + 0.033*\"cheer\" + 0.026*\"sister\" + 0.025*\"skin\" + 0.022*\"simple\" + 0.021*\"pre\"\n",
      "\n",
      "Topic: 23 \n",
      "Words: 0.067*\"infection\" + 0.056*\"cough\" + 0.048*\"antibiotic\" + 0.042*\"steroid\" + 0.041*\"chest\" + 0.027*\"clear\" + 0.025*\"mucus\" + 0.025*\"help\" + 0.020*\"feel\" + 0.015*\"take\"\n",
      "\n",
      "Topic: 24 \n",
      "Words: 0.172*\"yes\" + 0.054*\"water\" + 0.047*\"eat\" + 0.041*\"drink\" + 0.039*\"food\" + 0.035*\"buy\" + 0.031*\"hot\" + 0.029*\"stuff\" + 0.024*\"big\" + 0.021*\"effective\"\n",
      "\n",
      "Topic: 25 \n",
      "Words: 0.122*\"heart\" + 0.083*\"high\" + 0.050*\"blood\" + 0.039*\"real\" + 0.039*\"pressure\" + 0.030*\"risk\" + 0.029*\"rate\" + 0.025*\"reading\" + 0.023*\"raise\" + 0.021*\"self\"\n",
      "\n",
      "Topic: 26 \n",
      "Words: 0.064*\"test\" + 0.043*\"pain\" + 0.036*\"lung\" + 0.029*\"scan\" + 0.027*\"result\" + 0.021*\"blood\" + 0.018*\"year\" + 0.018*\"say\" + 0.018*\"ct\" + 0.016*\"go\"\n",
      "\n",
      "Topic: 27 \n",
      "Words: 0.049*\"u\" + 0.044*\"nose\" + 0.036*\"mouth\" + 0.032*\"spray\" + 0.031*\"dry\" + 0.031*\"nasal\" + 0.029*\"prescription\" + 0.027*\"sinus\" + 0.027*\"difference\" + 0.025*\"n\"\n",
      "\n",
      "Topic: 28 \n",
      "Words: 0.153*\"oxygen\" + 0.056*\"level\" + 0.051*\"need\" + 0.047*\"walk\" + 0.036*\"fit\" + 0.032*\"5\" + 0.030*\"low\" + 0.030*\"drop\" + 0.022*\"15\" + 0.019*\"minute\"\n",
      "\n",
      "Topic: 29 \n",
      "Words: 0.063*\"reflux\" + 0.055*\"cross\" + 0.053*\"finger\" + 0.052*\"acid\" + 0.044*\"recover\" + 0.044*\"flu\" + 0.036*\"pneumonia\" + 0.034*\"pick\" + 0.030*\"huge\" + 0.028*\"money\"\n",
      "\n",
      "Topic: 30 \n",
      "Words: 0.185*\"hope\" + 0.155*\"well\" + 0.127*\"feel\" + 0.072*\"soon\" + 0.036*\"xx\" + 0.033*\"glad\" + 0.029*\"go\" + 0.023*\"wish\" + 0.022*\"thing\" + 0.021*\"care\"\n",
      "\n",
      "Topic: 31 \n",
      "Words: 0.047*\"hand\" + 0.039*\"fly\" + 0.035*\"wear\" + 0.029*\"fine\" + 0.024*\"cover\" + 0.024*\"mask\" + 0.023*\"drive\" + 0.023*\"car\" + 0.022*\"stand\" + 0.020*\"carry\"\n",
      "\n",
      "Topic: 32 \n",
      "Words: 0.134*\"treatment\" + 0.063*\"cancer\" + 0.051*\"treat\" + 0.037*\"experience\" + 0.037*\"interesting\" + 0.035*\"story\" + 0.034*\"patient\" + 0.033*\"message\" + 0.028*\"pretty\" + 0.023*\"concern\"\n",
      "\n",
      "Topic: 33 \n",
      "Words: 0.067*\"air\" + 0.043*\"bring\" + 0.039*\"break\" + 0.038*\"open\" + 0.034*\"house\" + 0.028*\"leave\" + 0.026*\"room\" + 0.025*\"door\" + 0.023*\"close\" + 0.022*\"shop\"\n",
      "\n",
      "Topic: 34 \n",
      "Words: 0.270*\"look\" + 0.069*\"nice\" + 0.068*\"thankyou\" + 0.053*\"certainly\" + 0.043*\"forward\" + 0.043*\"one\" + 0.038*\"eye\" + 0.026*\"penny\" + 0.023*\"white\" + 0.021*\"meet\"\n",
      "\n",
      "Topic: 35 \n",
      "Words: 0.263*\"work\" + 0.032*\"pay\" + 0.030*\"job\" + 0.025*\"child\" + 0.019*\"grow\" + 0.017*\"expect\" + 0.017*\"sick\" + 0.016*\"anti\" + 0.016*\"bacteria\" + 0.016*\"school\"\n",
      "\n",
      "Topic: 36 \n",
      "Words: 0.133*\"lung\" + 0.036*\"disease\" + 0.027*\"condition\" + 0.023*\"weight\" + 0.016*\"research\" + 0.015*\"lose\" + 0.014*\"people\" + 0.014*\"cause\" + 0.013*\"damage\" + 0.012*\"medicine\"\n",
      "\n",
      "Topic: 37 \n",
      "Words: 0.136*\"year\" + 0.058*\"ago\" + 0.057*\"life\" + 0.054*\"live\" + 0.051*\"smoke\" + 0.033*\"stop\" + 0.027*\"old\" + 0.023*\"pulmonary\" + 0.020*\"age\" + 0.018*\"diagnose\"\n",
      "\n",
      "Topic: 38 \n",
      "Words: 0.499*\"good\" + 0.130*\"luck\" + 0.076*\"wish\" + 0.047*\"hope\" + 0.041*\"sound\" + 0.033*\"agree\" + 0.018*\"idea\" + 0.015*\"care\" + 0.010*\"thing\" + 0.010*\"go\"\n",
      "\n",
      "Topic: 39 \n",
      "Words: 0.150*\"post\" + 0.137*\"read\" + 0.052*\"site\" + 0.030*\"comment\" + 0.028*\"write\" + 0.027*\"miss\" + 0.027*\"information\" + 0.026*\"add\" + 0.026*\"strength\" + 0.025*\"wow\"\n",
      "\n"
     ]
    },
    {
     "data": {
      "text/plain": [
       "<gensim.models.ldamodel.LdaModel at 0x7fd937354910>"
      ]
     },
     "execution_count": 22,
     "metadata": {},
     "output_type": "execute_result"
    }
   ],
   "source": [
    "lda(df_l, 40)"
   ]
  },
  {
   "cell_type": "markdown",
   "metadata": {},
   "source": [
    "#### Altro"
   ]
  },
  {
   "cell_type": "code",
   "execution_count": 67,
   "metadata": {},
   "outputs": [
    {
     "name": "stdout",
     "output_type": "stream",
     "text": [
      "Topic: 0 \n",
      "Words: 0.029*\"feel\" + 0.019*\"know\" + 0.018*\"bad\" + 0.015*\"think\" + 0.014*\"not\" + 0.012*\"thing\" + 0.011*\"attack\" + 0.010*\"asthma\" + 0.009*\"find\" + 0.009*\"hard\"\n",
      "\n",
      "Topic: 1 \n",
      "Words: 0.037*\"test\" + 0.028*\"allergy\" + 0.025*\"blood\" + 0.017*\"allergic\" + 0.014*\"level\" + 0.011*\"food\" + 0.011*\"high\" + 0.011*\"check\" + 0.010*\"eye\" + 0.009*\"take\"\n",
      "\n",
      "Topic: 2 \n",
      "Words: 0.052*\"health\" + 0.026*\"work\" + 0.019*\"medical\" + 0.017*\"risk\" + 0.017*\"patient\" + 0.013*\"condition\" + 0.013*\"nhs\" + 0.012*\"consider\" + 0.010*\"provide\" + 0.010*\"advice\"\n",
      "\n",
      "Topic: 3 \n",
      "Words: 0.026*\"help\" + 0.019*\"problem\" + 0.018*\"reflux\" + 0.016*\"cause\" + 0.016*\"try\" + 0.014*\"eat\" + 0.014*\"cough\" + 0.013*\"night\" + 0.013*\"exercise\" + 0.013*\"asthma\"\n",
      "\n",
      "Topic: 4 \n",
      "Words: 0.067*\"inhaler\" + 0.026*\"ventolin\" + 0.026*\"need\" + 0.022*\"medication\" + 0.016*\"take\" + 0.015*\"blue\" + 0.015*\"preventer\" + 0.014*\"work\" + 0.012*\"try\" + 0.012*\"reliever\"\n",
      "\n",
      "Topic: 5 \n",
      "Words: 0.032*\"air\" + 0.025*\"trigger\" + 0.019*\"cold\" + 0.017*\"dust\" + 0.015*\"house\" + 0.014*\"pollen\" + 0.013*\"weather\" + 0.012*\"smoke\" + 0.012*\"room\" + 0.010*\"clean\"\n",
      "\n",
      "Topic: 6 \n",
      "Words: 0.135*\"thank\" + 0.067*\"hope\" + 0.040*\"well\" + 0.036*\"good\" + 0.036*\"feel\" + 0.033*\"soon\" + 0.032*\"hear\" + 0.029*\"reply\" + 0.022*\"glad\" + 0.022*\"sorry\"\n",
      "\n",
      "Topic: 7 \n",
      "Words: 0.096*\"inhaler\" + 0.075*\"steroid\" + 0.056*\"fostair\" + 0.040*\"symbicort\" + 0.034*\"pray\" + 0.023*\"effect\" + 0.023*\"dose\" + 0.022*\"rinse\" + 0.022*\"thrush\" + 0.022*\"seretide\"\n",
      "\n",
      "Topic: 8 \n",
      "Words: 0.060*\"asthma\" + 0.044*\"gp\" + 0.044*\"nurse\" + 0.028*\"doctor\" + 0.027*\"need\" + 0.025*\"not\" + 0.023*\"good\" + 0.022*\"ask\" + 0.020*\"help\" + 0.019*\"advice\"\n",
      "\n",
      "Topic: 9 \n",
      "Words: 0.068*\"not\" + 0.026*\"think\" + 0.022*\"know\" + 0.019*\"work\" + 0.016*\"go\" + 0.011*\"people\" + 0.011*\"good\" + 0.011*\"want\" + 0.010*\"say\" + 0.010*\"need\"\n",
      "\n",
      "Topic: 10 \n",
      "Words: 0.057*\"flow\" + 0.056*\"peak\" + 0.029*\"good\" + 0.025*\"test\" + 0.021*\"not\" + 0.020*\"asthma\" + 0.012*\"normal\" + 0.011*\"reading\" + 0.010*\"spirometry\" + 0.010*\"drop\"\n",
      "\n",
      "Topic: 11 \n",
      "Words: 0.078*\"asthma\" + 0.035*\"not\" + 0.018*\"people\" + 0.016*\"help\" + 0.015*\"know\" + 0.013*\"think\" + 0.011*\"control\" + 0.010*\"symptom\" + 0.010*\"need\" + 0.010*\"thing\"\n",
      "\n",
      "Topic: 12 \n",
      "Words: 0.044*\"infection\" + 0.040*\"chest\" + 0.028*\"asthma\" + 0.022*\"wheeze\" + 0.021*\"bad\" + 0.021*\"cough\" + 0.018*\"attack\" + 0.017*\"not\" + 0.017*\"hospital\" + 0.016*\"ae\"\n",
      "\n",
      "Topic: 13 \n",
      "Words: 0.042*\"year\" + 0.021*\"hospital\" + 0.020*\"month\" + 0.017*\"consultant\" + 0.013*\"flu\" + 0.013*\"ago\" + 0.010*\"hosp\" + 0.009*\"local\" + 0.009*\"letter\" + 0.009*\"gp\"\n",
      "\n",
      "Topic: 14 \n",
      "Words: 0.049*\"day\" + 0.027*\"week\" + 0.026*\"steroid\" + 0.023*\"take\" + 0.019*\"year\" + 0.017*\"dose\" + 0.016*\"start\" + 0.015*\"2\" + 0.015*\"month\" + 0.014*\"need\"\n",
      "\n"
     ]
    },
    {
     "data": {
      "text/plain": [
       "<gensim.models.ldamodel.LdaModel at 0x7f8dd9f32d40>"
      ]
     },
     "execution_count": 67,
     "metadata": {},
     "output_type": "execute_result"
    }
   ],
   "source": [
    "lda(df_a[(df_a[\"change_sentiment\"] == True) & (df_a[\"is_su\"] == True) & (~ df_a[\"text_lemmatised\"].isna())], 15)"
   ]
  },
  {
   "cell_type": "markdown",
   "metadata": {},
   "source": [
    "#### TEST LDA"
   ]
  },
  {
   "cell_type": "code",
   "execution_count": 95,
   "metadata": {},
   "outputs": [
    {
     "name": "stdout",
     "output_type": "stream",
     "text": [
      "Topic: 0 \n",
      "Words: 0.029*\"feel\" + 0.019*\"know\" + 0.018*\"bad\" + 0.015*\"think\" + 0.014*\"not\" + 0.012*\"thing\" + 0.011*\"attack\" + 0.010*\"asthma\" + 0.009*\"find\" + 0.009*\"hard\"\n",
      "\n",
      "Topic: 1 \n",
      "Words: 0.037*\"test\" + 0.028*\"allergy\" + 0.025*\"blood\" + 0.017*\"allergic\" + 0.014*\"level\" + 0.011*\"food\" + 0.011*\"high\" + 0.011*\"check\" + 0.010*\"eye\" + 0.009*\"take\"\n",
      "\n",
      "Topic: 2 \n",
      "Words: 0.052*\"health\" + 0.026*\"work\" + 0.019*\"medical\" + 0.017*\"risk\" + 0.017*\"patient\" + 0.013*\"condition\" + 0.013*\"nhs\" + 0.012*\"consider\" + 0.010*\"provide\" + 0.010*\"advice\"\n",
      "\n",
      "Topic: 3 \n",
      "Words: 0.026*\"help\" + 0.019*\"problem\" + 0.018*\"reflux\" + 0.016*\"cause\" + 0.016*\"try\" + 0.014*\"eat\" + 0.014*\"cough\" + 0.013*\"night\" + 0.013*\"exercise\" + 0.013*\"asthma\"\n",
      "\n",
      "Topic: 4 \n",
      "Words: 0.067*\"inhaler\" + 0.026*\"ventolin\" + 0.026*\"need\" + 0.022*\"medication\" + 0.016*\"take\" + 0.015*\"blue\" + 0.015*\"preventer\" + 0.014*\"work\" + 0.012*\"try\" + 0.012*\"reliever\"\n",
      "\n",
      "Topic: 5 \n",
      "Words: 0.032*\"air\" + 0.025*\"trigger\" + 0.019*\"cold\" + 0.017*\"dust\" + 0.015*\"house\" + 0.014*\"pollen\" + 0.013*\"weather\" + 0.012*\"smoke\" + 0.012*\"room\" + 0.010*\"clean\"\n",
      "\n",
      "Topic: 6 \n",
      "Words: 0.135*\"thank\" + 0.067*\"hope\" + 0.040*\"well\" + 0.036*\"good\" + 0.036*\"feel\" + 0.033*\"soon\" + 0.032*\"hear\" + 0.029*\"reply\" + 0.022*\"glad\" + 0.022*\"sorry\"\n",
      "\n",
      "Topic: 7 \n",
      "Words: 0.096*\"inhaler\" + 0.075*\"steroid\" + 0.056*\"fostair\" + 0.040*\"symbicort\" + 0.034*\"pray\" + 0.023*\"effect\" + 0.023*\"dose\" + 0.022*\"rinse\" + 0.022*\"thrush\" + 0.022*\"seretide\"\n",
      "\n",
      "Topic: 8 \n",
      "Words: 0.060*\"asthma\" + 0.044*\"gp\" + 0.044*\"nurse\" + 0.028*\"doctor\" + 0.027*\"need\" + 0.025*\"not\" + 0.023*\"good\" + 0.022*\"ask\" + 0.020*\"help\" + 0.019*\"advice\"\n",
      "\n",
      "Topic: 9 \n",
      "Words: 0.068*\"not\" + 0.026*\"think\" + 0.022*\"know\" + 0.019*\"work\" + 0.016*\"go\" + 0.011*\"people\" + 0.011*\"good\" + 0.011*\"want\" + 0.010*\"say\" + 0.010*\"need\"\n",
      "\n",
      "Topic: 10 \n",
      "Words: 0.057*\"flow\" + 0.056*\"peak\" + 0.029*\"good\" + 0.025*\"test\" + 0.021*\"not\" + 0.020*\"asthma\" + 0.012*\"normal\" + 0.011*\"reading\" + 0.010*\"spirometry\" + 0.010*\"drop\"\n",
      "\n",
      "Topic: 11 \n",
      "Words: 0.078*\"asthma\" + 0.035*\"not\" + 0.018*\"people\" + 0.016*\"help\" + 0.015*\"know\" + 0.013*\"think\" + 0.011*\"control\" + 0.010*\"symptom\" + 0.010*\"need\" + 0.010*\"thing\"\n",
      "\n",
      "Topic: 12 \n",
      "Words: 0.044*\"infection\" + 0.040*\"chest\" + 0.028*\"asthma\" + 0.022*\"wheeze\" + 0.021*\"bad\" + 0.021*\"cough\" + 0.018*\"attack\" + 0.017*\"not\" + 0.017*\"hospital\" + 0.016*\"ae\"\n",
      "\n",
      "Topic: 13 \n",
      "Words: 0.042*\"year\" + 0.021*\"hospital\" + 0.020*\"month\" + 0.017*\"consultant\" + 0.013*\"flu\" + 0.013*\"ago\" + 0.010*\"hosp\" + 0.009*\"local\" + 0.009*\"letter\" + 0.009*\"gp\"\n",
      "\n",
      "Topic: 14 \n",
      "Words: 0.049*\"day\" + 0.027*\"week\" + 0.026*\"steroid\" + 0.023*\"take\" + 0.019*\"year\" + 0.017*\"dose\" + 0.016*\"start\" + 0.015*\"2\" + 0.015*\"month\" + 0.014*\"need\"\n",
      "\n"
     ]
    }
   ],
   "source": [
    "dictionary = corpora.Dictionary(df_a['text_lemmatised'])\n",
    "\n",
    "# Filter out words that occur less than 5 documents, or more than 50% of the documents.\n",
    "dictionary.filter_extremes(no_below=5, no_above=0.5)\n",
    "\n",
    "# Create a bag-of-words representation of the documents.\n",
    "corpus = [dictionary.doc2bow(text) for text in df_a['text_lemmatised']]\n",
    "\n",
    "# Train the LDA model\n",
    "lda_model = LdaModel(corpus=corpus,\n",
    "                     id2word=dictionary,\n",
    "                     num_topics=15,      #10 è buono già\n",
    "                     passes=10,\n",
    "                     random_state=42)\n",
    "\n",
    "# Print the topics\n",
    "for idx, topic in lda_model.print_topics(-1):\n",
    "    print(f'Topic: {idx} \\nWords: {topic}\\n')"
   ]
  }
 ],
 "metadata": {
  "kernelspec": {
   "display_name": ".venv",
   "language": "python",
   "name": "python3"
  },
  "language_info": {
   "codemirror_mode": {
    "name": "ipython",
    "version": 3
   },
   "file_extension": ".py",
   "mimetype": "text/x-python",
   "name": "python",
   "nbconvert_exporter": "python",
   "pygments_lexer": "ipython3",
   "version": "3.10.13"
  }
 },
 "nbformat": 4,
 "nbformat_minor": 2
}
