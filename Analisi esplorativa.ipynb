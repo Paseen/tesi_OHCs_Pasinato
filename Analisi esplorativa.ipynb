{
 "cells": [
  {
   "cell_type": "code",
   "execution_count": 1,
   "id": "81131a64",
   "metadata": {},
   "outputs": [],
   "source": [
    "import pandas as pd\n",
    "import seaborn as sns\n",
    "import matplotlib.pyplot as plt\n",
    "from wordcloud import WordCloud, STOPWORDS\n",
    "from nltk.corpus import stopwords\n",
    "from nltk.stem import WordNetLemmatizer\n",
    "from preprocessing_functions import *\n",
    "import spacy"
   ]
  },
  {
   "cell_type": "code",
   "execution_count": 3,
   "id": "88279ade",
   "metadata": {},
   "outputs": [],
   "source": [
    "df_post_asthma = pd.read_csv(\"./Data_asthma/Official/df_post_off.csv\")\n",
    "df_com_asthma = pd.read_csv(\"./Data_asthma/Official/df_com_off.csv\")"
   ]
  },
  {
   "cell_type": "code",
   "execution_count": 54,
   "id": "ed6a7a1b",
   "metadata": {
    "scrolled": true
   },
   "outputs": [
    {
     "data": {
      "text/html": [
       "<div>\n",
       "<style scoped>\n",
       "    .dataframe tbody tr th:only-of-type {\n",
       "        vertical-align: middle;\n",
       "    }\n",
       "\n",
       "    .dataframe tbody tr th {\n",
       "        vertical-align: top;\n",
       "    }\n",
       "\n",
       "    .dataframe thead th {\n",
       "        text-align: right;\n",
       "    }\n",
       "</style>\n",
       "<table border=\"1\" class=\"dataframe\">\n",
       "  <thead>\n",
       "    <tr style=\"text-align: right;\">\n",
       "      <th></th>\n",
       "      <th>title</th>\n",
       "      <th>text</th>\n",
       "      <th>author</th>\n",
       "      <th>likes</th>\n",
       "      <th>time</th>\n",
       "      <th>id</th>\n",
       "      <th>url</th>\n",
       "      <th>replies</th>\n",
       "    </tr>\n",
       "  </thead>\n",
       "  <tbody>\n",
       "    <tr>\n",
       "      <th>0</th>\n",
       "      <td>How can asthma breathlessness be diagnosed? Is...</td>\n",
       "      <td>I need help as my daughter suffers with severe...</td>\n",
       "      <td>My_fairy</td>\n",
       "      <td>Like (3)</td>\n",
       "      <td>Friday, July 21st, 2023 9:57 AM</td>\n",
       "      <td>p_0</td>\n",
       "      <td>https://healthunlocked.com/asthmalunguk-asthma...</td>\n",
       "      <td>0 Replies</td>\n",
       "    </tr>\n",
       "    <tr>\n",
       "      <th>1</th>\n",
       "      <td>Could this be steroid damage?</td>\n",
       "      <td>Hi, Today my big toe got briefly caught in som...</td>\n",
       "      <td>Wheezycat</td>\n",
       "      <td>Like (2)</td>\n",
       "      <td>Thursday, July 20th, 2023 7:13 PM</td>\n",
       "      <td>p_1</td>\n",
       "      <td>https://healthunlocked.com/asthmalunguk-asthma...</td>\n",
       "      <td>0 Replies</td>\n",
       "    </tr>\n",
       "    <tr>\n",
       "      <th>2</th>\n",
       "      <td>I just want to know, is it just me?</td>\n",
       "      <td>Am I the only one to have a hard time breathin...</td>\n",
       "      <td>Hidden</td>\n",
       "      <td>Like (0)</td>\n",
       "      <td>Thursday, July 20th, 2023 6:41 AM</td>\n",
       "      <td>p_2</td>\n",
       "      <td>https://healthunlocked.com/asthmalunguk-asthma...</td>\n",
       "      <td>0 Replies</td>\n",
       "    </tr>\n",
       "    <tr>\n",
       "      <th>3</th>\n",
       "      <td>Trimbow</td>\n",
       "      <td>I'm starting Trimbow today. Is anyone else on ...</td>\n",
       "      <td>PaulRosedene</td>\n",
       "      <td>Like (0)</td>\n",
       "      <td>Thursday, July 20th, 2023 5:46 AM</td>\n",
       "      <td>p_3</td>\n",
       "      <td>https://healthunlocked.com/asthmalunguk-asthma...</td>\n",
       "      <td>0 Replies</td>\n",
       "    </tr>\n",
       "    <tr>\n",
       "      <th>4</th>\n",
       "      <td>Infuriating Asthma Appointment</td>\n",
       "      <td>So i had a follow-up appointment with my asthm...</td>\n",
       "      <td>Lilmix03</td>\n",
       "      <td>Like (1)</td>\n",
       "      <td>Wednesday, July 19th, 2023 11:23 AM</td>\n",
       "      <td>p_4</td>\n",
       "      <td>https://healthunlocked.com/asthmalunguk-asthma...</td>\n",
       "      <td>0 Replies</td>\n",
       "    </tr>\n",
       "  </tbody>\n",
       "</table>\n",
       "</div>"
      ],
      "text/plain": [
       "                                               title  \\\n",
       "0  How can asthma breathlessness be diagnosed? Is...   \n",
       "1                      Could this be steroid damage?   \n",
       "2                I just want to know, is it just me?   \n",
       "3                                            Trimbow   \n",
       "4                     Infuriating Asthma Appointment   \n",
       "\n",
       "                                                text        author      likes  \\\n",
       "0  I need help as my daughter suffers with severe...      My_fairy   Like (3)   \n",
       "1  Hi, Today my big toe got briefly caught in som...     Wheezycat   Like (2)   \n",
       "2  Am I the only one to have a hard time breathin...        Hidden   Like (0)   \n",
       "3  I'm starting Trimbow today. Is anyone else on ...  PaulRosedene   Like (0)   \n",
       "4  So i had a follow-up appointment with my asthm...      Lilmix03   Like (1)   \n",
       "\n",
       "                                  time   id  \\\n",
       "0      Friday, July 21st, 2023 9:57 AM  p_0   \n",
       "1    Thursday, July 20th, 2023 7:13 PM  p_1   \n",
       "2    Thursday, July 20th, 2023 6:41 AM  p_2   \n",
       "3    Thursday, July 20th, 2023 5:46 AM  p_3   \n",
       "4  Wednesday, July 19th, 2023 11:23 AM  p_4   \n",
       "\n",
       "                                                 url    replies  \n",
       "0  https://healthunlocked.com/asthmalunguk-asthma...  0 Replies  \n",
       "1  https://healthunlocked.com/asthmalunguk-asthma...  0 Replies  \n",
       "2  https://healthunlocked.com/asthmalunguk-asthma...  0 Replies  \n",
       "3  https://healthunlocked.com/asthmalunguk-asthma...  0 Replies  \n",
       "4  https://healthunlocked.com/asthmalunguk-asthma...  0 Replies  "
      ]
     },
     "execution_count": 54,
     "metadata": {},
     "output_type": "execute_result"
    }
   ],
   "source": [
    "df_post_asthma.head()"
   ]
  },
  {
   "cell_type": "code",
   "execution_count": 55,
   "id": "287ecd93",
   "metadata": {},
   "outputs": [
    {
     "data": {
      "text/html": [
       "<div>\n",
       "<style scoped>\n",
       "    .dataframe tbody tr th:only-of-type {\n",
       "        vertical-align: middle;\n",
       "    }\n",
       "\n",
       "    .dataframe tbody tr th {\n",
       "        vertical-align: top;\n",
       "    }\n",
       "\n",
       "    .dataframe thead th {\n",
       "        text-align: right;\n",
       "    }\n",
       "</style>\n",
       "<table border=\"1\" class=\"dataframe\">\n",
       "  <thead>\n",
       "    <tr style=\"text-align: right;\">\n",
       "      <th></th>\n",
       "      <th>text</th>\n",
       "      <th>author</th>\n",
       "      <th>likes</th>\n",
       "      <th>time</th>\n",
       "      <th>id</th>\n",
       "      <th>parent_id</th>\n",
       "      <th>url</th>\n",
       "    </tr>\n",
       "  </thead>\n",
       "  <tbody>\n",
       "    <tr>\n",
       "      <th>0</th>\n",
       "      <td>[It has been diagnosed that my breathlessness ...</td>\n",
       "      <td>Homely2</td>\n",
       "      <td>(1)</td>\n",
       "      <td>Friday, July 21st, 2023 12:02 PM</td>\n",
       "      <td>tc_0</td>\n",
       "      <td>p_0</td>\n",
       "      <td>https://healthunlocked.com/asthmalunguk-asthma...</td>\n",
       "    </tr>\n",
       "    <tr>\n",
       "      <th>1</th>\n",
       "      <td>Thanks for detailed reply</td>\n",
       "      <td>My_fairy</td>\n",
       "      <td>(0)</td>\n",
       "      <td>Saturday, July 22nd, 2023 8:46 AM</td>\n",
       "      <td>s_0</td>\n",
       "      <td>tc_0</td>\n",
       "      <td>https://healthunlocked.com/asthmalunguk-asthma...</td>\n",
       "    </tr>\n",
       "    <tr>\n",
       "      <th>2</th>\n",
       "      <td>[Good morning My_fairy. I was diagnosed as hav...</td>\n",
       "      <td>Bingo88</td>\n",
       "      <td>(1)</td>\n",
       "      <td>Saturday, July 22nd, 2023 5:41 AM</td>\n",
       "      <td>tc_1</td>\n",
       "      <td>p_0</td>\n",
       "      <td>https://healthunlocked.com/asthmalunguk-asthma...</td>\n",
       "    </tr>\n",
       "    <tr>\n",
       "      <th>3</th>\n",
       "      <td>thanks Brian yes she did have bloods and I bel...</td>\n",
       "      <td>My_fairy</td>\n",
       "      <td>(1)</td>\n",
       "      <td>Saturday, July 22nd, 2023 8:48 AM</td>\n",
       "      <td>s_1</td>\n",
       "      <td>tc_1</td>\n",
       "      <td>https://healthunlocked.com/asthmalunguk-asthma...</td>\n",
       "    </tr>\n",
       "    <tr>\n",
       "      <th>4</th>\n",
       "      <td>Not sure sorry I was just told there was signs...</td>\n",
       "      <td>Bingo88</td>\n",
       "      <td>(1)</td>\n",
       "      <td>Sunday, July 23rd, 2023 6:58 AM</td>\n",
       "      <td>s_2</td>\n",
       "      <td>s_1</td>\n",
       "      <td>https://healthunlocked.com/asthmalunguk-asthma...</td>\n",
       "    </tr>\n",
       "  </tbody>\n",
       "</table>\n",
       "</div>"
      ],
      "text/plain": [
       "                                                text    author likes  \\\n",
       "0  [It has been diagnosed that my breathlessness ...   Homely2   (1)   \n",
       "1                         Thanks for detailed reply   My_fairy   (0)   \n",
       "2  [Good morning My_fairy. I was diagnosed as hav...   Bingo88   (1)   \n",
       "3  thanks Brian yes she did have bloods and I bel...  My_fairy   (1)   \n",
       "4  Not sure sorry I was just told there was signs...   Bingo88   (1)   \n",
       "\n",
       "                                time    id parent_id  \\\n",
       "0   Friday, July 21st, 2023 12:02 PM  tc_0       p_0   \n",
       "1  Saturday, July 22nd, 2023 8:46 AM   s_0      tc_0   \n",
       "2  Saturday, July 22nd, 2023 5:41 AM  tc_1       p_0   \n",
       "3  Saturday, July 22nd, 2023 8:48 AM   s_1      tc_1   \n",
       "4    Sunday, July 23rd, 2023 6:58 AM   s_2       s_1   \n",
       "\n",
       "                                                 url  \n",
       "0  https://healthunlocked.com/asthmalunguk-asthma...  \n",
       "1  https://healthunlocked.com/asthmalunguk-asthma...  \n",
       "2  https://healthunlocked.com/asthmalunguk-asthma...  \n",
       "3  https://healthunlocked.com/asthmalunguk-asthma...  \n",
       "4  https://healthunlocked.com/asthmalunguk-asthma...  "
      ]
     },
     "execution_count": 55,
     "metadata": {},
     "output_type": "execute_result"
    }
   ],
   "source": [
    "df_com_asthma.head()"
   ]
  },
  {
   "cell_type": "markdown",
   "id": "de3d8736",
   "metadata": {},
   "source": [
    "## Clean df post"
   ]
  },
  {
   "cell_type": "code",
   "execution_count": 57,
   "id": "21cb3fef",
   "metadata": {},
   "outputs": [
    {
     "name": "stderr",
     "output_type": "stream",
     "text": [
      "<ipython-input-57-fa7cc91b9645>:4: FutureWarning: The default value of regex will change from True to False in a future version. In addition, single character regular expressions will*not* be treated as literal strings when regex=True.\n",
      "  df_post_asthma[\"likes\"] = pd.to_numeric(df_post_asthma[\"likes\"].str.split().str[1].str.replace(\"(\", \"\").str.replace(\")\",\"\"))\n"
     ]
    }
   ],
   "source": [
    "df_post_asthma[\"replies\"] = df_post_asthma[\"replies\"].str.split().str[0]\n",
    "df_post_asthma[\"replies\"] = pd.to_numeric(df_post_asthma[\"replies\"])\n",
    "df_post_asthma[\"time\"] = pd.to_datetime(df_post_asthma[\"time\"])\n",
    "df_post_asthma[\"likes\"] = pd.to_numeric(df_post_asthma[\"likes\"].str.split().str[1].str.replace(\"(\", \"\").str.replace(\")\",\"\"))"
   ]
  },
  {
   "cell_type": "code",
   "execution_count": 58,
   "id": "504d53f0",
   "metadata": {},
   "outputs": [
    {
     "data": {
      "text/plain": [
       "(9657, 8)"
      ]
     },
     "execution_count": 58,
     "metadata": {},
     "output_type": "execute_result"
    }
   ],
   "source": [
    "df_post_asthma.shape"
   ]
  },
  {
   "cell_type": "code",
   "execution_count": 59,
   "id": "171edd17",
   "metadata": {
    "scrolled": true
   },
   "outputs": [
    {
     "name": "stdout",
     "output_type": "stream",
     "text": [
      "2016-01-13 12:47:00\n"
     ]
    },
    {
     "data": {
      "text/plain": [
       "Timestamp('2023-07-21 09:57:00')"
      ]
     },
     "execution_count": 59,
     "metadata": {},
     "output_type": "execute_result"
    }
   ],
   "source": [
    "print(df_post_asthma[\"time\"].min())\n",
    "df_post_asthma[\"time\"].max()"
   ]
  },
  {
   "cell_type": "code",
   "execution_count": 60,
   "id": "dd640474",
   "metadata": {
    "scrolled": true
   },
   "outputs": [
    {
     "data": {
      "text/html": [
       "<div>\n",
       "<style scoped>\n",
       "    .dataframe tbody tr th:only-of-type {\n",
       "        vertical-align: middle;\n",
       "    }\n",
       "\n",
       "    .dataframe tbody tr th {\n",
       "        vertical-align: top;\n",
       "    }\n",
       "\n",
       "    .dataframe thead th {\n",
       "        text-align: right;\n",
       "    }\n",
       "</style>\n",
       "<table border=\"1\" class=\"dataframe\">\n",
       "  <thead>\n",
       "    <tr style=\"text-align: right;\">\n",
       "      <th></th>\n",
       "      <th>title</th>\n",
       "      <th>text</th>\n",
       "      <th>author</th>\n",
       "      <th>likes</th>\n",
       "      <th>time</th>\n",
       "      <th>id</th>\n",
       "      <th>url</th>\n",
       "      <th>replies</th>\n",
       "    </tr>\n",
       "  </thead>\n",
       "  <tbody>\n",
       "    <tr>\n",
       "      <th>0</th>\n",
       "      <td>How can asthma breathlessness be diagnosed? Is...</td>\n",
       "      <td>I need help as my daughter suffers with severe...</td>\n",
       "      <td>My_fairy</td>\n",
       "      <td>3</td>\n",
       "      <td>2023-07-21 09:57:00</td>\n",
       "      <td>p_0</td>\n",
       "      <td>https://healthunlocked.com/asthmalunguk-asthma...</td>\n",
       "      <td>0</td>\n",
       "    </tr>\n",
       "    <tr>\n",
       "      <th>1</th>\n",
       "      <td>Could this be steroid damage?</td>\n",
       "      <td>Hi, Today my big toe got briefly caught in som...</td>\n",
       "      <td>Wheezycat</td>\n",
       "      <td>2</td>\n",
       "      <td>2023-07-20 19:13:00</td>\n",
       "      <td>p_1</td>\n",
       "      <td>https://healthunlocked.com/asthmalunguk-asthma...</td>\n",
       "      <td>0</td>\n",
       "    </tr>\n",
       "    <tr>\n",
       "      <th>2</th>\n",
       "      <td>I just want to know, is it just me?</td>\n",
       "      <td>Am I the only one to have a hard time breathin...</td>\n",
       "      <td>Hidden</td>\n",
       "      <td>0</td>\n",
       "      <td>2023-07-20 06:41:00</td>\n",
       "      <td>p_2</td>\n",
       "      <td>https://healthunlocked.com/asthmalunguk-asthma...</td>\n",
       "      <td>0</td>\n",
       "    </tr>\n",
       "    <tr>\n",
       "      <th>3</th>\n",
       "      <td>Trimbow</td>\n",
       "      <td>I'm starting Trimbow today. Is anyone else on ...</td>\n",
       "      <td>PaulRosedene</td>\n",
       "      <td>0</td>\n",
       "      <td>2023-07-20 05:46:00</td>\n",
       "      <td>p_3</td>\n",
       "      <td>https://healthunlocked.com/asthmalunguk-asthma...</td>\n",
       "      <td>0</td>\n",
       "    </tr>\n",
       "    <tr>\n",
       "      <th>4</th>\n",
       "      <td>Infuriating Asthma Appointment</td>\n",
       "      <td>So i had a follow-up appointment with my asthm...</td>\n",
       "      <td>Lilmix03</td>\n",
       "      <td>1</td>\n",
       "      <td>2023-07-19 11:23:00</td>\n",
       "      <td>p_4</td>\n",
       "      <td>https://healthunlocked.com/asthmalunguk-asthma...</td>\n",
       "      <td>0</td>\n",
       "    </tr>\n",
       "  </tbody>\n",
       "</table>\n",
       "</div>"
      ],
      "text/plain": [
       "                                               title  \\\n",
       "0  How can asthma breathlessness be diagnosed? Is...   \n",
       "1                      Could this be steroid damage?   \n",
       "2                I just want to know, is it just me?   \n",
       "3                                            Trimbow   \n",
       "4                     Infuriating Asthma Appointment   \n",
       "\n",
       "                                                text        author  likes  \\\n",
       "0  I need help as my daughter suffers with severe...      My_fairy      3   \n",
       "1  Hi, Today my big toe got briefly caught in som...     Wheezycat      2   \n",
       "2  Am I the only one to have a hard time breathin...        Hidden      0   \n",
       "3  I'm starting Trimbow today. Is anyone else on ...  PaulRosedene      0   \n",
       "4  So i had a follow-up appointment with my asthm...      Lilmix03      1   \n",
       "\n",
       "                 time   id                                                url  \\\n",
       "0 2023-07-21 09:57:00  p_0  https://healthunlocked.com/asthmalunguk-asthma...   \n",
       "1 2023-07-20 19:13:00  p_1  https://healthunlocked.com/asthmalunguk-asthma...   \n",
       "2 2023-07-20 06:41:00  p_2  https://healthunlocked.com/asthmalunguk-asthma...   \n",
       "3 2023-07-20 05:46:00  p_3  https://healthunlocked.com/asthmalunguk-asthma...   \n",
       "4 2023-07-19 11:23:00  p_4  https://healthunlocked.com/asthmalunguk-asthma...   \n",
       "\n",
       "   replies  \n",
       "0        0  \n",
       "1        0  \n",
       "2        0  \n",
       "3        0  \n",
       "4        0  "
      ]
     },
     "execution_count": 60,
     "metadata": {},
     "output_type": "execute_result"
    }
   ],
   "source": [
    "df_post_asthma.head()"
   ]
  },
  {
   "cell_type": "markdown",
   "id": "d177fcda",
   "metadata": {},
   "source": [
    "### DF COM"
   ]
  },
  {
   "cell_type": "code",
   "execution_count": 61,
   "id": "bf17646f",
   "metadata": {},
   "outputs": [
    {
     "name": "stderr",
     "output_type": "stream",
     "text": [
      "<ipython-input-61-eae948048bce>:3: FutureWarning: The default value of regex will change from True to False in a future version. In addition, single character regular expressions will*not* be treated as literal strings when regex=True.\n",
      "  df_com_asthma[\"likes\"] = df_com_asthma[\"likes\"].str.replace(\"(\", \"\").str.replace(\")\",\"\")\n"
     ]
    }
   ],
   "source": [
    "df_com_asthma = df_com_asthma.apply(sistema_tc_parentesi, axis = 1)\n",
    "df_com_asthma[\"time\"] = pd.to_datetime(df_com_asthma[\"time\"])\n",
    "df_com_asthma[\"likes\"] = df_com_asthma[\"likes\"].str.replace(\"(\", \"\").str.replace(\")\",\"\")"
   ]
  },
  {
   "cell_type": "code",
   "execution_count": 62,
   "id": "1687741e",
   "metadata": {
    "scrolled": true
   },
   "outputs": [
    {
     "data": {
      "text/html": [
       "<div>\n",
       "<style scoped>\n",
       "    .dataframe tbody tr th:only-of-type {\n",
       "        vertical-align: middle;\n",
       "    }\n",
       "\n",
       "    .dataframe tbody tr th {\n",
       "        vertical-align: top;\n",
       "    }\n",
       "\n",
       "    .dataframe thead th {\n",
       "        text-align: right;\n",
       "    }\n",
       "</style>\n",
       "<table border=\"1\" class=\"dataframe\">\n",
       "  <thead>\n",
       "    <tr style=\"text-align: right;\">\n",
       "      <th></th>\n",
       "      <th>text</th>\n",
       "      <th>author</th>\n",
       "      <th>likes</th>\n",
       "      <th>time</th>\n",
       "      <th>id</th>\n",
       "      <th>parent_id</th>\n",
       "      <th>url</th>\n",
       "    </tr>\n",
       "  </thead>\n",
       "  <tbody>\n",
       "    <tr>\n",
       "      <th>0</th>\n",
       "      <td>It has been diagnosed that my breathlessness i...</td>\n",
       "      <td>Homely2</td>\n",
       "      <td>1</td>\n",
       "      <td>2023-07-21 12:02:00</td>\n",
       "      <td>tc_0</td>\n",
       "      <td>p_0</td>\n",
       "      <td>https://healthunlocked.com/asthmalunguk-asthma...</td>\n",
       "    </tr>\n",
       "    <tr>\n",
       "      <th>1</th>\n",
       "      <td>Thanks for detailed reply</td>\n",
       "      <td>My_fairy</td>\n",
       "      <td>0</td>\n",
       "      <td>2023-07-22 08:46:00</td>\n",
       "      <td>s_0</td>\n",
       "      <td>tc_0</td>\n",
       "      <td>https://healthunlocked.com/asthmalunguk-asthma...</td>\n",
       "    </tr>\n",
       "    <tr>\n",
       "      <th>2</th>\n",
       "      <td>Good morning My_fairy. I was diagnosed as havi...</td>\n",
       "      <td>Bingo88</td>\n",
       "      <td>1</td>\n",
       "      <td>2023-07-22 05:41:00</td>\n",
       "      <td>tc_1</td>\n",
       "      <td>p_0</td>\n",
       "      <td>https://healthunlocked.com/asthmalunguk-asthma...</td>\n",
       "    </tr>\n",
       "    <tr>\n",
       "      <th>3</th>\n",
       "      <td>thanks Brian yes she did have bloods and I bel...</td>\n",
       "      <td>My_fairy</td>\n",
       "      <td>1</td>\n",
       "      <td>2023-07-22 08:48:00</td>\n",
       "      <td>s_1</td>\n",
       "      <td>tc_1</td>\n",
       "      <td>https://healthunlocked.com/asthmalunguk-asthma...</td>\n",
       "    </tr>\n",
       "    <tr>\n",
       "      <th>4</th>\n",
       "      <td>Not sure sorry I was just told there was signs...</td>\n",
       "      <td>Bingo88</td>\n",
       "      <td>1</td>\n",
       "      <td>2023-07-23 06:58:00</td>\n",
       "      <td>s_2</td>\n",
       "      <td>s_1</td>\n",
       "      <td>https://healthunlocked.com/asthmalunguk-asthma...</td>\n",
       "    </tr>\n",
       "  </tbody>\n",
       "</table>\n",
       "</div>"
      ],
      "text/plain": [
       "                                                text    author likes  \\\n",
       "0  It has been diagnosed that my breathlessness i...   Homely2     1   \n",
       "1                         Thanks for detailed reply   My_fairy     0   \n",
       "2  Good morning My_fairy. I was diagnosed as havi...   Bingo88     1   \n",
       "3  thanks Brian yes she did have bloods and I bel...  My_fairy     1   \n",
       "4  Not sure sorry I was just told there was signs...   Bingo88     1   \n",
       "\n",
       "                 time    id parent_id  \\\n",
       "0 2023-07-21 12:02:00  tc_0       p_0   \n",
       "1 2023-07-22 08:46:00   s_0      tc_0   \n",
       "2 2023-07-22 05:41:00  tc_1       p_0   \n",
       "3 2023-07-22 08:48:00   s_1      tc_1   \n",
       "4 2023-07-23 06:58:00   s_2       s_1   \n",
       "\n",
       "                                                 url  \n",
       "0  https://healthunlocked.com/asthmalunguk-asthma...  \n",
       "1  https://healthunlocked.com/asthmalunguk-asthma...  \n",
       "2  https://healthunlocked.com/asthmalunguk-asthma...  \n",
       "3  https://healthunlocked.com/asthmalunguk-asthma...  \n",
       "4  https://healthunlocked.com/asthmalunguk-asthma...  "
      ]
     },
     "execution_count": 62,
     "metadata": {},
     "output_type": "execute_result"
    }
   ],
   "source": [
    "df_com_asthma.head()"
   ]
  },
  {
   "cell_type": "code",
   "execution_count": 63,
   "id": "49b27419",
   "metadata": {
    "scrolled": false
   },
   "outputs": [
    {
     "data": {
      "text/plain": [
       "(87021, 7)"
      ]
     },
     "execution_count": 63,
     "metadata": {},
     "output_type": "execute_result"
    }
   ],
   "source": [
    "df_com_asthma.shape"
   ]
  },
  {
   "cell_type": "code",
   "execution_count": 64,
   "id": "e7dc1d3d",
   "metadata": {},
   "outputs": [
    {
     "name": "stdout",
     "output_type": "stream",
     "text": [
      "2016-01-13 12:52:00\n"
     ]
    },
    {
     "data": {
      "text/plain": [
       "Timestamp('2023-10-31 22:43:00')"
      ]
     },
     "execution_count": 64,
     "metadata": {},
     "output_type": "execute_result"
    }
   ],
   "source": [
    "print(df_com_asthma[\"time\"].min())\n",
    "df_com_asthma[\"time\"].max()"
   ]
  },
  {
   "cell_type": "markdown",
   "id": "0998b93e",
   "metadata": {},
   "source": [
    "### Data lungs"
   ]
  },
  {
   "cell_type": "code",
   "execution_count": 15,
   "id": "d0e0f5e2",
   "metadata": {},
   "outputs": [],
   "source": [
    "# df_com_lun = pd.read_csv(\"./Data_lungs/df_com.csv\")\n",
    "# df_post_lun.read_csv(\"./Data_lungs/df_post.csv\")"
   ]
  },
  {
   "cell_type": "code",
   "execution_count": 16,
   "id": "158a58bd",
   "metadata": {
    "scrolled": true
   },
   "outputs": [
    {
     "data": {
      "text/html": [
       "<div>\n",
       "<style scoped>\n",
       "    .dataframe tbody tr th:only-of-type {\n",
       "        vertical-align: middle;\n",
       "    }\n",
       "\n",
       "    .dataframe tbody tr th {\n",
       "        vertical-align: top;\n",
       "    }\n",
       "\n",
       "    .dataframe thead th {\n",
       "        text-align: right;\n",
       "    }\n",
       "</style>\n",
       "<table border=\"1\" class=\"dataframe\">\n",
       "  <thead>\n",
       "    <tr style=\"text-align: right;\">\n",
       "      <th></th>\n",
       "      <th>title</th>\n",
       "      <th>text</th>\n",
       "      <th>author</th>\n",
       "      <th>likes</th>\n",
       "      <th>time</th>\n",
       "      <th>id</th>\n",
       "      <th>url</th>\n",
       "      <th>replies</th>\n",
       "    </tr>\n",
       "  </thead>\n",
       "  <tbody>\n",
       "    <tr>\n",
       "      <th>0</th>\n",
       "      <td>Rituximab or Cyclophosphamide</td>\n",
       "      <td>HiI have PF caused by mixed connective tissue ...</td>\n",
       "      <td>Barnesy77</td>\n",
       "      <td>Like (1)</td>\n",
       "      <td>Friday, December 15th, 2017 3:09 PM</td>\n",
       "      <td>p_0</td>\n",
       "      <td>https://healthunlocked.com/asthmalunguk-lung/p...</td>\n",
       "      <td>0 Replies</td>\n",
       "    </tr>\n",
       "    <tr>\n",
       "      <th>1</th>\n",
       "      <td>Respiratory clinic.</td>\n",
       "      <td>Hi everyone hope you are well, and keeping war...</td>\n",
       "      <td>Damon1864</td>\n",
       "      <td>Like (9)</td>\n",
       "      <td>Friday, December 15th, 2017 1:21 PM</td>\n",
       "      <td>p_1</td>\n",
       "      <td>https://healthunlocked.com/asthmalunguk-lung/p...</td>\n",
       "      <td>0 Replies</td>\n",
       "    </tr>\n",
       "    <tr>\n",
       "      <th>2</th>\n",
       "      <td>Back trouble.</td>\n",
       "      <td>We write about all sorts of ailsBut one I've n...</td>\n",
       "      <td>Hidden</td>\n",
       "      <td>Like (18)</td>\n",
       "      <td>Friday, December 15th, 2017 1:11 PM</td>\n",
       "      <td>p_2</td>\n",
       "      <td>https://healthunlocked.com/asthmalunguk-lung/p...</td>\n",
       "      <td>0 Replies</td>\n",
       "    </tr>\n",
       "    <tr>\n",
       "      <th>3</th>\n",
       "      <td>Dr. Summerskill.</td>\n",
       "      <td>Thank you Doctor SummerskillI suspect I owe yo...</td>\n",
       "      <td>Hidden</td>\n",
       "      <td>Like (14)</td>\n",
       "      <td>Friday, December 15th, 2017 12:43 PM</td>\n",
       "      <td>p_3</td>\n",
       "      <td>https://healthunlocked.com/asthmalunguk-lung/p...</td>\n",
       "      <td>0 Replies</td>\n",
       "    </tr>\n",
       "    <tr>\n",
       "      <th>4</th>\n",
       "      <td>Hi</td>\n",
       "      <td>Simply to introduce myself as a new member here.</td>\n",
       "      <td>Clarissa2000</td>\n",
       "      <td>Like (4)</td>\n",
       "      <td>Friday, December 15th, 2017 8:43 AM</td>\n",
       "      <td>p_4</td>\n",
       "      <td>https://healthunlocked.com/asthmalunguk-lung/p...</td>\n",
       "      <td>0 Replies</td>\n",
       "    </tr>\n",
       "  </tbody>\n",
       "</table>\n",
       "</div>"
      ],
      "text/plain": [
       "                           title  \\\n",
       "0  Rituximab or Cyclophosphamide   \n",
       "1            Respiratory clinic.   \n",
       "2                  Back trouble.   \n",
       "3               Dr. Summerskill.   \n",
       "4                             Hi   \n",
       "\n",
       "                                                text        author  \\\n",
       "0  HiI have PF caused by mixed connective tissue ...     Barnesy77   \n",
       "1  Hi everyone hope you are well, and keeping war...     Damon1864   \n",
       "2  We write about all sorts of ailsBut one I've n...        Hidden   \n",
       "3  Thank you Doctor SummerskillI suspect I owe yo...        Hidden   \n",
       "4   Simply to introduce myself as a new member here.  Clarissa2000   \n",
       "\n",
       "        likes                                  time   id  \\\n",
       "0    Like (1)   Friday, December 15th, 2017 3:09 PM  p_0   \n",
       "1    Like (9)   Friday, December 15th, 2017 1:21 PM  p_1   \n",
       "2   Like (18)   Friday, December 15th, 2017 1:11 PM  p_2   \n",
       "3   Like (14)  Friday, December 15th, 2017 12:43 PM  p_3   \n",
       "4    Like (4)   Friday, December 15th, 2017 8:43 AM  p_4   \n",
       "\n",
       "                                                 url    replies  \n",
       "0  https://healthunlocked.com/asthmalunguk-lung/p...  0 Replies  \n",
       "1  https://healthunlocked.com/asthmalunguk-lung/p...  0 Replies  \n",
       "2  https://healthunlocked.com/asthmalunguk-lung/p...  0 Replies  \n",
       "3  https://healthunlocked.com/asthmalunguk-lung/p...  0 Replies  \n",
       "4  https://healthunlocked.com/asthmalunguk-lung/p...  0 Replies  "
      ]
     },
     "execution_count": 16,
     "metadata": {},
     "output_type": "execute_result"
    }
   ],
   "source": [
    "df_posts_lun.head()"
   ]
  },
  {
   "cell_type": "code",
   "execution_count": 18,
   "id": "ffac0555",
   "metadata": {
    "scrolled": true
   },
   "outputs": [
    {
     "data": {
      "text/html": [
       "<div>\n",
       "<style scoped>\n",
       "    .dataframe tbody tr th:only-of-type {\n",
       "        vertical-align: middle;\n",
       "    }\n",
       "\n",
       "    .dataframe tbody tr th {\n",
       "        vertical-align: top;\n",
       "    }\n",
       "\n",
       "    .dataframe thead th {\n",
       "        text-align: right;\n",
       "    }\n",
       "</style>\n",
       "<table border=\"1\" class=\"dataframe\">\n",
       "  <thead>\n",
       "    <tr style=\"text-align: right;\">\n",
       "      <th></th>\n",
       "      <th>text</th>\n",
       "      <th>author</th>\n",
       "      <th>likes</th>\n",
       "      <th>time</th>\n",
       "      <th>id</th>\n",
       "      <th>parent_id</th>\n",
       "      <th>url</th>\n",
       "    </tr>\n",
       "  </thead>\n",
       "  <tbody>\n",
       "    <tr>\n",
       "      <th>0</th>\n",
       "      <td>[I had rituximab about three years ago for rhu...</td>\n",
       "      <td>ChaOliver</td>\n",
       "      <td>(1)</td>\n",
       "      <td>Saturday, December 16th, 2017 5:50 AM</td>\n",
       "      <td>tc_0</td>\n",
       "      <td>p_0</td>\n",
       "      <td>https://healthunlocked.com/asthmalunguk-lung/p...</td>\n",
       "    </tr>\n",
       "    <tr>\n",
       "      <th>1</th>\n",
       "      <td>Thanks ChaOliver, glad to hear that there were...</td>\n",
       "      <td>Barnesy77</td>\n",
       "      <td>(0)</td>\n",
       "      <td>Sunday, December 17th, 2017 10:40 AM</td>\n",
       "      <td>s_0</td>\n",
       "      <td>tc_0</td>\n",
       "      <td>https://healthunlocked.com/asthmalunguk-lung/p...</td>\n",
       "    </tr>\n",
       "    <tr>\n",
       "      <th>2</th>\n",
       "      <td>[I have had both. I started on cyclophosphamid...</td>\n",
       "      <td>AngieB72</td>\n",
       "      <td>(2)</td>\n",
       "      <td>Saturday, December 16th, 2017 7:30 AM</td>\n",
       "      <td>tc_1</td>\n",
       "      <td>p_0</td>\n",
       "      <td>https://healthunlocked.com/asthmalunguk-lung/p...</td>\n",
       "    </tr>\n",
       "    <tr>\n",
       "      <th>3</th>\n",
       "      <td>Hi AngieB72. I'm sorry that your gas transfer ...</td>\n",
       "      <td>Barnesy77</td>\n",
       "      <td>(0)</td>\n",
       "      <td>Sunday, December 17th, 2017 10:43 AM</td>\n",
       "      <td>s_1</td>\n",
       "      <td>tc_1</td>\n",
       "      <td>https://healthunlocked.com/asthmalunguk-lung/p...</td>\n",
       "    </tr>\n",
       "    <tr>\n",
       "      <th>4</th>\n",
       "      <td>[Hi, I also have the same diagnosis as you sin...</td>\n",
       "      <td>Maureenpearl</td>\n",
       "      <td>(0)</td>\n",
       "      <td>Saturday, December 16th, 2017 11:31 PM</td>\n",
       "      <td>tc_2</td>\n",
       "      <td>p_0</td>\n",
       "      <td>https://healthunlocked.com/asthmalunguk-lung/p...</td>\n",
       "    </tr>\n",
       "  </tbody>\n",
       "</table>\n",
       "</div>"
      ],
      "text/plain": [
       "                                                text        author likes  \\\n",
       "0  [I had rituximab about three years ago for rhu...     ChaOliver   (1)   \n",
       "1  Thanks ChaOliver, glad to hear that there were...     Barnesy77   (0)   \n",
       "2  [I have had both. I started on cyclophosphamid...      AngieB72   (2)   \n",
       "3  Hi AngieB72. I'm sorry that your gas transfer ...     Barnesy77   (0)   \n",
       "4  [Hi, I also have the same diagnosis as you sin...  Maureenpearl   (0)   \n",
       "\n",
       "                                     time    id parent_id  \\\n",
       "0   Saturday, December 16th, 2017 5:50 AM  tc_0       p_0   \n",
       "1    Sunday, December 17th, 2017 10:40 AM   s_0      tc_0   \n",
       "2   Saturday, December 16th, 2017 7:30 AM  tc_1       p_0   \n",
       "3    Sunday, December 17th, 2017 10:43 AM   s_1      tc_1   \n",
       "4  Saturday, December 16th, 2017 11:31 PM  tc_2       p_0   \n",
       "\n",
       "                                                 url  \n",
       "0  https://healthunlocked.com/asthmalunguk-lung/p...  \n",
       "1  https://healthunlocked.com/asthmalunguk-lung/p...  \n",
       "2  https://healthunlocked.com/asthmalunguk-lung/p...  \n",
       "3  https://healthunlocked.com/asthmalunguk-lung/p...  \n",
       "4  https://healthunlocked.com/asthmalunguk-lung/p...  "
      ]
     },
     "execution_count": 18,
     "metadata": {},
     "output_type": "execute_result"
    }
   ],
   "source": [
    "df_com_lun.head()"
   ]
  },
  {
   "cell_type": "code",
   "execution_count": 22,
   "id": "3161f41e",
   "metadata": {},
   "outputs": [
    {
     "data": {
      "text/plain": [
       "False"
      ]
     },
     "execution_count": 22,
     "metadata": {},
     "output_type": "execute_result"
    }
   ],
   "source": [
    "df_posts_lun.duplicated().any()"
   ]
  },
  {
   "cell_type": "code",
   "execution_count": 21,
   "id": "313527e7",
   "metadata": {},
   "outputs": [
    {
     "data": {
      "text/plain": [
       "False"
      ]
     },
     "execution_count": 21,
     "metadata": {},
     "output_type": "execute_result"
    }
   ],
   "source": [
    "df_com_lun.duplicated().any()"
   ]
  },
  {
   "cell_type": "code",
   "execution_count": 23,
   "id": "48569fc3",
   "metadata": {
    "scrolled": true
   },
   "outputs": [
    {
     "name": "stdout",
     "output_type": "stream",
     "text": [
      "(26021, 8)\n"
     ]
    },
    {
     "data": {
      "text/plain": [
       "(384977, 7)"
      ]
     },
     "execution_count": 23,
     "metadata": {},
     "output_type": "execute_result"
    }
   ],
   "source": [
    "print(df_posts_lun.shape)\n",
    "df_com_lun.shape"
   ]
  },
  {
   "cell_type": "markdown",
   "id": "af1dfb4e",
   "metadata": {},
   "source": [
    "### Cleaning df post"
   ]
  },
  {
   "cell_type": "code",
   "execution_count": 26,
   "id": "57cb413c",
   "metadata": {
    "scrolled": true
   },
   "outputs": [
    {
     "name": "stderr",
     "output_type": "stream",
     "text": [
      "<ipython-input-26-b896bf28c388>:4: FutureWarning: The default value of regex will change from True to False in a future version. In addition, single character regular expressions will*not* be treated as literal strings when regex=True.\n",
      "  df_posts_lun[\"likes\"] = pd.to_numeric(df_posts_lun[\"likes\"].str.split().str[1].str.replace(\"(\", \"\").str.replace(\")\",\"\"))\n"
     ]
    }
   ],
   "source": [
    "df_posts_lun[\"replies\"] = df_posts_lun[\"replies\"].str.split().str[0]\n",
    "df_posts_lun[\"replies\"] = pd.to_numeric(df_posts_lun[\"replies\"])\n",
    "df_posts_lun[\"time\"] = pd.to_datetime(df_posts_lun[\"time\"])\n",
    "df_posts_lun[\"likes\"] = pd.to_numeric(df_posts_lun[\"likes\"].str.split().str[1].str.replace(\"(\", \"\").str.replace(\")\",\"\"))"
   ]
  },
  {
   "cell_type": "code",
   "execution_count": 31,
   "id": "2ab1b951",
   "metadata": {},
   "outputs": [
    {
     "data": {
      "text/html": [
       "<div>\n",
       "<style scoped>\n",
       "    .dataframe tbody tr th:only-of-type {\n",
       "        vertical-align: middle;\n",
       "    }\n",
       "\n",
       "    .dataframe tbody tr th {\n",
       "        vertical-align: top;\n",
       "    }\n",
       "\n",
       "    .dataframe thead th {\n",
       "        text-align: right;\n",
       "    }\n",
       "</style>\n",
       "<table border=\"1\" class=\"dataframe\">\n",
       "  <thead>\n",
       "    <tr style=\"text-align: right;\">\n",
       "      <th></th>\n",
       "      <th>title</th>\n",
       "      <th>text</th>\n",
       "      <th>author</th>\n",
       "      <th>likes</th>\n",
       "      <th>time</th>\n",
       "      <th>id</th>\n",
       "      <th>url</th>\n",
       "      <th>replies</th>\n",
       "    </tr>\n",
       "  </thead>\n",
       "  <tbody>\n",
       "    <tr>\n",
       "      <th>0</th>\n",
       "      <td>Rituximab or Cyclophosphamide</td>\n",
       "      <td>HiI have PF caused by mixed connective tissue ...</td>\n",
       "      <td>Barnesy77</td>\n",
       "      <td>1</td>\n",
       "      <td>2017-12-15 15:09:00</td>\n",
       "      <td>p_0</td>\n",
       "      <td>https://healthunlocked.com/asthmalunguk-lung/p...</td>\n",
       "      <td>0</td>\n",
       "    </tr>\n",
       "    <tr>\n",
       "      <th>1</th>\n",
       "      <td>Respiratory clinic.</td>\n",
       "      <td>Hi everyone hope you are well, and keeping war...</td>\n",
       "      <td>Damon1864</td>\n",
       "      <td>9</td>\n",
       "      <td>2017-12-15 13:21:00</td>\n",
       "      <td>p_1</td>\n",
       "      <td>https://healthunlocked.com/asthmalunguk-lung/p...</td>\n",
       "      <td>0</td>\n",
       "    </tr>\n",
       "    <tr>\n",
       "      <th>2</th>\n",
       "      <td>Back trouble.</td>\n",
       "      <td>We write about all sorts of ailsBut one I've n...</td>\n",
       "      <td>Hidden</td>\n",
       "      <td>18</td>\n",
       "      <td>2017-12-15 13:11:00</td>\n",
       "      <td>p_2</td>\n",
       "      <td>https://healthunlocked.com/asthmalunguk-lung/p...</td>\n",
       "      <td>0</td>\n",
       "    </tr>\n",
       "    <tr>\n",
       "      <th>3</th>\n",
       "      <td>Dr. Summerskill.</td>\n",
       "      <td>Thank you Doctor SummerskillI suspect I owe yo...</td>\n",
       "      <td>Hidden</td>\n",
       "      <td>14</td>\n",
       "      <td>2017-12-15 12:43:00</td>\n",
       "      <td>p_3</td>\n",
       "      <td>https://healthunlocked.com/asthmalunguk-lung/p...</td>\n",
       "      <td>0</td>\n",
       "    </tr>\n",
       "    <tr>\n",
       "      <th>4</th>\n",
       "      <td>Hi</td>\n",
       "      <td>Simply to introduce myself as a new member here.</td>\n",
       "      <td>Clarissa2000</td>\n",
       "      <td>4</td>\n",
       "      <td>2017-12-15 08:43:00</td>\n",
       "      <td>p_4</td>\n",
       "      <td>https://healthunlocked.com/asthmalunguk-lung/p...</td>\n",
       "      <td>0</td>\n",
       "    </tr>\n",
       "  </tbody>\n",
       "</table>\n",
       "</div>"
      ],
      "text/plain": [
       "                           title  \\\n",
       "0  Rituximab or Cyclophosphamide   \n",
       "1            Respiratory clinic.   \n",
       "2                  Back trouble.   \n",
       "3               Dr. Summerskill.   \n",
       "4                             Hi   \n",
       "\n",
       "                                                text        author  likes  \\\n",
       "0  HiI have PF caused by mixed connective tissue ...     Barnesy77      1   \n",
       "1  Hi everyone hope you are well, and keeping war...     Damon1864      9   \n",
       "2  We write about all sorts of ailsBut one I've n...        Hidden     18   \n",
       "3  Thank you Doctor SummerskillI suspect I owe yo...        Hidden     14   \n",
       "4   Simply to introduce myself as a new member here.  Clarissa2000      4   \n",
       "\n",
       "                 time   id                                                url  \\\n",
       "0 2017-12-15 15:09:00  p_0  https://healthunlocked.com/asthmalunguk-lung/p...   \n",
       "1 2017-12-15 13:21:00  p_1  https://healthunlocked.com/asthmalunguk-lung/p...   \n",
       "2 2017-12-15 13:11:00  p_2  https://healthunlocked.com/asthmalunguk-lung/p...   \n",
       "3 2017-12-15 12:43:00  p_3  https://healthunlocked.com/asthmalunguk-lung/p...   \n",
       "4 2017-12-15 08:43:00  p_4  https://healthunlocked.com/asthmalunguk-lung/p...   \n",
       "\n",
       "   replies  \n",
       "0        0  \n",
       "1        0  \n",
       "2        0  \n",
       "3        0  \n",
       "4        0  "
      ]
     },
     "execution_count": 31,
     "metadata": {},
     "output_type": "execute_result"
    }
   ],
   "source": [
    "df_posts_lun.head()"
   ]
  },
  {
   "cell_type": "code",
   "execution_count": 28,
   "id": "d104a188",
   "metadata": {
    "scrolled": true
   },
   "outputs": [
    {
     "name": "stdout",
     "output_type": "stream",
     "text": [
      "2016-01-02 11:25:00\n"
     ]
    },
    {
     "data": {
      "text/plain": [
       "Timestamp('2023-07-24 06:54:00')"
      ]
     },
     "execution_count": 28,
     "metadata": {},
     "output_type": "execute_result"
    }
   ],
   "source": [
    "print(df_posts_lun[\"time\"].min())\n",
    "df_posts_lun[\"time\"].max()"
   ]
  },
  {
   "cell_type": "markdown",
   "id": "4db0e910",
   "metadata": {},
   "source": [
    "### Df com"
   ]
  },
  {
   "cell_type": "code",
   "execution_count": 29,
   "id": "50375097",
   "metadata": {},
   "outputs": [
    {
     "name": "stderr",
     "output_type": "stream",
     "text": [
      "<ipython-input-29-756c88caae66>:3: FutureWarning: The default value of regex will change from True to False in a future version. In addition, single character regular expressions will*not* be treated as literal strings when regex=True.\n",
      "  df_com_lun[\"likes\"] = df_com_lun[\"likes\"].str.replace(\"(\", \"\").str.replace(\")\",\"\")\n"
     ]
    }
   ],
   "source": [
    "df_com_lun = df_com_lun.apply(sistema_tc_parentesi, axis = 1)\n",
    "df_com_lun[\"time\"] = pd.to_datetime(df_com_lun[\"time\"])\n",
    "df_com_lun[\"likes\"] = pd.to_numeric(df_com_lun[\"likes\"].str.replace(\"(\", \"\").str.replace(\")\",\"\"))"
   ]
  },
  {
   "cell_type": "code",
   "execution_count": 30,
   "id": "f85e52ba",
   "metadata": {
    "scrolled": true
   },
   "outputs": [
    {
     "name": "stdout",
     "output_type": "stream",
     "text": [
      "2016-01-02 11:50:00\n"
     ]
    },
    {
     "data": {
      "text/plain": [
       "Timestamp('2023-10-31 05:51:00')"
      ]
     },
     "execution_count": 30,
     "metadata": {},
     "output_type": "execute_result"
    }
   ],
   "source": [
    "print(df_com_lun[\"time\"].min())\n",
    "df_com_lun[\"time\"].max()"
   ]
  },
  {
   "cell_type": "code",
   "execution_count": 32,
   "id": "3b4dfe0a",
   "metadata": {},
   "outputs": [
    {
     "data": {
      "text/html": [
       "<div>\n",
       "<style scoped>\n",
       "    .dataframe tbody tr th:only-of-type {\n",
       "        vertical-align: middle;\n",
       "    }\n",
       "\n",
       "    .dataframe tbody tr th {\n",
       "        vertical-align: top;\n",
       "    }\n",
       "\n",
       "    .dataframe thead th {\n",
       "        text-align: right;\n",
       "    }\n",
       "</style>\n",
       "<table border=\"1\" class=\"dataframe\">\n",
       "  <thead>\n",
       "    <tr style=\"text-align: right;\">\n",
       "      <th></th>\n",
       "      <th>text</th>\n",
       "      <th>author</th>\n",
       "      <th>likes</th>\n",
       "      <th>time</th>\n",
       "      <th>id</th>\n",
       "      <th>parent_id</th>\n",
       "      <th>url</th>\n",
       "    </tr>\n",
       "  </thead>\n",
       "  <tbody>\n",
       "    <tr>\n",
       "      <th>0</th>\n",
       "      <td>I had rituximab about three years ago for rhue...</td>\n",
       "      <td>ChaOliver</td>\n",
       "      <td>1</td>\n",
       "      <td>2017-12-16 05:50:00</td>\n",
       "      <td>tc_0</td>\n",
       "      <td>p_0</td>\n",
       "      <td>https://healthunlocked.com/asthmalunguk-lung/p...</td>\n",
       "    </tr>\n",
       "    <tr>\n",
       "      <th>1</th>\n",
       "      <td>Thanks ChaOliver, glad to hear that there were...</td>\n",
       "      <td>Barnesy77</td>\n",
       "      <td>0</td>\n",
       "      <td>2017-12-17 10:40:00</td>\n",
       "      <td>s_0</td>\n",
       "      <td>tc_0</td>\n",
       "      <td>https://healthunlocked.com/asthmalunguk-lung/p...</td>\n",
       "    </tr>\n",
       "    <tr>\n",
       "      <th>2</th>\n",
       "      <td>I have had both. I started on cyclophosphamide...</td>\n",
       "      <td>AngieB72</td>\n",
       "      <td>2</td>\n",
       "      <td>2017-12-16 07:30:00</td>\n",
       "      <td>tc_1</td>\n",
       "      <td>p_0</td>\n",
       "      <td>https://healthunlocked.com/asthmalunguk-lung/p...</td>\n",
       "    </tr>\n",
       "    <tr>\n",
       "      <th>3</th>\n",
       "      <td>Hi AngieB72. I'm sorry that your gas transfer ...</td>\n",
       "      <td>Barnesy77</td>\n",
       "      <td>0</td>\n",
       "      <td>2017-12-17 10:43:00</td>\n",
       "      <td>s_1</td>\n",
       "      <td>tc_1</td>\n",
       "      <td>https://healthunlocked.com/asthmalunguk-lung/p...</td>\n",
       "    </tr>\n",
       "    <tr>\n",
       "      <th>4</th>\n",
       "      <td>Hi, I also have the same diagnosis as you sinc...</td>\n",
       "      <td>Maureenpearl</td>\n",
       "      <td>0</td>\n",
       "      <td>2017-12-16 23:31:00</td>\n",
       "      <td>tc_2</td>\n",
       "      <td>p_0</td>\n",
       "      <td>https://healthunlocked.com/asthmalunguk-lung/p...</td>\n",
       "    </tr>\n",
       "  </tbody>\n",
       "</table>\n",
       "</div>"
      ],
      "text/plain": [
       "                                                text        author likes  \\\n",
       "0  I had rituximab about three years ago for rhue...     ChaOliver     1   \n",
       "1  Thanks ChaOliver, glad to hear that there were...     Barnesy77     0   \n",
       "2  I have had both. I started on cyclophosphamide...      AngieB72     2   \n",
       "3  Hi AngieB72. I'm sorry that your gas transfer ...     Barnesy77     0   \n",
       "4  Hi, I also have the same diagnosis as you sinc...  Maureenpearl     0   \n",
       "\n",
       "                 time    id parent_id  \\\n",
       "0 2017-12-16 05:50:00  tc_0       p_0   \n",
       "1 2017-12-17 10:40:00   s_0      tc_0   \n",
       "2 2017-12-16 07:30:00  tc_1       p_0   \n",
       "3 2017-12-17 10:43:00   s_1      tc_1   \n",
       "4 2017-12-16 23:31:00  tc_2       p_0   \n",
       "\n",
       "                                                 url  \n",
       "0  https://healthunlocked.com/asthmalunguk-lung/p...  \n",
       "1  https://healthunlocked.com/asthmalunguk-lung/p...  \n",
       "2  https://healthunlocked.com/asthmalunguk-lung/p...  \n",
       "3  https://healthunlocked.com/asthmalunguk-lung/p...  \n",
       "4  https://healthunlocked.com/asthmalunguk-lung/p...  "
      ]
     },
     "execution_count": 32,
     "metadata": {},
     "output_type": "execute_result"
    }
   ],
   "source": [
    "df_com_lun.head()"
   ]
  },
  {
   "cell_type": "markdown",
   "id": "28751d11",
   "metadata": {},
   "source": [
    "### Check duplicates"
   ]
  },
  {
   "cell_type": "code",
   "execution_count": 38,
   "id": "06dff297",
   "metadata": {},
   "outputs": [
    {
     "data": {
      "text/plain": [
       "0"
      ]
     },
     "execution_count": 38,
     "metadata": {},
     "output_type": "execute_result"
    }
   ],
   "source": [
    "df_post_a.isna().any().sum()"
   ]
  },
  {
   "cell_type": "code",
   "execution_count": 29,
   "id": "86b4be6c",
   "metadata": {
    "scrolled": true
   },
   "outputs": [
    {
     "data": {
      "text/html": [
       "<div>\n",
       "<style scoped>\n",
       "    .dataframe tbody tr th:only-of-type {\n",
       "        vertical-align: middle;\n",
       "    }\n",
       "\n",
       "    .dataframe tbody tr th {\n",
       "        vertical-align: top;\n",
       "    }\n",
       "\n",
       "    .dataframe thead th {\n",
       "        text-align: right;\n",
       "    }\n",
       "</style>\n",
       "<table border=\"1\" class=\"dataframe\">\n",
       "  <thead>\n",
       "    <tr style=\"text-align: right;\">\n",
       "      <th></th>\n",
       "      <th>text</th>\n",
       "      <th>author</th>\n",
       "      <th>likes</th>\n",
       "      <th>time</th>\n",
       "      <th>id</th>\n",
       "      <th>parent_id</th>\n",
       "      <th>url</th>\n",
       "      <th>target</th>\n",
       "      <th>text_processed</th>\n",
       "    </tr>\n",
       "  </thead>\n",
       "  <tbody>\n",
       "    <tr>\n",
       "      <th>52191</th>\n",
       "      <td>NaN</td>\n",
       "      <td>frenchliz</td>\n",
       "      <td>0</td>\n",
       "      <td>2019-01-13 17:50:00</td>\n",
       "      <td>f_7827</td>\n",
       "      <td>s_18741</td>\n",
       "      <td>https://healthunlocked.com/asthmalunguk-asthma...</td>\n",
       "      <td>Oldandgray</td>\n",
       "      <td>NaN</td>\n",
       "    </tr>\n",
       "    <tr>\n",
       "      <th>59175</th>\n",
       "      <td>NaN</td>\n",
       "      <td>-Butterfly-</td>\n",
       "      <td>0</td>\n",
       "      <td>2018-07-11 22:02:00</td>\n",
       "      <td>s_21090</td>\n",
       "      <td>s_21089</td>\n",
       "      <td>https://healthunlocked.com/asthmalunguk-asthma...</td>\n",
       "      <td>Memoc</td>\n",
       "      <td>NaN</td>\n",
       "    </tr>\n",
       "    <tr>\n",
       "      <th>59357</th>\n",
       "      <td>NaN</td>\n",
       "      <td>Findingwhatworks26</td>\n",
       "      <td>1</td>\n",
       "      <td>2018-07-14 22:23:00</td>\n",
       "      <td>f_9173</td>\n",
       "      <td>f_9172</td>\n",
       "      <td>https://healthunlocked.com/asthmalunguk-asthma...</td>\n",
       "      <td>Eduardono</td>\n",
       "      <td>NaN</td>\n",
       "    </tr>\n",
       "  </tbody>\n",
       "</table>\n",
       "</div>"
      ],
      "text/plain": [
       "      text              author  likes                time       id parent_id  \\\n",
       "52191  NaN           frenchliz      0 2019-01-13 17:50:00   f_7827   s_18741   \n",
       "59175  NaN         -Butterfly-      0 2018-07-11 22:02:00  s_21090   s_21089   \n",
       "59357  NaN  Findingwhatworks26      1 2018-07-14 22:23:00   f_9173    f_9172   \n",
       "\n",
       "                                                     url      target  \\\n",
       "52191  https://healthunlocked.com/asthmalunguk-asthma...  Oldandgray   \n",
       "59175  https://healthunlocked.com/asthmalunguk-asthma...       Memoc   \n",
       "59357  https://healthunlocked.com/asthmalunguk-asthma...   Eduardono   \n",
       "\n",
       "      text_processed  \n",
       "52191            NaN  \n",
       "59175            NaN  \n",
       "59357            NaN  "
      ]
     },
     "execution_count": 29,
     "metadata": {},
     "output_type": "execute_result"
    }
   ],
   "source": [
    "df_com_a[df_com_a.isna().any(axis = 1)]"
   ]
  },
  {
   "cell_type": "code",
   "execution_count": 62,
   "id": "a771327e",
   "metadata": {},
   "outputs": [
    {
     "data": {
      "text/html": [
       "<div>\n",
       "<style scoped>\n",
       "    .dataframe tbody tr th:only-of-type {\n",
       "        vertical-align: middle;\n",
       "    }\n",
       "\n",
       "    .dataframe tbody tr th {\n",
       "        vertical-align: top;\n",
       "    }\n",
       "\n",
       "    .dataframe thead th {\n",
       "        text-align: right;\n",
       "    }\n",
       "</style>\n",
       "<table border=\"1\" class=\"dataframe\">\n",
       "  <thead>\n",
       "    <tr style=\"text-align: right;\">\n",
       "      <th></th>\n",
       "      <th>title</th>\n",
       "      <th>text</th>\n",
       "      <th>author</th>\n",
       "      <th>likes</th>\n",
       "      <th>time</th>\n",
       "      <th>id</th>\n",
       "      <th>url</th>\n",
       "      <th>replies</th>\n",
       "    </tr>\n",
       "  </thead>\n",
       "  <tbody>\n",
       "    <tr>\n",
       "      <th>3829</th>\n",
       "      <td>For Cat People</td>\n",
       "      <td>NaN</td>\n",
       "      <td>moogle</td>\n",
       "      <td>18</td>\n",
       "      <td>2017-03-07 15:01:00</td>\n",
       "      <td>p_3829</td>\n",
       "      <td>https://healthunlocked.com/asthmalunguk-lung/p...</td>\n",
       "      <td>0</td>\n",
       "    </tr>\n",
       "    <tr>\n",
       "      <th>14167</th>\n",
       "      <td>New rapid test kits have now arrived from China.</td>\n",
       "      <td>NaN</td>\n",
       "      <td>2greys</td>\n",
       "      <td>21</td>\n",
       "      <td>2020-10-23 11:15:00</td>\n",
       "      <td>p_14167</td>\n",
       "      <td>https://healthunlocked.com/asthmalunguk-lung/p...</td>\n",
       "      <td>0</td>\n",
       "    </tr>\n",
       "  </tbody>\n",
       "</table>\n",
       "</div>"
      ],
      "text/plain": [
       "                                                  title text  author  likes  \\\n",
       "3829                                     For Cat People  NaN  moogle     18   \n",
       "14167  New rapid test kits have now arrived from China.  NaN  2greys     21   \n",
       "\n",
       "                     time       id  \\\n",
       "3829  2017-03-07 15:01:00   p_3829   \n",
       "14167 2020-10-23 11:15:00  p_14167   \n",
       "\n",
       "                                                     url  replies  \n",
       "3829   https://healthunlocked.com/asthmalunguk-lung/p...        0  \n",
       "14167  https://healthunlocked.com/asthmalunguk-lung/p...        0  "
      ]
     },
     "execution_count": 62,
     "metadata": {},
     "output_type": "execute_result"
    }
   ],
   "source": [
    "df_post_l[df_post_l.isna().any(axis = 1)]"
   ]
  },
  {
   "cell_type": "code",
   "execution_count": 63,
   "id": "f5221403",
   "metadata": {
    "scrolled": true
   },
   "outputs": [
    {
     "data": {
      "text/html": [
       "<div>\n",
       "<style scoped>\n",
       "    .dataframe tbody tr th:only-of-type {\n",
       "        vertical-align: middle;\n",
       "    }\n",
       "\n",
       "    .dataframe tbody tr th {\n",
       "        vertical-align: top;\n",
       "    }\n",
       "\n",
       "    .dataframe thead th {\n",
       "        text-align: right;\n",
       "    }\n",
       "</style>\n",
       "<table border=\"1\" class=\"dataframe\">\n",
       "  <thead>\n",
       "    <tr style=\"text-align: right;\">\n",
       "      <th></th>\n",
       "      <th>text</th>\n",
       "      <th>author</th>\n",
       "      <th>likes</th>\n",
       "      <th>time</th>\n",
       "      <th>id</th>\n",
       "      <th>parent_id</th>\n",
       "      <th>url</th>\n",
       "      <th>target</th>\n",
       "    </tr>\n",
       "  </thead>\n",
       "  <tbody>\n",
       "    <tr>\n",
       "      <th>7579</th>\n",
       "      <td>NaN</td>\n",
       "      <td>mellyme</td>\n",
       "      <td>0</td>\n",
       "      <td>2017-11-01 02:00:00</td>\n",
       "      <td>s_2720</td>\n",
       "      <td>s_2719</td>\n",
       "      <td>https://healthunlocked.com/asthmalunguk-lung/p...</td>\n",
       "      <td>Jolyn</td>\n",
       "    </tr>\n",
       "    <tr>\n",
       "      <th>7619</th>\n",
       "      <td>NaN</td>\n",
       "      <td>O2Trees</td>\n",
       "      <td>0</td>\n",
       "      <td>2017-10-30 22:28:00</td>\n",
       "      <td>f_959</td>\n",
       "      <td>f_958</td>\n",
       "      <td>https://healthunlocked.com/asthmalunguk-lung/p...</td>\n",
       "      <td>helingmic</td>\n",
       "    </tr>\n",
       "    <tr>\n",
       "      <th>14111</th>\n",
       "      <td>NaN</td>\n",
       "      <td>mrsmummy</td>\n",
       "      <td>2</td>\n",
       "      <td>2017-09-26 17:19:00</td>\n",
       "      <td>tc_7334</td>\n",
       "      <td>p_1156</td>\n",
       "      <td>https://healthunlocked.com/asthmalunguk-lung/p...</td>\n",
       "      <td>Hidden</td>\n",
       "    </tr>\n",
       "    <tr>\n",
       "      <th>14291</th>\n",
       "      <td>NaN</td>\n",
       "      <td>Lin76</td>\n",
       "      <td>2</td>\n",
       "      <td>2017-09-25 20:15:00</td>\n",
       "      <td>s_5068</td>\n",
       "      <td>s_5068</td>\n",
       "      <td>https://healthunlocked.com/asthmalunguk-lung/p...</td>\n",
       "      <td>Lin76</td>\n",
       "    </tr>\n",
       "    <tr>\n",
       "      <th>14294</th>\n",
       "      <td>NaN</td>\n",
       "      <td>mrsmummy</td>\n",
       "      <td>1</td>\n",
       "      <td>2017-09-25 20:16:00</td>\n",
       "      <td>s_5071</td>\n",
       "      <td>s_5070</td>\n",
       "      <td>https://healthunlocked.com/asthmalunguk-lung/p...</td>\n",
       "      <td>skischool</td>\n",
       "    </tr>\n",
       "    <tr>\n",
       "      <th>...</th>\n",
       "      <td>...</td>\n",
       "      <td>...</td>\n",
       "      <td>...</td>\n",
       "      <td>...</td>\n",
       "      <td>...</td>\n",
       "      <td>...</td>\n",
       "      <td>...</td>\n",
       "      <td>...</td>\n",
       "    </tr>\n",
       "    <tr>\n",
       "      <th>380475</th>\n",
       "      <td>NaN</td>\n",
       "      <td>mellyme</td>\n",
       "      <td>1</td>\n",
       "      <td>2018-01-10 23:39:00</td>\n",
       "      <td>s_133703</td>\n",
       "      <td>tc_204477</td>\n",
       "      <td>https://healthunlocked.com/asthmalunguk-lung/p...</td>\n",
       "      <td>BillBruce</td>\n",
       "    </tr>\n",
       "    <tr>\n",
       "      <th>380483</th>\n",
       "      <td>NaN</td>\n",
       "      <td>mellyme</td>\n",
       "      <td>0</td>\n",
       "      <td>2018-01-12 00:23:00</td>\n",
       "      <td>tc_204484</td>\n",
       "      <td>p_25582</td>\n",
       "      <td>https://healthunlocked.com/asthmalunguk-lung/p...</td>\n",
       "      <td>mellyme</td>\n",
       "    </tr>\n",
       "    <tr>\n",
       "      <th>380999</th>\n",
       "      <td>NaN</td>\n",
       "      <td>mrsmummy</td>\n",
       "      <td>1</td>\n",
       "      <td>2018-01-09 18:15:00</td>\n",
       "      <td>tc_204830</td>\n",
       "      <td>p_25625</td>\n",
       "      <td>https://healthunlocked.com/asthmalunguk-lung/p...</td>\n",
       "      <td>Trout</td>\n",
       "    </tr>\n",
       "    <tr>\n",
       "      <th>381395</th>\n",
       "      <td>NaN</td>\n",
       "      <td>mrsmummy</td>\n",
       "      <td>2</td>\n",
       "      <td>2018-01-06 11:40:00</td>\n",
       "      <td>tc_205040</td>\n",
       "      <td>p_25669</td>\n",
       "      <td>https://healthunlocked.com/asthmalunguk-lung/p...</td>\n",
       "      <td>Dmactds</td>\n",
       "    </tr>\n",
       "    <tr>\n",
       "      <th>382947</th>\n",
       "      <td>NaN</td>\n",
       "      <td>mrsmummy</td>\n",
       "      <td>1</td>\n",
       "      <td>2017-12-29 17:18:00</td>\n",
       "      <td>s_134520</td>\n",
       "      <td>tc_205924</td>\n",
       "      <td>https://healthunlocked.com/asthmalunguk-lung/p...</td>\n",
       "      <td>lKeith</td>\n",
       "    </tr>\n",
       "  </tbody>\n",
       "</table>\n",
       "<p>83 rows × 8 columns</p>\n",
       "</div>"
      ],
      "text/plain": [
       "       text    author  likes                time         id  parent_id  \\\n",
       "7579    NaN   mellyme      0 2017-11-01 02:00:00     s_2720     s_2719   \n",
       "7619    NaN   O2Trees      0 2017-10-30 22:28:00      f_959      f_958   \n",
       "14111   NaN  mrsmummy      2 2017-09-26 17:19:00    tc_7334     p_1156   \n",
       "14291   NaN     Lin76      2 2017-09-25 20:15:00     s_5068     s_5068   \n",
       "14294   NaN  mrsmummy      1 2017-09-25 20:16:00     s_5071     s_5070   \n",
       "...     ...       ...    ...                 ...        ...        ...   \n",
       "380475  NaN   mellyme      1 2018-01-10 23:39:00   s_133703  tc_204477   \n",
       "380483  NaN   mellyme      0 2018-01-12 00:23:00  tc_204484    p_25582   \n",
       "380999  NaN  mrsmummy      1 2018-01-09 18:15:00  tc_204830    p_25625   \n",
       "381395  NaN  mrsmummy      2 2018-01-06 11:40:00  tc_205040    p_25669   \n",
       "382947  NaN  mrsmummy      1 2017-12-29 17:18:00   s_134520  tc_205924   \n",
       "\n",
       "                                                      url     target  \n",
       "7579    https://healthunlocked.com/asthmalunguk-lung/p...      Jolyn  \n",
       "7619    https://healthunlocked.com/asthmalunguk-lung/p...  helingmic  \n",
       "14111   https://healthunlocked.com/asthmalunguk-lung/p...     Hidden  \n",
       "14291   https://healthunlocked.com/asthmalunguk-lung/p...      Lin76  \n",
       "14294   https://healthunlocked.com/asthmalunguk-lung/p...  skischool  \n",
       "...                                                   ...        ...  \n",
       "380475  https://healthunlocked.com/asthmalunguk-lung/p...  BillBruce  \n",
       "380483  https://healthunlocked.com/asthmalunguk-lung/p...    mellyme  \n",
       "380999  https://healthunlocked.com/asthmalunguk-lung/p...      Trout  \n",
       "381395  https://healthunlocked.com/asthmalunguk-lung/p...    Dmactds  \n",
       "382947  https://healthunlocked.com/asthmalunguk-lung/p...     lKeith  \n",
       "\n",
       "[83 rows x 8 columns]"
      ]
     },
     "execution_count": 63,
     "metadata": {},
     "output_type": "execute_result"
    }
   ],
   "source": [
    "df_com_l[df_com_l.isna().any(axis = 1)]"
   ]
  },
  {
   "cell_type": "code",
   "execution_count": 71,
   "id": "2b7c7012",
   "metadata": {},
   "outputs": [],
   "source": [
    "df_com_a = df_com_a.dropna()\n",
    "df_post_l = df_post_l.dropna()\n",
    "df_com_l = df_com_l.dropna()"
   ]
  },
  {
   "cell_type": "code",
   "execution_count": 83,
   "id": "92a0dfd0",
   "metadata": {},
   "outputs": [],
   "source": [
    "# df_com_lun.to_csv(\"./Data_lungs/df_com_clean.csv\", index = False)\n",
    "# df_posts_lun.to_csv(\"./Data_lungs/df_post_clean.csv\", index = False)\n",
    "# df_post_asthma.to_csv(\"./Data_asthma/Official/df_post_off_clean.csv\", index = False)\n",
    "# df_com_asthma.to_csv(\"./Data_asthma/Official/df_com_off_clean.csv\", index = False)"
   ]
  },
  {
   "cell_type": "markdown",
   "id": "bd424b83",
   "metadata": {},
   "source": [
    "## Analisi esplorativa    (attenti a hidden)"
   ]
  },
  {
   "cell_type": "markdown",
   "id": "8f7aab84",
   "metadata": {},
   "source": [
    "### How many hidden are there"
   ]
  },
  {
   "cell_type": "code",
   "execution_count": 87,
   "id": "3b35a627",
   "metadata": {
    "scrolled": false
   },
   "outputs": [
    {
     "name": "stdout",
     "output_type": "stream",
     "text": [
      "(42047, 7)\n",
      "(5067, 8)\n",
      "(13485, 7)\n",
      "(2104, 8)\n"
     ]
    },
    {
     "name": "stderr",
     "output_type": "stream",
     "text": [
      "<ipython-input-87-d9732d738b4a>:2: UserWarning: Boolean Series key will be reindexed to match DataFrame index.\n",
      "  print(df_posts_lun[df_com_lun[\"author\"] == \"Hidden\"].shape)\n",
      "<ipython-input-87-d9732d738b4a>:3: UserWarning: Boolean Series key will be reindexed to match DataFrame index.\n",
      "  print(df_com_asthma[df_com_lun[\"author\"] == \"Hidden\"].shape)\n",
      "<ipython-input-87-d9732d738b4a>:4: UserWarning: Boolean Series key will be reindexed to match DataFrame index.\n",
      "  print(df_post_asthma[df_com_lun[\"author\"] == \"Hidden\"].shape)\n"
     ]
    }
   ],
   "source": [
    "print(df_com_lun[df_com_lun[\"author\"] == \"Hidden\"].shape)\n",
    "print(df_posts_lun[df_com_lun[\"author\"] == \"Hidden\"].shape)\n",
    "print(df_com_asthma[df_com_lun[\"author\"] == \"Hidden\"].shape)\n",
    "print(df_post_asthma[df_com_lun[\"author\"] == \"Hidden\"].shape)"
   ]
  },
  {
   "cell_type": "markdown",
   "id": "3ef99dcd",
   "metadata": {},
   "source": [
    "## Data analysis"
   ]
  },
  {
   "cell_type": "code",
   "execution_count": 2,
   "id": "695989b5",
   "metadata": {},
   "outputs": [],
   "source": [
    "df_post_a = pd.read_csv(\"./Data_asthma/Official/df_post_off_clean.csv\", parse_dates = [\"time\"])\n",
    "df_com_a = pd.read_csv(\"./Data_asthma/Official/df_com_off_clean.csv\", parse_dates = [\"time\"])\n",
    "df_post_l = pd.read_csv(\"./Data_lungs/df_post_clean.csv\", parse_dates = [\"time\"])\n",
    "df_com_l = pd.read_csv(\"./Data_lungs/df_com_clean.csv\", parse_dates = [\"time\"])"
   ]
  },
  {
   "cell_type": "code",
   "execution_count": 3,
   "id": "86c04c36",
   "metadata": {
    "scrolled": true
   },
   "outputs": [
    {
     "name": "stdout",
     "output_type": "stream",
     "text": [
      "          Post Asthma\n",
      "La lunghezza media dei commenti è: 680.9 con deviazione standard 803.15 \n",
      "la media dei likes è 0.82 con std di 2.06\n",
      "\n",
      "          Comments Asthma\n",
      "La lunghezza media dei commenti è: 379.1 con deviazione standard 430.63 \n",
      "la media dei likes è 0.69 con std di 1.1\n",
      "\n",
      "          Post Lungs\n",
      "La lunghezza media dei commenti è: 538.99 con deviazione standard 676.23 \n",
      "la media dei likes è 6.1 con std di 9.27\n",
      "\n",
      "          Comments Lungs\n",
      "La lunghezza media dei commenti è: 226.98 con deviazione standard 288.86 \n",
      "la media dei likes è 1.22 con std di 1.88\n"
     ]
    }
   ],
   "source": [
    "print(\"          Post Asthma\")\n",
    "statistics(df_post_a)\n",
    "\n",
    "print(\"\\n          Comments Asthma\")\n",
    "statistics(df_com_a)\n",
    "\n",
    "print(\"\\n          Post Lungs\")\n",
    "statistics(df_post_l)\n",
    "\n",
    "print(\"\\n          Comments Lungs\")\n",
    "statistics(df_com_l)\n"
   ]
  },
  {
   "cell_type": "code",
   "execution_count": 6,
   "id": "003a7521",
   "metadata": {
    "scrolled": false
   },
   "outputs": [
    {
     "name": "stdout",
     "output_type": "stream",
     "text": [
      "\n",
      "          Comments Asthma\n",
      "top comments: 45240       sub comments: 29925        full indent: 11856\n",
      "\n",
      "          Comments Lungs\n",
      "top comments: 207156       sub comments: 135175        full indent: 42646\n"
     ]
    },
    {
     "data": {
      "text/plain": [
       "(207156, 135175, 42646)"
      ]
     },
     "execution_count": 6,
     "metadata": {},
     "output_type": "execute_result"
    }
   ],
   "source": [
    "print(\"\\n          Comments Asthma\")\n",
    "count_type_comments(df_com_a)\n",
    "\n",
    "print(\"\\n          Comments Lungs\")\n",
    "count_type_comments(df_com_l)"
   ]
  },
  {
   "cell_type": "code",
   "execution_count": 7,
   "id": "b0fc2ffe",
   "metadata": {},
   "outputs": [
    {
     "name": "stdout",
     "output_type": "stream",
     "text": [
      "          Post Asthma\n",
      "The dataframe contains 3198 authors\n",
      "\n",
      "          Comments Asthma\n",
      "The dataframe contains 4490 authors\n",
      "\n",
      "          Post Lungs\n",
      "The dataframe contains 6528 authors\n",
      "\n",
      "          Comments Lungs\n",
      "The dataframe contains 9210 authors\n"
     ]
    }
   ],
   "source": [
    "print(\"          Post Asthma\")\n",
    "n_authors(df_post_a)\n",
    "\n",
    "print(\"\\n          Comments Asthma\")\n",
    "n_authors(df_com_a)\n",
    "\n",
    "print(\"\\n          Post Lungs\")\n",
    "n_authors(df_post_l)\n",
    "\n",
    "print(\"\\n          Comments Lungs\")\n",
    "n_authors(df_com_l)"
   ]
  },
  {
   "cell_type": "code",
   "execution_count": 91,
   "id": "f684f242",
   "metadata": {},
   "outputs": [
    {
     "name": "stdout",
     "output_type": "stream",
     "text": [
      "          Post Asthma\n",
      "The dataframe contains data which range from 2016-01-13 12:47:00 to 2023-07-21 09:57:00\n",
      "\n",
      "          Comments Asthma\n",
      "The dataframe contains data which range from 2016-01-13 12:52:00 to 2023-10-31 22:43:00\n",
      "\n",
      "          Post Lungs\n",
      "The dataframe contains data which range from 2016-01-02 11:25:00 to 2023-07-24 06:54:00\n",
      "\n",
      "          Comments Lungs\n",
      "The dataframe contains data which range from 2016-01-02 11:50:00 to 2023-10-31 05:51:00\n"
     ]
    }
   ],
   "source": [
    "print(\"          Post Asthma\")\n",
    "max_min_date(df_post_a)\n",
    "\n",
    "print(\"\\n          Comments Asthma\")\n",
    "max_min_date(df_com_a)\n",
    "\n",
    "print(\"\\n          Post Lungs\")\n",
    "max_min_date(df_post_l)\n",
    "\n",
    "print(\"\\n          Comments Lungs\")\n",
    "max_min_date(df_com_l)\n"
   ]
  },
  {
   "cell_type": "markdown",
   "id": "f68600b2",
   "metadata": {},
   "source": [
    "### Text preprocessing"
   ]
  },
  {
   "cell_type": "code",
   "execution_count": 4,
   "id": "0aec8aab",
   "metadata": {},
   "outputs": [],
   "source": [
    "def processing(df):\n",
    "    df[\"text_processed\"] = df.text.str.lower()  \n",
    "    df[\"text_processed\"] = df[\"text_processed\"].apply(remove_whitespaces)\n",
    "    df[\"text_processed\"] = df[\"text_processed\"].apply(remove_links)\n",
    "    df[\"text_processed\"] = df[\"text_processed\"].apply(remove_emoji)\n",
    "    df[\"text_processed\"] = df[\"text_processed\"].apply(remove_com)\n",
    "    df[\"text_processed\"] = df[\"text_processed\"].apply(remove_punctuation)\n",
    "    df[\"text_processed\"] = df[\"text_processed\"].apply(removing_character_repetition)\n",
    "    df[\"text_processed\"] = df[\"text_processed\"].apply(tokenizer)\n",
    "    df[\"text_processed\"] = df[\"text_processed\"].apply(remove_stopwords)\n",
    "    df = df.join(lemmatize(df))\n",
    "    return df"
   ]
  },
  {
   "cell_type": "code",
   "execution_count": 84,
   "id": "ef900121",
   "metadata": {},
   "outputs": [
    {
     "name": "stderr",
     "output_type": "stream",
     "text": [
      "<ipython-input-4-d2655db17f4f>:2: SettingWithCopyWarning: \n",
      "A value is trying to be set on a copy of a slice from a DataFrame.\n",
      "Try using .loc[row_indexer,col_indexer] = value instead\n",
      "\n",
      "See the caveats in the documentation: https://pandas.pydata.org/pandas-docs/stable/user_guide/indexing.html#returning-a-view-versus-a-copy\n",
      "  df[\"text_processed\"] = df.text.str.lower()\n",
      "<ipython-input-4-d2655db17f4f>:3: SettingWithCopyWarning: \n",
      "A value is trying to be set on a copy of a slice from a DataFrame.\n",
      "Try using .loc[row_indexer,col_indexer] = value instead\n",
      "\n",
      "See the caveats in the documentation: https://pandas.pydata.org/pandas-docs/stable/user_guide/indexing.html#returning-a-view-versus-a-copy\n",
      "  df[\"text_processed\"] = df[\"text_processed\"].apply(remove_whitespaces)\n",
      "<ipython-input-4-d2655db17f4f>:4: SettingWithCopyWarning: \n",
      "A value is trying to be set on a copy of a slice from a DataFrame.\n",
      "Try using .loc[row_indexer,col_indexer] = value instead\n",
      "\n",
      "See the caveats in the documentation: https://pandas.pydata.org/pandas-docs/stable/user_guide/indexing.html#returning-a-view-versus-a-copy\n",
      "  df[\"text_processed\"] = df[\"text_processed\"].apply(remove_links)\n",
      "<ipython-input-4-d2655db17f4f>:5: SettingWithCopyWarning: \n",
      "A value is trying to be set on a copy of a slice from a DataFrame.\n",
      "Try using .loc[row_indexer,col_indexer] = value instead\n",
      "\n",
      "See the caveats in the documentation: https://pandas.pydata.org/pandas-docs/stable/user_guide/indexing.html#returning-a-view-versus-a-copy\n",
      "  df[\"text_processed\"] = df[\"text_processed\"].apply(remove_emoji)\n",
      "<ipython-input-4-d2655db17f4f>:6: SettingWithCopyWarning: \n",
      "A value is trying to be set on a copy of a slice from a DataFrame.\n",
      "Try using .loc[row_indexer,col_indexer] = value instead\n",
      "\n",
      "See the caveats in the documentation: https://pandas.pydata.org/pandas-docs/stable/user_guide/indexing.html#returning-a-view-versus-a-copy\n",
      "  df[\"text_processed\"] = df[\"text_processed\"].apply(remove_com)\n",
      "<ipython-input-4-d2655db17f4f>:7: SettingWithCopyWarning: \n",
      "A value is trying to be set on a copy of a slice from a DataFrame.\n",
      "Try using .loc[row_indexer,col_indexer] = value instead\n",
      "\n",
      "See the caveats in the documentation: https://pandas.pydata.org/pandas-docs/stable/user_guide/indexing.html#returning-a-view-versus-a-copy\n",
      "  df[\"text_processed\"] = df[\"text_processed\"].apply(remove_punctuation)\n",
      "<ipython-input-4-d2655db17f4f>:8: SettingWithCopyWarning: \n",
      "A value is trying to be set on a copy of a slice from a DataFrame.\n",
      "Try using .loc[row_indexer,col_indexer] = value instead\n",
      "\n",
      "See the caveats in the documentation: https://pandas.pydata.org/pandas-docs/stable/user_guide/indexing.html#returning-a-view-versus-a-copy\n",
      "  df[\"text_processed\"] = df[\"text_processed\"].apply(removing_character_repetition)\n",
      "<ipython-input-4-d2655db17f4f>:9: SettingWithCopyWarning: \n",
      "A value is trying to be set on a copy of a slice from a DataFrame.\n",
      "Try using .loc[row_indexer,col_indexer] = value instead\n",
      "\n",
      "See the caveats in the documentation: https://pandas.pydata.org/pandas-docs/stable/user_guide/indexing.html#returning-a-view-versus-a-copy\n",
      "  df[\"text_processed\"] = df[\"text_processed\"].apply(tokenizer)\n",
      "<ipython-input-4-d2655db17f4f>:10: SettingWithCopyWarning: \n",
      "A value is trying to be set on a copy of a slice from a DataFrame.\n",
      "Try using .loc[row_indexer,col_indexer] = value instead\n",
      "\n",
      "See the caveats in the documentation: https://pandas.pydata.org/pandas-docs/stable/user_guide/indexing.html#returning-a-view-versus-a-copy\n",
      "  df[\"text_processed\"] = df[\"text_processed\"].apply(remove_stopwords)\n"
     ]
    }
   ],
   "source": [
    "# df_post_a = processing(df_post_a)\n",
    "df_com_a = processing(df_com_a)\n",
    "df_post_l = processing(df_post_l)\n",
    "df_com_l = processing(df_com_l)"
   ]
  },
  {
   "cell_type": "code",
   "execution_count": 87,
   "id": "b642fd18",
   "metadata": {},
   "outputs": [
    {
     "data": {
      "text/html": [
       "<div>\n",
       "<style scoped>\n",
       "    .dataframe tbody tr th:only-of-type {\n",
       "        vertical-align: middle;\n",
       "    }\n",
       "\n",
       "    .dataframe tbody tr th {\n",
       "        vertical-align: top;\n",
       "    }\n",
       "\n",
       "    .dataframe thead th {\n",
       "        text-align: right;\n",
       "    }\n",
       "</style>\n",
       "<table border=\"1\" class=\"dataframe\">\n",
       "  <thead>\n",
       "    <tr style=\"text-align: right;\">\n",
       "      <th></th>\n",
       "      <th>text</th>\n",
       "      <th>author</th>\n",
       "      <th>likes</th>\n",
       "      <th>time</th>\n",
       "      <th>id</th>\n",
       "      <th>parent_id</th>\n",
       "      <th>url</th>\n",
       "      <th>target</th>\n",
       "      <th>text_processed</th>\n",
       "      <th>text_lemmatised</th>\n",
       "    </tr>\n",
       "  </thead>\n",
       "  <tbody>\n",
       "    <tr>\n",
       "      <th>0</th>\n",
       "      <td>It has been diagnosed that my breathlessness i...</td>\n",
       "      <td>Homely2</td>\n",
       "      <td>1</td>\n",
       "      <td>2023-07-21 12:02:00</td>\n",
       "      <td>tc_0</td>\n",
       "      <td>p_0</td>\n",
       "      <td>https://healthunlocked.com/asthmalunguk-asthma...</td>\n",
       "      <td>My_fairy</td>\n",
       "      <td>diagnosed breathlessness asthma related four t...</td>\n",
       "      <td>[diagnose, breathlessness, asthma, relate, tim...</td>\n",
       "    </tr>\n",
       "    <tr>\n",
       "      <th>1</th>\n",
       "      <td>Thanks for detailed reply</td>\n",
       "      <td>My_fairy</td>\n",
       "      <td>0</td>\n",
       "      <td>2023-07-22 08:46:00</td>\n",
       "      <td>s_0</td>\n",
       "      <td>tc_0</td>\n",
       "      <td>https://healthunlocked.com/asthmalunguk-asthma...</td>\n",
       "      <td>Homely2</td>\n",
       "      <td>thanks detailed reply</td>\n",
       "      <td>[thank, detailed, reply]</td>\n",
       "    </tr>\n",
       "    <tr>\n",
       "      <th>2</th>\n",
       "      <td>Good morning My_fairy. I was diagnosed as havi...</td>\n",
       "      <td>Bingo88</td>\n",
       "      <td>1</td>\n",
       "      <td>2023-07-22 05:41:00</td>\n",
       "      <td>tc_1</td>\n",
       "      <td>p_0</td>\n",
       "      <td>https://healthunlocked.com/asthmalunguk-asthma...</td>\n",
       "      <td>My_fairy</td>\n",
       "      <td>good morning myfairy diagnosed asthma markers ...</td>\n",
       "      <td>[good, morning, myfairy, diagnose, asthma, mar...</td>\n",
       "    </tr>\n",
       "    <tr>\n",
       "      <th>3</th>\n",
       "      <td>thanks Brian yes she did have bloods and I bel...</td>\n",
       "      <td>My_fairy</td>\n",
       "      <td>1</td>\n",
       "      <td>2023-07-22 08:48:00</td>\n",
       "      <td>s_1</td>\n",
       "      <td>tc_1</td>\n",
       "      <td>https://healthunlocked.com/asthmalunguk-asthma...</td>\n",
       "      <td>Bingo88</td>\n",
       "      <td>thanks brian yes bloods believe shows asthma m...</td>\n",
       "      <td>[thank, brian, yes, blood, believe, show, asth...</td>\n",
       "    </tr>\n",
       "    <tr>\n",
       "      <th>4</th>\n",
       "      <td>Not sure sorry I was just told there was signs...</td>\n",
       "      <td>Bingo88</td>\n",
       "      <td>1</td>\n",
       "      <td>2023-07-23 06:58:00</td>\n",
       "      <td>s_2</td>\n",
       "      <td>s_1</td>\n",
       "      <td>https://healthunlocked.com/asthmalunguk-asthma...</td>\n",
       "      <td>My_fairy</td>\n",
       "      <td>sure sorry told signs asthma blood markers tes...</td>\n",
       "      <td>[sure, sorry, tell, sign, asthma, blood, marke...</td>\n",
       "    </tr>\n",
       "    <tr>\n",
       "      <th>...</th>\n",
       "      <td>...</td>\n",
       "      <td>...</td>\n",
       "      <td>...</td>\n",
       "      <td>...</td>\n",
       "      <td>...</td>\n",
       "      <td>...</td>\n",
       "      <td>...</td>\n",
       "      <td>...</td>\n",
       "      <td>...</td>\n",
       "      <td>...</td>\n",
       "    </tr>\n",
       "    <tr>\n",
       "      <th>87013</th>\n",
       "      <td>Glad for you Tracy 1972, have yourself some re...</td>\n",
       "      <td>josephantoine</td>\n",
       "      <td>0</td>\n",
       "      <td>2016-01-13 13:35:00</td>\n",
       "      <td>tc_45235</td>\n",
       "      <td>p_9656</td>\n",
       "      <td>https://healthunlocked.com/asthmalunguk-asthma...</td>\n",
       "      <td>Tracey1972</td>\n",
       "      <td>glad tracy 1972 relaxing moments</td>\n",
       "      <td>[glad, tracy, 1972, relax, moment]</td>\n",
       "    </tr>\n",
       "    <tr>\n",
       "      <th>87014</th>\n",
       "      <td>So pleased to hear this Tracey.  Do take care ...</td>\n",
       "      <td>MaggieHP</td>\n",
       "      <td>0</td>\n",
       "      <td>2016-01-13 14:00:00</td>\n",
       "      <td>tc_45236</td>\n",
       "      <td>p_9656</td>\n",
       "      <td>https://healthunlocked.com/asthmalunguk-asthma...</td>\n",
       "      <td>Tracey1972</td>\n",
       "      <td>pleased hear tracey care though wont pamper</td>\n",
       "      <td>[pleased, hear, tracey, care, not, pamp]</td>\n",
       "    </tr>\n",
       "    <tr>\n",
       "      <th>87015</th>\n",
       "      <td>Great news Tracey keep well ♥♥♥</td>\n",
       "      <td>starveycat</td>\n",
       "      <td>0</td>\n",
       "      <td>2016-01-13 15:00:00</td>\n",
       "      <td>tc_45237</td>\n",
       "      <td>p_9656</td>\n",
       "      <td>https://healthunlocked.com/asthmalunguk-asthma...</td>\n",
       "      <td>Tracey1972</td>\n",
       "      <td>great news tracey keep</td>\n",
       "      <td>[great, news, tracey]</td>\n",
       "    </tr>\n",
       "    <tr>\n",
       "      <th>87016</th>\n",
       "      <td>So pleased for you. Take lots of care xxxx</td>\n",
       "      <td>Karjade</td>\n",
       "      <td>0</td>\n",
       "      <td>2016-01-13 16:55:00</td>\n",
       "      <td>tc_45238</td>\n",
       "      <td>p_9656</td>\n",
       "      <td>https://healthunlocked.com/asthmalunguk-asthma...</td>\n",
       "      <td>Tracey1972</td>\n",
       "      <td>pleased lots care xx</td>\n",
       "      <td>[please, lot, care, xx]</td>\n",
       "    </tr>\n",
       "    <tr>\n",
       "      <th>87017</th>\n",
       "      <td>That's great news Tracey, rest up and relax. T...</td>\n",
       "      <td>Asthma-girl</td>\n",
       "      <td>0</td>\n",
       "      <td>2016-01-13 23:20:00</td>\n",
       "      <td>tc_45239</td>\n",
       "      <td>p_9656</td>\n",
       "      <td>https://healthunlocked.com/asthmalunguk-asthma...</td>\n",
       "      <td>Tracey1972</td>\n",
       "      <td>thats great news tracey rest relax care</td>\n",
       "      <td>[s, great, news, tracey, rest, relax, care]</td>\n",
       "    </tr>\n",
       "  </tbody>\n",
       "</table>\n",
       "<p>87018 rows × 10 columns</p>\n",
       "</div>"
      ],
      "text/plain": [
       "                                                    text         author  \\\n",
       "0      It has been diagnosed that my breathlessness i...        Homely2   \n",
       "1                             Thanks for detailed reply        My_fairy   \n",
       "2      Good morning My_fairy. I was diagnosed as havi...        Bingo88   \n",
       "3      thanks Brian yes she did have bloods and I bel...       My_fairy   \n",
       "4      Not sure sorry I was just told there was signs...        Bingo88   \n",
       "...                                                  ...            ...   \n",
       "87013  Glad for you Tracy 1972, have yourself some re...  josephantoine   \n",
       "87014  So pleased to hear this Tracey.  Do take care ...       MaggieHP   \n",
       "87015                    Great news Tracey keep well ♥♥♥     starveycat   \n",
       "87016         So pleased for you. Take lots of care xxxx        Karjade   \n",
       "87017  That's great news Tracey, rest up and relax. T...    Asthma-girl   \n",
       "\n",
       "       likes                time        id parent_id  \\\n",
       "0          1 2023-07-21 12:02:00      tc_0       p_0   \n",
       "1          0 2023-07-22 08:46:00       s_0      tc_0   \n",
       "2          1 2023-07-22 05:41:00      tc_1       p_0   \n",
       "3          1 2023-07-22 08:48:00       s_1      tc_1   \n",
       "4          1 2023-07-23 06:58:00       s_2       s_1   \n",
       "...      ...                 ...       ...       ...   \n",
       "87013      0 2016-01-13 13:35:00  tc_45235    p_9656   \n",
       "87014      0 2016-01-13 14:00:00  tc_45236    p_9656   \n",
       "87015      0 2016-01-13 15:00:00  tc_45237    p_9656   \n",
       "87016      0 2016-01-13 16:55:00  tc_45238    p_9656   \n",
       "87017      0 2016-01-13 23:20:00  tc_45239    p_9656   \n",
       "\n",
       "                                                     url      target  \\\n",
       "0      https://healthunlocked.com/asthmalunguk-asthma...    My_fairy   \n",
       "1      https://healthunlocked.com/asthmalunguk-asthma...     Homely2   \n",
       "2      https://healthunlocked.com/asthmalunguk-asthma...    My_fairy   \n",
       "3      https://healthunlocked.com/asthmalunguk-asthma...     Bingo88   \n",
       "4      https://healthunlocked.com/asthmalunguk-asthma...    My_fairy   \n",
       "...                                                  ...         ...   \n",
       "87013  https://healthunlocked.com/asthmalunguk-asthma...  Tracey1972   \n",
       "87014  https://healthunlocked.com/asthmalunguk-asthma...  Tracey1972   \n",
       "87015  https://healthunlocked.com/asthmalunguk-asthma...  Tracey1972   \n",
       "87016  https://healthunlocked.com/asthmalunguk-asthma...  Tracey1972   \n",
       "87017  https://healthunlocked.com/asthmalunguk-asthma...  Tracey1972   \n",
       "\n",
       "                                          text_processed  \\\n",
       "0      diagnosed breathlessness asthma related four t...   \n",
       "1                                  thanks detailed reply   \n",
       "2      good morning myfairy diagnosed asthma markers ...   \n",
       "3      thanks brian yes bloods believe shows asthma m...   \n",
       "4      sure sorry told signs asthma blood markers tes...   \n",
       "...                                                  ...   \n",
       "87013                   glad tracy 1972 relaxing moments   \n",
       "87014        pleased hear tracey care though wont pamper   \n",
       "87015                             great news tracey keep   \n",
       "87016                               pleased lots care xx   \n",
       "87017            thats great news tracey rest relax care   \n",
       "\n",
       "                                         text_lemmatised  \n",
       "0      [diagnose, breathlessness, asthma, relate, tim...  \n",
       "1                               [thank, detailed, reply]  \n",
       "2      [good, morning, myfairy, diagnose, asthma, mar...  \n",
       "3      [thank, brian, yes, blood, believe, show, asth...  \n",
       "4      [sure, sorry, tell, sign, asthma, blood, marke...  \n",
       "...                                                  ...  \n",
       "87013                 [glad, tracy, 1972, relax, moment]  \n",
       "87014           [pleased, hear, tracey, care, not, pamp]  \n",
       "87015                              [great, news, tracey]  \n",
       "87016                            [please, lot, care, xx]  \n",
       "87017        [s, great, news, tracey, rest, relax, care]  \n",
       "\n",
       "[87018 rows x 10 columns]"
      ]
     },
     "execution_count": 87,
     "metadata": {},
     "output_type": "execute_result"
    }
   ],
   "source": [
    "df_com_a"
   ]
  },
  {
   "cell_type": "code",
   "execution_count": 88,
   "id": "9bd50997",
   "metadata": {},
   "outputs": [],
   "source": [
    "# df_com_l.to_csv(\"./Data_lungs/df_com_clean.csv\", index = False)\n",
    "# df_post_l.to_csv(\"./Data_lungs/df_post_clean.csv\", index = False)\n",
    "# df_post_a.to_csv(\"./Data_asthma/Official/df_post_off_clean.csv\", index = False)\n",
    "# df_com_a.to_csv(\"./Data_asthma/Official/df_com_off_clean.csv\", index = False)"
   ]
  },
  {
   "cell_type": "markdown",
   "id": "f9bfbede",
   "metadata": {},
   "source": [
    "### Find recipients"
   ]
  },
  {
   "cell_type": "code",
   "execution_count": 85,
   "id": "56676368",
   "metadata": {},
   "outputs": [],
   "source": [
    "author = list()\n",
    "recipient = list()\n",
    "date = list()"
   ]
  },
  {
   "cell_type": "code",
   "execution_count": 86,
   "id": "23d740dc",
   "metadata": {},
   "outputs": [],
   "source": [
    "def find_arch(row):\n",
    "    parent_id = row.parent_id\n",
    "    author.append(row.author)\n",
    "    if df_com_a[df_com_a[\"id\"] == parent_id].shape[0] == 0:\n",
    "        recipient.append(df_post_a[df_post_a[\"id\"] == parent_id].author.item())\n",
    "    else:\n",
    "        recipient.append(df_com_a[df_com_a[\"id\"] == parent_id].author.item())\n",
    "    date.append(row.time)\n",
    "    return "
   ]
  },
  {
   "cell_type": "code",
   "execution_count": 29,
   "id": "49ccb109",
   "metadata": {},
   "outputs": [],
   "source": [
    "def find_recipient_asthma(row):\n",
    "#     global i\n",
    "#     i+=1\n",
    "#     print(i, end = \"\\r\")\n",
    "    parent_id = row.parent_id\n",
    "    elif df_com_a[df_com_a[\"id\"] == parent_id].shape[0] == 0:\n",
    "        recipient = df_post_a[df_post_a[\"id\"] == parent_id].author.item()\n",
    "    else:\n",
    "        recipient = df_com_a[df_com_a[\"id\"] == parent_id].author.item()\n",
    "    return recipient\n",
    "\n",
    "def find_recipient_lungs(row):\n",
    "#     global i\n",
    "#     i+=1\n",
    "#     print(i, end = \"\\r\")\n",
    "    parent_id = row.parent_id\n",
    "    if parent_id == \"tc_59035\":\n",
    "        return None\n",
    "    elif df_com_l[df_com_l[\"id\"] == parent_id].shape[0] == 0:\n",
    "        recipient = df_post_l[df_post_l[\"id\"] == parent_id].author.item()\n",
    "    else:\n",
    "        recipient = df_com_l[df_com_l[\"id\"] == parent_id].author.item()\n",
    "    return recipient"
   ]
  },
  {
   "cell_type": "code",
   "execution_count": null,
   "id": "a3a2406f",
   "metadata": {},
   "outputs": [],
   "source": [
    "df_com_a[\"target\"] = df_com_a.apply(find_recipient, axis = 1)\n",
    "df_com_l[\"target\"] = df_com_l.apply(find_recipient, axis = 1)"
   ]
  },
  {
   "cell_type": "code",
   "execution_count": 35,
   "id": "d500f9b5",
   "metadata": {},
   "outputs": [],
   "source": [
    "#df_com_a.to_csv(\"./Data_asthma/Official/df_com_off_clean.csv\", index = False)\n",
    "# df_com_l.to_csv(\"./Data_lungs/df_com_clean.csv\", index = False)"
   ]
  },
  {
   "cell_type": "markdown",
   "id": "04b7ad3d",
   "metadata": {},
   "source": [
    "### Sentiment"
   ]
  },
  {
   "cell_type": "code",
   "execution_count": null,
   "id": "12fa4336",
   "metadata": {},
   "outputs": [],
   "source": [
    "df_a_su_u = pd.read_csv(\"/home/deduce-ubuntu/Tesi/Tesi/bozze_df_analysis_sentiment/df_a_type_interaction_su_u.csv\", parse_dates = [\"time\"])\n",
    "df_a_u_u = pd.read_csv(\"/home/deduce-ubuntu/Tesi/Tesi/bozze_df_analysis_sentiment/df_a_type_interaction_user_user.csv\", parse_dates = [\"time\"])\n",
    "df_l_su_u = pd.read_csv(\"/home/deduce-ubuntu/Tesi/Tesi/bozze_df_analysis_sentiment/df_lungs_type_interaction.csv\", parse_dates = [\"time\"])\n",
    "df_l_u_u = pd.read_csv(\"/home/deduce-ubuntu/Tesi/Tesi/bozze_df_analysis_sentiment/df_lungs_type_interaction_user_user_total.csv\",  parse_dates = [\"time\"])"
   ]
  },
  {
   "cell_type": "code",
   "execution_count": null,
   "id": "19f631fb",
   "metadata": {},
   "outputs": [],
   "source": [
    "plot_a_tot = prepare_df_sentiment_hist_series(pd.concat([df_a_su_u, df_a_u_u], ignore_index = True))\n",
    "plot_l_tot = prepare_df_sentiment_hist_series(pd.concat([df_l_su_u, df_l_u_u], ignore_index = True))"
   ]
  },
  {
   "cell_type": "code",
   "execution_count": null,
   "id": "4d87945b",
   "metadata": {},
   "outputs": [
    {
     "data": {
      "text/plain": [
       "<matplotlib.lines.Line2D at 0x7fcba0614820>"
      ]
     },
     "metadata": {},
     "output_type": "display_data"
    },
    {
     "data": {
      "image/png": "[encoded data removed]",
      "text/plain": [
       "<Figure size 1600x400 with 1 Axes>"
      ]
     },
     "metadata": {},
     "output_type": "display_data"
    }
   ],
   "source": [
    "sns.set(rc= {'figure.figsize':(16,4)})\n",
    "sns.set_style(\"whitegrid\")\n",
    "sns.color_palette(\"Paired\")\n",
    "g = sns.lineplot(data = plot_a_tot, x = 'date', y = '%', hue = 'sentiment', palette= \"tab10\")\n",
    "plt.xticks(rotation=90)\n",
    "g.axvline(x=50, color='red', linestyle='--')"
   ]
  },
  {
   "cell_type": "code",
   "execution_count": null,
   "id": "47973b28",
   "metadata": {},
   "outputs": [
    {
     "data": {
      "text/plain": [
       "<matplotlib.lines.Line2D at 0x7fcbad8f4190>"
      ]
     },
     "metadata": {},
     "output_type": "display_data"
    },
    {
     "data": {
      "image/png": "[encoded data removed]",
      "text/plain": [
       "<Figure size 1600x400 with 1 Axes>"
      ]
     },
     "metadata": {},
     "output_type": "display_data"
    }
   ],
   "source": [
    "sns.set(rc= {'figure.figsize':(16,4)})\n",
    "sns.set_style(\"whitegrid\")\n",
    "sns.color_palette(\"Paired\")\n",
    "g = sns.lineplot(data = plot_l_tot, x = 'date', y = '%', hue = 'sentiment', palette= \"tab10\")\n",
    "plt.xticks(rotation=90)\n",
    "g.axvline(x = 50, color='red', linestyle='--')"
   ]
  },
  {
   "cell_type": "code",
   "execution_count": null,
   "id": "918ef082",
   "metadata": {},
   "outputs": [],
   "source": [
    "df_a_tot = pd.concat([df_a_su_u, df_a_u_u], ignore_index = True)\n",
    "df_l_tot = pd.concat([df_l_su_u, df_l_u_u], ignore_index = True)"
   ]
  },
  {
   "cell_type": "code",
   "execution_count": null,
   "id": "2e35c67e",
   "metadata": {},
   "outputs": [
    {
     "data": {
      "text/plain": [
       "<Axes: xlabel='sentiment'>"
      ]
     },
     "metadata": {},
     "output_type": "display_data"
    },
    {
     "data": {
      "image/png": "[encoded data removed]",
      "text/plain": [
       "<Figure size 1600x800 with 1 Axes>"
      ]
     },
     "metadata": {},
     "output_type": "display_data"
    }
   ],
   "source": [
    "df_l_tot[ ~ df_l_tot.duplicated(\"id\")][\"sentiment\"].value_counts().plot.bar()  #remove duplicated posts used to detect sentiment shift"
   ]
  },
  {
   "cell_type": "code",
   "execution_count": null,
   "id": "7d5aa4c6",
   "metadata": {},
   "outputs": [
    {
     "data": {
      "text/plain": [
       "<Axes: xlabel='sentiment'>"
      ]
     },
     "metadata": {},
     "output_type": "display_data"
    },
    {
     "data": {
      "image/png": "[encoded data removed]",
      "text/plain": [
       "<Figure size 1600x800 with 1 Axes>"
      ]
     },
     "metadata": {},
     "output_type": "display_data"
    }
   ],
   "source": [
    "df_a_tot[ ~ df_a_tot.duplicated(\"id\")][\"sentiment\"].value_counts().sort_values().plot.bar() #remove duplicated posts used to detect sentiment shift"
   ]
  },
  {
   "cell_type": "markdown",
   "id": "711b6c13",
   "metadata": {},
   "source": [
    "Example of sentiment for each community"
   ]
  },
  {
   "cell_type": "code",
   "execution_count": null,
   "id": "312ba636",
   "metadata": {},
   "outputs": [
    {
     "data": {
      "text/plain": [
       "'I need help as my daughter suffers with severe breathlessness and also had breathlessness attacks which are asthma attacks. I need advice from anyone howto prove this to the medical team that this is asthma and very serious as you can’t take inhaler when you are having that severe breathlessness attack and could be deadly. '"
      ]
     },
     "metadata": {},
     "output_type": "display_data"
    }
   ],
   "source": [
    "df_a_tot[df_a_tot.sentiment == 2].iloc[0].text"
   ]
  },
  {
   "cell_type": "code",
   "execution_count": null,
   "id": "1d5cb875",
   "metadata": {},
   "outputs": [
    {
     "data": {
      "text/plain": [
       "'So we could end up waiting a week for an appointment that needed A&E to deal with straight away?  It does not make sense at all?I have had a couple of A&E visits that with out O2 straight away could of been fatal! '"
      ]
     },
     "metadata": {},
     "output_type": "display_data"
    }
   ],
   "source": [
    "df_l_tot[df_l_tot.sentiment == 2].iloc[2013].text"
   ]
  }
 ],
 "metadata": {
  "kernelspec": {
   "display_name": "Python 3",
   "language": "python",
   "name": "python3"
  },
  "language_info": {
   "codemirror_mode": {
    "name": "ipython",
    "version": 3
   },
   "file_extension": ".py",
   "mimetype": "text/x-python",
   "name": "python",
   "nbconvert_exporter": "python",
   "pygments_lexer": "ipython3",
   "version": "3.10.13"
  }
 },
 "nbformat": 4,
 "nbformat_minor": 5
}
