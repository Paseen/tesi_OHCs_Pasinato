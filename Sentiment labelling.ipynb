{
 "cells": [
  {
   "cell_type": "code",
   "execution_count": 2,
   "id": "f2d84fa8",
   "metadata": {
    "scrolled": false
   },
   "outputs": [],
   "source": [
    "import glob\n",
    "import pandas as pd\n",
    "import tensorflow as tf\n",
    "from transformers import BertTokenizer, TFBertForSequenceClassification\n",
    "from transformers import InputExample, InputFeatures\n",
    "import time\n",
    "from tqdm import tqdm\n",
    "# from load_data import extract_tar, readJSONEntries\n",
    "# from data_preparation import *\n",
    "# from sentiment_analysis import bert_sentiment_pred\n",
    "import warnings\n",
    "warnings.filterwarnings('ignore')"
   ]
  },
  {
   "cell_type": "code",
   "execution_count": 2,
   "id": "fb0f6c88",
   "metadata": {},
   "outputs": [
    {
     "data": {
      "text/plain": [
       "<tensorflow.python.client.session.Session at 0x2c23c4e9160>"
      ]
     },
     "execution_count": 2,
     "metadata": {},
     "output_type": "execute_result"
    }
   ],
   "source": [
    "config = tf.compat.v1.ConfigProto()\n",
    "config.gpu_options.allow_growth = True\n",
    "config.gpu_options.per_process_gpu_memory_fraction = 0.3\n",
    "tf.compat.v1.Session(config=config)"
   ]
  },
  {
   "cell_type": "code",
   "execution_count": 3,
   "id": "7ba84a5c",
   "metadata": {},
   "outputs": [
    {
     "name": "stdout",
     "output_type": "stream",
     "text": [
      "['/device:CPU:0']\n"
     ]
    }
   ],
   "source": [
    "from tensorflow.python.client import device_lib\n",
    "def get_available_devices():\n",
    "    local_device_protos = device_lib.list_local_devices()\n",
    "    return [x.name for x in local_device_protos]\n",
    "print(get_available_devices()) "
   ]
  },
  {
   "cell_type": "code",
   "execution_count": null,
   "id": "8291a0d5",
   "metadata": {
    "scrolled": true
   },
   "outputs": [],
   "source": [
    "tokenizer = BertTokenizer.from_pretrained(\"C:/Users/Ale/Desktop/Tesi/biobert_v1.1_pubmed/biobert_v1.1_pubmed\", from_pt = True)\n",
    "\n",
    "model = TFBertForSequenceClassification.from_pretrained(\"C:/Users/Ale/Desktop/Tesi/finetuned_model/\")"
   ]
  },
  {
   "cell_type": "code",
   "execution_count": 6,
   "id": "1bbbdb47",
   "metadata": {},
   "outputs": [],
   "source": [
    "df_com_a = pd.read_csv(\"./Data_asthma/Official/df_com_off_clean.csv\", parse_dates = [\"time\"])\n",
    "# df_com_l = pd.read_csv(\"./Data_lungs/df_com_clean.csv\", parse_dates = [\"time\"])"
   ]
  },
  {
   "cell_type": "code",
   "execution_count": 7,
   "id": "38302a5e",
   "metadata": {},
   "outputs": [
    {
     "name": "stderr",
     "output_type": "stream",
     "text": [
      "100%|██████████████████████████████████████████████████████████████████████████████| 2500/2500 [23:15<00:00,  1.79it/s]\n",
      "100%|██████████████████████████████████████████████████████████████████████████████| 2500/2500 [23:28<00:00,  1.77it/s]\n",
      "100%|██████████████████████████████████████████████████████████████████████████████| 2500/2500 [21:56<00:00,  1.90it/s]\n",
      "100%|██████████████████████████████████████████████████████████████████████████████| 2500/2500 [20:26<00:00,  2.04it/s]\n",
      "100%|██████████████████████████████████████████████████████████████████████████████| 2500/2500 [19:16<00:00,  2.16it/s]\n",
      "100%|██████████████████████████████████████████████████████████████████████████████| 2500/2500 [19:09<00:00,  2.18it/s]\n",
      "100%|██████████████████████████████████████████████████████████████████████████████| 2500/2500 [20:25<00:00,  2.04it/s]\n",
      "100%|██████████████████████████████████████████████████████████████████████████████| 2500/2500 [19:43<00:00,  2.11it/s]\n",
      "100%|██████████████████████████████████████████████████████████████████████████████| 2500/2500 [20:20<00:00,  2.05it/s]\n"
     ]
    }
   ],
   "source": [
    "df_com_a['sentiment'] = 0\n",
    "# df_com_l['sentiment'] = 0      \n",
    "for i, text in enumerate(tqdm(df['text'])):\n",
    "    tf_batch = tokenizer(text, max_length=128, padding=True, truncation=True, return_tensors='tf')\n",
    "    output = model(tf_batch)\n",
    "    tf_predictions = tf.nn.softmax(output[0], axis=-1)\n",
    "    label = tf.argmax(tf_predictions, axis=1)\n",
    "    label = label.numpy()\n",
    "    df_com_a['sentiment'].iloc[i] = label\n",
    "df_com_a.to_csv(f\"./Data_asthma/Official/df_com_off_clean.csv\", index = False)\n",
    "#     df_com_l.to_csv(f\"./Data_lungs/df_com_clean.csv\", index = False)"
   ]
  },
  {
   "cell_type": "code",
   "execution_count": 1,
   "id": "ee44ae12",
   "metadata": {},
   "outputs": [],
   "source": [
    "import multiprocessing\n",
    "import time\n",
    "from transformers import BertTokenizer, TFBertForSequenceClassification\n",
    "\n",
    "\n",
    "def bert_sentiment_pred(text, model = None):\n",
    "    name = multiprocessing.current_process().name\n",
    "    \n",
    "    print(name, 'Starting')\n",
    "    if not model:\n",
    "        tokenizer = BertTokenizer.from_pretrained(\"dmis-lab/biobert-v1.1\", from_pt = True)\n",
    "        model = TFBertForSequenceClassification.from_pretrained(\"./tesi_pretrained_SA_bio_bert/\")\n",
    "    \n",
    "    tf_batch = tokenizer(text, max_length=128, padding=True, truncation=True, return_tensors='tf')\n",
    "    result = model(tf_batch)\n",
    "    \n",
    "    print(name, 'Exiting')\n",
    "    return result"
   ]
  },
  {
   "cell_type": "code",
   "execution_count": 61,
   "id": "3be299d2",
   "metadata": {},
   "outputs": [
    {
     "data": {
      "text/plain": [
       "(87018, 10)"
      ]
     },
     "execution_count": 61,
     "metadata": {},
     "output_type": "execute_result"
    }
   ],
   "source": [
    "df_com_a.shape"
   ]
  }
 ],
 "metadata": {
  "kernelspec": {
   "display_name": "Python 3",
   "language": "python",
   "name": "python3"
  },
  "language_info": {
   "codemirror_mode": {
    "name": "ipython",
    "version": 3
   },
   "file_extension": ".py",
   "mimetype": "text/x-python",
   "name": "python",
   "nbconvert_exporter": "python",
   "pygments_lexer": "ipython3",
   "version": "3.8.8"
  }
 },
 "nbformat": 4,
 "nbformat_minor": 5
}
