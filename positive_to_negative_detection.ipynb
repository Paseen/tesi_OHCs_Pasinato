{
 "cells": [
  {
   "cell_type": "code",
   "execution_count": 1,
   "metadata": {},
   "outputs": [],
   "source": [
    "import pandas as pd"
   ]
  },
  {
   "cell_type": "code",
   "execution_count": 8,
   "metadata": {},
   "outputs": [],
   "source": [
    "def top_percentuale(df, perc):\n",
    "    length = df.shape[0]\n",
    "    end = round(length * perc)\n",
    "    return df[:end]"
   ]
  },
  {
   "cell_type": "code",
   "execution_count": 12,
   "metadata": {},
   "outputs": [],
   "source": [
    "path = \"./Df completi\"\n",
    "# infl_a = pd.read_csv(f\"{path}/influencers_asthma.csv\")\n",
    "infl_a = pd.read_csv(f\"{path}/influencers_lungs.csv\")\n",
    "top_infl_a = list(top_percentuale(infl_a, 0.01).Id)"
   ]
  },
  {
   "cell_type": "code",
   "execution_count": 13,
   "metadata": {},
   "outputs": [],
   "source": [
    "# df_a = pd.read_csv(\"Df completi/fix/df_asthma_fix.csv\")\n",
    "df_a = pd.read_csv(\"Df completi/fix/df_lungs_fix.csv\")"
   ]
  },
  {
   "cell_type": "code",
   "execution_count": 14,
   "metadata": {},
   "outputs": [],
   "source": [
    "counter = 0\n",
    "post = False\n",
    "old_post = \"\"\n",
    "for index, row in df_a.iterrows():\n",
    "    if row.id.startswith(\"p\"):\n",
    "        counter += 1\n",
    "        df_a.loc[index, \"thread\"] = counter\n",
    "    else:\n",
    "        df_a.loc[index, \"thread\"] = counter"
   ]
  },
  {
   "cell_type": "code",
   "execution_count": 15,
   "metadata": {},
   "outputs": [],
   "source": [
    "df_a[\"only_positive\"] = True\n",
    "for thread in df_a[\"thread\"].unique():\n",
    "    if 2 in df_a[df_a[\"thread\"] == thread].sentiment.unique():\n",
    "        indexes = df_a[df_a[\"thread\"] == thread].index\n",
    "        df_a.loc[indexes, \"only_positive\"] = False"
   ]
  },
  {
   "cell_type": "code",
   "execution_count": 4,
   "metadata": {},
   "outputs": [
    {
     "data": {
      "text/plain": [
       "(132257, 16)"
      ]
     },
     "execution_count": 4,
     "metadata": {},
     "output_type": "execute_result"
    }
   ],
   "source": [
    "df_a.shape"
   ]
  },
  {
   "cell_type": "code",
   "execution_count": 5,
   "metadata": {},
   "outputs": [
    {
     "data": {
      "text/plain": [
       "(595164, 13)"
      ]
     },
     "execution_count": 5,
     "metadata": {},
     "output_type": "execute_result"
    }
   ],
   "source": [
    "df_l.shape"
   ]
  },
  {
   "cell_type": "code",
   "execution_count": 17,
   "metadata": {},
   "outputs": [
    {
     "name": "stdout",
     "output_type": "stream",
     "text": [
      "sono al thread n. 208268.0\r"
     ]
    }
   ],
   "source": [
    "df_a[\"change_sentiment\"] = False\n",
    "df_a[\"n_interactions\"] = 0\n",
    "for thread in df_a.thread.unique():   #scorro i vari thread e seleziono solo gli autori con > 1 commento (in modo da vedere se c'è cambio sentiment)\n",
    "    # if df_a.iloc[0].id.startswith(\"p\"):\n",
    "    #     post_author = df_a.iloc[0].author\n",
    "    # else:\n",
    "    authors = df_a[df_a.thread == thread].author.value_counts().reset_index() \n",
    "    list_authors = authors[(authors[\"count\"] > 1)].author.unique()\n",
    "\n",
    "    if list_authors.shape == (0,):   #se non c'è nessun autore con risposte > 1 si passsa ad altro thread\n",
    "        continue\n",
    "    \n",
    "    for author in list_authors:   # controllo se tra il primo e ultimo commento dell'user c'è commento di un SUPERUSER\n",
    "        if df_a[(df_a.author == author) & (df_a.sentiment == 0) & (df_a.thread == thread)].shape[0] == 0:\n",
    "            # n_only_positive += 1\n",
    "            continue\n",
    "        indexes_comments = df_a[(df_a.thread == thread) & (df_a.author == author)].index\n",
    "        min_index = df_a[(df_a.author == author) & (df_a.sentiment == 0) & (df_a.thread == thread)].iloc[0].name\n",
    "        max_index = max(indexes_comments)\n",
    "        mid_indexes = list(range(min_index + 1, max_index))\n",
    "        mid_authors = df_a.loc[mid_indexes].author.unique()\n",
    "        presence_author = False\n",
    "        for mid_author in mid_authors:\n",
    "            if mid_author == \"Hidden\":\n",
    "                continue\n",
    "            if mid_author != author: \n",
    "                presence_author = True\n",
    "        if not presence_author:\n",
    "            continue\n",
    "        elif presence_author:   # se è presente un super user -> \n",
    "            n_interactions = 0    \n",
    "            first = True\n",
    "            negative = False\n",
    "            interaction = False\n",
    "            count_interaction = False\n",
    "            change_sentiment = False\n",
    "            mid_indexes.insert(0, min_index)  # indexes_comments[0]\n",
    "            mid_indexes.append(indexes_comments[-1])\n",
    "            for index in mid_indexes:          # scorro tra i commenti dell'autore in questione\n",
    "                if (df_a.loc[index].sentiment == 2) and (df_a.loc[index].author == author):  # se trovo commento negativo creo un flag\n",
    "                    negative = True\n",
    "                    count_interaction = True\n",
    "                if first:\n",
    "                    first = False\n",
    "                    continue\n",
    "                if df_a.loc[index].author != author:\n",
    "                    interaction = True\n",
    "                    if count_interaction:\n",
    "                        n_interactions += 1\n",
    "                        count_interaction = False\n",
    "                elif (negative) and (df_a.loc[index].sentiment == 2) and (df_a.loc[index].author == author) and interaction: #se c'è cambio di sentiment metto \"true\" in colonna tecnica\n",
    "                    change_sentiment = True \n",
    "                    ch_sentimant_idx = mid_indexes[: mid_indexes.index(index) + 1]\n",
    "                    df_a.loc[ch_sentimant_idx, \"change_sentiment\"] = True\n",
    "                    df_a.loc[ch_sentimant_idx, \"n_interactions\"] = n_interactions\n",
    "                    break\n",
    "                if  (count_interaction == False) and (df_a.loc[index].author == author):\n",
    "                    count_interaction = True \n",
    "                print(f\"sono al thread n. {thread}\", end = \"\\r\")"
   ]
  },
  {
   "cell_type": "code",
   "execution_count": 18,
   "metadata": {},
   "outputs": [],
   "source": [
    "# df_a.to_csv(\"bozze_df_analysis_sentiment/df_lungs_negative_to_positive.csv\", index = False)"
   ]
  },
  {
   "cell_type": "code",
   "execution_count": 32,
   "metadata": {},
   "outputs": [],
   "source": [
    "# df_a[df_a[\"change_sentiment\"] == True].to_csv(\"positivo a negativo.csv\")"
   ]
  },
  {
   "cell_type": "code",
   "execution_count": 2,
   "metadata": {},
   "outputs": [
    {
     "name": "stderr",
     "output_type": "stream",
     "text": [
      "/tmp/ipykernel_1509/2553562760.py:1: DtypeWarning: Columns (16) have mixed types. Specify dtype option on import or set low_memory=False.\n",
      "  df_a = pd.read_csv(\"bozze_df_analysis_sentiment/df_lungs_negative_to_positive.csv\")  #mi sono fermato qui\n"
     ]
    }
   ],
   "source": [
    "df_a = pd.read_csv(\"bozze_df_analysis_sentiment/df_lungs_negative_to_positive.csv\")  "
   ]
  },
  {
   "cell_type": "code",
   "execution_count": 3,
   "metadata": {},
   "outputs": [],
   "source": [
    "total_threads = set(df_a.thread.unique())\n",
    "change_sentiment = set(df_a[(df_a[\"change_sentiment\"] == True)].thread.unique())\n",
    "only_positive = set(df_a[(df_a[\"only_positive\"] == True)].thread.unique())\n",
    "list_threads = list((total_threads - change_sentiment) - only_positive)"
   ]
  },
  {
   "cell_type": "code",
   "execution_count": 4,
   "metadata": {},
   "outputs": [
    {
     "name": "stdout",
     "output_type": "stream",
     "text": [
      "thread n. 208267.0\r"
     ]
    }
   ],
   "source": [
    "df_a[\"type_interaction\"] = \"\"     #manca thread solo positivo come caso\n",
    "for thread in list_threads:  #list_threads: #list_threads:        #list_threads[:100]:  [27]:             #list_threads:\n",
    "    print(f\"thread n. {thread}\", end = \"\\r\")\n",
    "    cases = {}\n",
    "\n",
    "    authors = df_a[df_a.thread == thread].author.value_counts().reset_index() \n",
    "    list_authors = authors.author.unique()   #(authors[\"count\"] > 1) & \n",
    "    \n",
    "    # if list_authors.shape == (0,):   #se non c'è nessun autore con risposte > 1 si passsa ad altro thread\n",
    "    #     if authors.shape[0] != 0:\n",
    "    #         thread_index = df_a[df_a.thread == thread].index\n",
    "    #         df_a.loc[thread_index, \"type_interaction\"] = \"only_su\"\n",
    "    #         continue\n",
    "\n",
    "    for author in list_authors:\n",
    "\n",
    "        if df_a[(df_a.author == author) & (df_a.sentiment == 2) & (df_a.thread == thread)].shape[0] == 0:\n",
    "            continue   #saranno corretti dopo col \"only_positive\"\n",
    "\n",
    "        indexes_comments = df_a[(df_a.thread == thread)].index\n",
    "        min_index = df_a[(df_a.author == author) & (df_a.sentiment == 2) & (df_a.thread == thread)].iloc[0].name\n",
    "        max_index = max(indexes_comments)\n",
    "        if min_index == max_index:  #the first negative comment is also the last in the thread\n",
    "            cases[\"no_interaction\"] = True\n",
    "            continue\n",
    "        mid_indexes = list(range(min_index + 1, max_index))\n",
    "        mid_authors = df_a.loc[mid_indexes].author.unique()\n",
    "        mid_indexes.append(indexes_comments[-1])\n",
    "        interaction = False\n",
    "        change_sentiment = False\n",
    "        reply_to_su = False\n",
    "        for index in mid_indexes:\n",
    "            if df_a.loc[index].author != author:\n",
    "                interaction = True\n",
    "            # elif interaction and df_a.loc[index].sentiment == 0 and df_a.loc[index].author == author:\n",
    "            #     change_sentiment = True\n",
    "            #     ch_sentimant_idx = mid_indexes[: mid_indexes.index(index) + 1]\n",
    "            #     df_a.loc[ch_sentimant_idx, \"type_interaction\"] = \"change_sentiment\"\n",
    "            elif interaction and df_a.loc[index].author == author:\n",
    "                reply_to_su = True\n",
    "        if not interaction:\n",
    "            cases[\"no_interaction\"] = True\n",
    "        elif reply_to_su:\n",
    "            cases[\"no_change\"] = True\n",
    "        elif not reply_to_su:\n",
    "            cases[\"no_reply_to_su\"] = True\n",
    "        if \"no_change\" in cases.keys():\n",
    "            thread_index = df_a[df_a.thread == thread].index\n",
    "            df_a.loc[thread_index, \"type_interaction\"] = \"no_change\"\n",
    "    if \"no_change\" in cases.keys():\n",
    "        thread_index = df_a[df_a.thread == thread].index\n",
    "        df_a.loc[thread_index, \"type_interaction\"] = \"no_change\"\n",
    "        continue\n",
    "    if \"no_reply_to_su\" in cases.keys():\n",
    "        thread_index = df_a[df_a.thread == thread].index\n",
    "        df_a.loc[thread_index, \"type_interaction\"] = \"no_reply_to_other_user\"\n",
    "        continue\n",
    "    if \"no_interaction\" in cases.keys():\n",
    "        thread_index = df_a[df_a.thread == thread].index\n",
    "        df_a.loc[thread_index, \"type_interaction\"] = \"no_interaction\"\n",
    "        continue\n",
    "\n",
    "    # if n_only_positive == len(list_authors): #non tengo in conto dei superusers\n",
    "    #     thread_index = df_a[df_a.thread == thread].index\n",
    "    #     df_a.loc[thread_index, \"type_interaction\"] = \"only_positive\"\n",
    "    #     continue\n",
    "\n",
    "    thread_index = df_a[df_a.thread == thread].index\n",
    "    df_a.loc[thread_index, \"type_interaction\"] = \"caso_estremo\""
   ]
  },
  {
   "cell_type": "code",
   "execution_count": 5,
   "metadata": {},
   "outputs": [],
   "source": [
    "change_sentiment_index = df_a[df_a.thread.isin(df_a[df_a.change_sentiment == True].thread.unique())].index\n",
    "only_positive_index = df_a[df_a.thread.isin(df_a[df_a.only_positive == True].thread.unique())].index\n",
    "\n",
    "df_a.loc[change_sentiment_index, \"type_interaction\"] = \"change_sentiment\"\n",
    "df_a.loc[only_positive_index, \"type_interaction\"] = \"only_positive\""
   ]
  },
  {
   "cell_type": "code",
   "execution_count": 13,
   "metadata": {},
   "outputs": [],
   "source": [
    "df_a[\"is_su\"] = df_a.author.apply(lambda x: True if x in top_infl_a else False)"
   ]
  },
  {
   "cell_type": "code",
   "execution_count": 14,
   "metadata": {},
   "outputs": [
    {
     "name": "stdout",
     "output_type": "stream",
     "text": [
      "thread n. 208240.0\r"
     ]
    }
   ],
   "source": [
    "df_a[\"category_interaction\"] = \"\"\n",
    "for thread in df_a[df_a.change_sentiment == True].thread.unique():\n",
    "    df = df_a[(df_a.thread == thread) & (df_a.change_sentiment == True)]\n",
    "    authors_and_type = df[[\"author\", \"is_su\"]]\n",
    "    author_changed_sentiment = df.iloc[0].author\n",
    "    if authors_and_type[authors_and_type.author != author_changed_sentiment][\"is_su\"].unique().shape[0] == 1:  #se c'è solo su = True\n",
    "        indexes = df_a[df_a.thread == thread].index\n",
    "        df_a.loc[indexes, \"category_interaction\"] = \"only_su\"\n",
    "    else:  # se c'è sia is_su = true e is_su = false\n",
    "        indexes = df_a[df_a.thread == thread].index\n",
    "        df_a.loc[indexes, \"category_interaction\"] = \"su_&_user\"\n",
    "    print(f\"thread n. {thread}\", end = \"\\r\")"
   ]
  },
  {
   "cell_type": "code",
   "execution_count": 35,
   "metadata": {},
   "outputs": [],
   "source": [
    "# df_a.to_csv(\"bozze_df_analysis_sentiment/df_lungs_negative_to_positive.csv\", index=False)"
   ]
  },
  {
   "cell_type": "code",
   "execution_count": 23,
   "metadata": {},
   "outputs": [],
   "source": [
    "df_a = pd.read_csv(\"bozze_df_analysis_sentiment/df_lungs_negative_to_positive.csv\")"
   ]
  },
  {
   "cell_type": "code",
   "execution_count": 30,
   "metadata": {},
   "outputs": [
    {
     "name": "stdout",
     "output_type": "stream",
     "text": [
      "208272.0\r"
     ]
    }
   ],
   "source": [
    "for index in df_a[\"thread\"].unique():\n",
    "    authors = df_a[df_a[\"thread\"] == index][\"author\"].unique()\n",
    "    for author in authors:\n",
    "        indexes = df_a[df_a[\"thread\"] == index].index\n",
    "        if author in top_infl_a:\n",
    "            # print(author, index)\n",
    "            df_a.loc[indexes, \"su_in_thread\"] = True\n",
    "            break\n",
    "    print(index, end = \"\\r\")"
   ]
  },
  {
   "cell_type": "markdown",
   "metadata": {},
   "source": [
    "### BLF"
   ]
  },
  {
   "cell_type": "code",
   "execution_count": 32,
   "metadata": {},
   "outputs": [],
   "source": [
    "df_a = df_a[(df_a[\"su_in_thread\"] == True)]"
   ]
  },
  {
   "cell_type": "code",
   "execution_count": 33,
   "metadata": {},
   "outputs": [
    {
     "data": {
      "text/plain": [
       "type_interaction\n",
       "only_positive             38760\n",
       "no_reply_to_other_user    22740\n",
       "no_change                 14271\n",
       "no_interaction             5274\n",
       "change_sentiment           3010\n",
       "Name: count, dtype: int64"
      ]
     },
     "execution_count": 33,
     "metadata": {},
     "output_type": "execute_result"
    }
   ],
   "source": [
    "df_stats_type = df_a.groupby(\"thread\")[\"type_interaction\"].unique().reset_index()\n",
    "df_stats_type[\"type_interaction\"] = df_stats_type[\"type_interaction\"].apply(lambda x: x[0]) \n",
    "df_stats_type.value_counts(\"type_interaction\")"
   ]
  },
  {
   "cell_type": "code",
   "execution_count": 36,
   "metadata": {},
   "outputs": [
    {
     "data": {
      "text/plain": [
       "category_interaction\n",
       "only_su      2468\n",
       "su_&_user     542\n",
       "Name: count, dtype: int64"
      ]
     },
     "execution_count": 36,
     "metadata": {},
     "output_type": "execute_result"
    }
   ],
   "source": [
    "df_category_type = df_a[df_a.change_sentiment == True].groupby(\"thread\")[\"category_interaction\"].unique().reset_index()\n",
    "df_category_type[\"category_interaction\"] = df_category_type[\"category_interaction\"].apply(lambda x: x[0]) \n",
    "df_category_type.value_counts(\"category_interaction\")"
   ]
  },
  {
   "cell_type": "markdown",
   "metadata": {},
   "source": [
    "### Asthma UK"
   ]
  },
  {
   "cell_type": "code",
   "execution_count": 37,
   "metadata": {},
   "outputs": [],
   "source": [
    "df_a = pd.read_csv(\"bozze_df_analysis_sentiment/df_asthma_negative_to_positive.csv\")\n",
    "df_a = df_a[(df_a[\"su_in_thread\"] == True)]"
   ]
  },
  {
   "cell_type": "code",
   "execution_count": 38,
   "metadata": {},
   "outputs": [],
   "source": [
    "change_sentiment_index = df_a[df_a.thread.isin(df_a[df_a.change_sentiment == True].thread.unique())].index\n",
    "only_positive_index = df_a[df_a.thread.isin(df_a[df_a.only_positive == True].thread.unique())].index\n",
    "\n",
    "df_a.loc[change_sentiment_index, \"type_interaction\"] = \"change_sentiment\"\n",
    "df_a.loc[only_positive_index, \"type_interaction\"] = \"only_positive\""
   ]
  },
  {
   "cell_type": "code",
   "execution_count": 39,
   "metadata": {},
   "outputs": [
    {
     "data": {
      "text/plain": [
       "type_interaction\n",
       "no_reply_to_other_user    4486\n",
       "only_positive             3872\n",
       "no_change                 3512\n",
       "no_interaction            1471\n",
       "change_sentiment           715\n",
       "Name: count, dtype: int64"
      ]
     },
     "execution_count": 39,
     "metadata": {},
     "output_type": "execute_result"
    }
   ],
   "source": [
    "df_stats_type = df_a.groupby(\"thread\")[\"type_interaction\"].unique().reset_index()\n",
    "df_stats_type[\"type_interaction\"] = df_stats_type[\"type_interaction\"].apply(lambda x: x[0]) \n",
    "df_stats_type.value_counts(\"type_interaction\")"
   ]
  }
 ],
 "metadata": {
  "kernelspec": {
   "display_name": ".venv",
   "language": "python",
   "name": "python3"
  },
  "language_info": {
   "codemirror_mode": {
    "name": "ipython",
    "version": 3
   },
   "file_extension": ".py",
   "mimetype": "text/x-python",
   "name": "python",
   "nbconvert_exporter": "python",
   "pygments_lexer": "ipython3",
   "version": "3.10.13"
  }
 },
 "nbformat": 4,
 "nbformat_minor": 2
}
